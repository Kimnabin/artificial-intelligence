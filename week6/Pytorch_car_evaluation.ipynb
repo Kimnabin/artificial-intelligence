{
 "cells": [
  {
   "cell_type": "code",
   "id": "initial_id",
   "metadata": {
    "collapsed": true,
    "ExecuteTime": {
     "end_time": "2025-04-14T06:11:22.237675Z",
     "start_time": "2025-04-14T06:11:18.795115Z"
    }
   },
   "source": [
    "import pandas as pd\n",
    "import numpy as np\n",
    "import torch\n",
    "import torch.nn as nn\n",
    "import torch.optim as optim\n",
    "from torch.utils.data import Dataset, DataLoader, TensorDataset\n",
    "from sklearn.preprocessing import LabelEncoder\n",
    "from sklearn.metrics import precision_score, recall_score, f1_score, roc_auc_score, confusion_matrix, ConfusionMatrixDisplay\n",
    "\n",
    "import matplotlib.pyplot as plt\n",
    "from torchsummary import summary\n",
    "import numpy as np"
   ],
   "outputs": [],
   "execution_count": 1
  },
  {
   "metadata": {
    "ExecuteTime": {
     "end_time": "2025-04-14T06:11:22.241680Z",
     "start_time": "2025-04-14T06:11:22.238960Z"
    }
   },
   "cell_type": "code",
   "source": [
    "# 데이터 불러오기\n",
    "file_path = 'D:/K1_nam4/인공지능개론/artificial-intelligence/AI_class/artificial-intelligence/week6/DataFame/car_evaluation.csv'"
   ],
   "id": "71285478deeecbed",
   "outputs": [],
   "execution_count": 2
  },
  {
   "metadata": {
    "ExecuteTime": {
     "end_time": "2025-04-14T06:11:22.246767Z",
     "start_time": "2025-04-14T06:11:22.242763Z"
    }
   },
   "cell_type": "code",
   "source": "columns = ['buying', 'main', 'doors', 'persons', 'lug_boot', 'safety', 'output']",
   "id": "c2116372346c0b2",
   "outputs": [],
   "execution_count": 3
  },
  {
   "metadata": {
    "ExecuteTime": {
     "end_time": "2025-04-14T06:11:22.259498Z",
     "start_time": "2025-04-14T06:11:22.247805Z"
    }
   },
   "cell_type": "code",
   "source": [
    "df = pd.read_csv(file_path, header=None, names=columns)\n",
    "df.info()"
   ],
   "id": "d90468dbf0d86677",
   "outputs": [
    {
     "name": "stdout",
     "output_type": "stream",
     "text": [
      "<class 'pandas.core.frame.DataFrame'>\n",
      "RangeIndex: 1728 entries, 0 to 1727\n",
      "Data columns (total 7 columns):\n",
      " #   Column    Non-Null Count  Dtype \n",
      "---  ------    --------------  ----- \n",
      " 0   buying    1728 non-null   object\n",
      " 1   main      1728 non-null   object\n",
      " 2   doors     1728 non-null   object\n",
      " 3   persons   1728 non-null   object\n",
      " 4   lug_boot  1728 non-null   object\n",
      " 5   safety    1728 non-null   object\n",
      " 6   output    1728 non-null   object\n",
      "dtypes: object(7)\n",
      "memory usage: 94.6+ KB\n"
     ]
    }
   ],
   "execution_count": 4
  },
  {
   "metadata": {
    "ExecuteTime": {
     "end_time": "2025-04-14T06:11:22.273068Z",
     "start_time": "2025-04-14T06:11:22.260503Z"
    }
   },
   "cell_type": "code",
   "source": "df.head()",
   "id": "d55f4f3a120cea97",
   "outputs": [
    {
     "data": {
      "text/plain": [
       "  buying   main doors persons lug_boot safety output\n",
       "0  vhigh  vhigh     2       2    small    low  unacc\n",
       "1  vhigh  vhigh     2       2    small    med  unacc\n",
       "2  vhigh  vhigh     2       2    small   high  unacc\n",
       "3  vhigh  vhigh     2       2      med    low  unacc\n",
       "4  vhigh  vhigh     2       2      med    med  unacc"
      ],
      "text/html": [
       "<div>\n",
       "<style scoped>\n",
       "    .dataframe tbody tr th:only-of-type {\n",
       "        vertical-align: middle;\n",
       "    }\n",
       "\n",
       "    .dataframe tbody tr th {\n",
       "        vertical-align: top;\n",
       "    }\n",
       "\n",
       "    .dataframe thead th {\n",
       "        text-align: right;\n",
       "    }\n",
       "</style>\n",
       "<table border=\"1\" class=\"dataframe\">\n",
       "  <thead>\n",
       "    <tr style=\"text-align: right;\">\n",
       "      <th></th>\n",
       "      <th>buying</th>\n",
       "      <th>main</th>\n",
       "      <th>doors</th>\n",
       "      <th>persons</th>\n",
       "      <th>lug_boot</th>\n",
       "      <th>safety</th>\n",
       "      <th>output</th>\n",
       "    </tr>\n",
       "  </thead>\n",
       "  <tbody>\n",
       "    <tr>\n",
       "      <th>0</th>\n",
       "      <td>vhigh</td>\n",
       "      <td>vhigh</td>\n",
       "      <td>2</td>\n",
       "      <td>2</td>\n",
       "      <td>small</td>\n",
       "      <td>low</td>\n",
       "      <td>unacc</td>\n",
       "    </tr>\n",
       "    <tr>\n",
       "      <th>1</th>\n",
       "      <td>vhigh</td>\n",
       "      <td>vhigh</td>\n",
       "      <td>2</td>\n",
       "      <td>2</td>\n",
       "      <td>small</td>\n",
       "      <td>med</td>\n",
       "      <td>unacc</td>\n",
       "    </tr>\n",
       "    <tr>\n",
       "      <th>2</th>\n",
       "      <td>vhigh</td>\n",
       "      <td>vhigh</td>\n",
       "      <td>2</td>\n",
       "      <td>2</td>\n",
       "      <td>small</td>\n",
       "      <td>high</td>\n",
       "      <td>unacc</td>\n",
       "    </tr>\n",
       "    <tr>\n",
       "      <th>3</th>\n",
       "      <td>vhigh</td>\n",
       "      <td>vhigh</td>\n",
       "      <td>2</td>\n",
       "      <td>2</td>\n",
       "      <td>med</td>\n",
       "      <td>low</td>\n",
       "      <td>unacc</td>\n",
       "    </tr>\n",
       "    <tr>\n",
       "      <th>4</th>\n",
       "      <td>vhigh</td>\n",
       "      <td>vhigh</td>\n",
       "      <td>2</td>\n",
       "      <td>2</td>\n",
       "      <td>med</td>\n",
       "      <td>med</td>\n",
       "      <td>unacc</td>\n",
       "    </tr>\n",
       "  </tbody>\n",
       "</table>\n",
       "</div>"
      ]
     },
     "execution_count": 5,
     "metadata": {},
     "output_type": "execute_result"
    }
   ],
   "execution_count": 5
  },
  {
   "metadata": {
    "ExecuteTime": {
     "end_time": "2025-04-14T06:11:22.280335Z",
     "start_time": "2025-04-14T06:11:22.273068Z"
    }
   },
   "cell_type": "code",
   "source": "df.isnull().sum()",
   "id": "73920aa50b22dd20",
   "outputs": [
    {
     "data": {
      "text/plain": [
       "buying      0\n",
       "main        0\n",
       "doors       0\n",
       "persons     0\n",
       "lug_boot    0\n",
       "safety      0\n",
       "output      0\n",
       "dtype: int64"
      ]
     },
     "execution_count": 6,
     "metadata": {},
     "output_type": "execute_result"
    }
   ],
   "execution_count": 6
  },
  {
   "metadata": {
    "ExecuteTime": {
     "end_time": "2025-04-14T06:11:22.287855Z",
     "start_time": "2025-04-14T06:11:22.281592Z"
    }
   },
   "cell_type": "code",
   "source": "df.duplicated()",
   "id": "2679672050a9ca84",
   "outputs": [
    {
     "data": {
      "text/plain": [
       "0       False\n",
       "1       False\n",
       "2       False\n",
       "3       False\n",
       "4       False\n",
       "        ...  \n",
       "1723    False\n",
       "1724    False\n",
       "1725    False\n",
       "1726    False\n",
       "1727    False\n",
       "Length: 1728, dtype: bool"
      ]
     },
     "execution_count": 7,
     "metadata": {},
     "output_type": "execute_result"
    }
   ],
   "execution_count": 7
  },
  {
   "metadata": {
    "ExecuteTime": {
     "end_time": "2025-04-14T06:11:22.488932Z",
     "start_time": "2025-04-14T06:11:22.287855Z"
    }
   },
   "cell_type": "code",
   "source": [
    "fig_size = plt.rcParams[\"figure.figsize\"]\n",
    "fig_size[0] = 10\n",
    "fig_size[1] = 6\n",
    "plt.rcParams[\"figure.figsize\"] = fig_size\n",
    "df.output.value_counts().plot(kind='pie', autopct='%0.05f%%', startangle=90, shadow=False)"
   ],
   "id": "a4543881f2a29a88",
   "outputs": [
    {
     "data": {
      "text/plain": [
       "<Axes: ylabel='count'>"
      ]
     },
     "execution_count": 8,
     "metadata": {},
     "output_type": "execute_result"
    },
    {
     "data": {
      "text/plain": [
       "<Figure size 1000x600 with 1 Axes>"
      ],
      "image/png": "[encoded data removed]"
     },
     "metadata": {},
     "output_type": "display_data"
    }
   ],
   "execution_count": 8
  },
  {
   "metadata": {
    "ExecuteTime": {
     "end_time": "2025-04-14T06:11:22.496480Z",
     "start_time": "2025-04-14T06:11:22.488932Z"
    }
   },
   "cell_type": "code",
   "source": [
    " # label encoding\n",
    "label_encoder = LabelEncoder()\n",
    "for column in df.columns:\n",
    "    df[column] = label_encoder.fit_transform(df[column])"
   ],
   "id": "e39e6e007bf3e46c",
   "outputs": [],
   "execution_count": 9
  },
  {
   "metadata": {
    "ExecuteTime": {
     "end_time": "2025-04-14T06:11:22.504633Z",
     "start_time": "2025-04-14T06:11:22.497487Z"
    }
   },
   "cell_type": "code",
   "source": "df.head()",
   "id": "4c3a323ee0127631",
   "outputs": [
    {
     "data": {
      "text/plain": [
       "   buying  main  doors  persons  lug_boot  safety  output\n",
       "0       3     3      0        0         2       1       2\n",
       "1       3     3      0        0         2       2       2\n",
       "2       3     3      0        0         2       0       2\n",
       "3       3     3      0        0         1       1       2\n",
       "4       3     3      0        0         1       2       2"
      ],
      "text/html": [
       "<div>\n",
       "<style scoped>\n",
       "    .dataframe tbody tr th:only-of-type {\n",
       "        vertical-align: middle;\n",
       "    }\n",
       "\n",
       "    .dataframe tbody tr th {\n",
       "        vertical-align: top;\n",
       "    }\n",
       "\n",
       "    .dataframe thead th {\n",
       "        text-align: right;\n",
       "    }\n",
       "</style>\n",
       "<table border=\"1\" class=\"dataframe\">\n",
       "  <thead>\n",
       "    <tr style=\"text-align: right;\">\n",
       "      <th></th>\n",
       "      <th>buying</th>\n",
       "      <th>main</th>\n",
       "      <th>doors</th>\n",
       "      <th>persons</th>\n",
       "      <th>lug_boot</th>\n",
       "      <th>safety</th>\n",
       "      <th>output</th>\n",
       "    </tr>\n",
       "  </thead>\n",
       "  <tbody>\n",
       "    <tr>\n",
       "      <th>0</th>\n",
       "      <td>3</td>\n",
       "      <td>3</td>\n",
       "      <td>0</td>\n",
       "      <td>0</td>\n",
       "      <td>2</td>\n",
       "      <td>1</td>\n",
       "      <td>2</td>\n",
       "    </tr>\n",
       "    <tr>\n",
       "      <th>1</th>\n",
       "      <td>3</td>\n",
       "      <td>3</td>\n",
       "      <td>0</td>\n",
       "      <td>0</td>\n",
       "      <td>2</td>\n",
       "      <td>2</td>\n",
       "      <td>2</td>\n",
       "    </tr>\n",
       "    <tr>\n",
       "      <th>2</th>\n",
       "      <td>3</td>\n",
       "      <td>3</td>\n",
       "      <td>0</td>\n",
       "      <td>0</td>\n",
       "      <td>2</td>\n",
       "      <td>0</td>\n",
       "      <td>2</td>\n",
       "    </tr>\n",
       "    <tr>\n",
       "      <th>3</th>\n",
       "      <td>3</td>\n",
       "      <td>3</td>\n",
       "      <td>0</td>\n",
       "      <td>0</td>\n",
       "      <td>1</td>\n",
       "      <td>1</td>\n",
       "      <td>2</td>\n",
       "    </tr>\n",
       "    <tr>\n",
       "      <th>4</th>\n",
       "      <td>3</td>\n",
       "      <td>3</td>\n",
       "      <td>0</td>\n",
       "      <td>0</td>\n",
       "      <td>1</td>\n",
       "      <td>2</td>\n",
       "      <td>2</td>\n",
       "    </tr>\n",
       "  </tbody>\n",
       "</table>\n",
       "</div>"
      ]
     },
     "execution_count": 10,
     "metadata": {},
     "output_type": "execute_result"
    }
   ],
   "execution_count": 10
  },
  {
   "metadata": {
    "ExecuteTime": {
     "end_time": "2025-04-14T06:11:22.511833Z",
     "start_time": "2025-04-14T06:11:22.505673Z"
    }
   },
   "cell_type": "code",
   "source": "df.nunique()",
   "id": "378d5677d0f652a",
   "outputs": [
    {
     "data": {
      "text/plain": [
       "buying      4\n",
       "main        4\n",
       "doors       4\n",
       "persons     3\n",
       "lug_boot    3\n",
       "safety      3\n",
       "output      4\n",
       "dtype: int64"
      ]
     },
     "execution_count": 11,
     "metadata": {},
     "output_type": "execute_result"
    }
   ],
   "execution_count": 11
  },
  {
   "metadata": {
    "ExecuteTime": {
     "end_time": "2025-04-14T06:11:22.532399Z",
     "start_time": "2025-04-14T06:11:22.512916Z"
    }
   },
   "cell_type": "code",
   "source": [
    "# 데이터 분할\n",
    "X = df.drop('output', axis=1).values\n",
    "y = df['output'].values\n",
    "\n",
    "# 데이터 정규화\n",
    "from sklearn.preprocessing import StandardScaler\n",
    "scaler = StandardScaler()\n",
    "X = scaler.fit_transform(X)\n",
    "\n",
    "# train/test split\n",
    "from sklearn.model_selection import train_test_split\n",
    "X_train, X_test, y_train, y_test = train_test_split(X, y, test_size=0.2, random_state=42)\n",
    "\n",
    "X_train.shape, y_train.shape, X_test.shape, y_test.shape"
   ],
   "id": "f3173d9791339ccc",
   "outputs": [
    {
     "data": {
      "text/plain": [
       "((1382, 6), (1382,), (346, 6), (346,))"
      ]
     },
     "execution_count": 12,
     "metadata": {},
     "output_type": "execute_result"
    }
   ],
   "execution_count": 12
  },
  {
   "metadata": {
    "ExecuteTime": {
     "end_time": "2025-04-14T06:11:22.537442Z",
     "start_time": "2025-04-14T06:11:22.533407Z"
    }
   },
   "cell_type": "code",
   "source": [
    "# Convert to PyTorch tensors\n",
    "X_train_tensor = torch.tensor(X_train, dtype=torch.float32)\n",
    "y_train_tensor = torch.tensor(y_train, dtype=torch.long)\n",
    "X_test_tensor = torch.tensor(X_test, dtype=torch.float32)\n",
    "y_test_tensor = torch.tensor(y_test, dtype=torch.long)\n"
   ],
   "id": "e7adcb30ce317b45",
   "outputs": [],
   "execution_count": 13
  },
  {
   "metadata": {
    "ExecuteTime": {
     "end_time": "2025-04-14T06:11:22.543031Z",
     "start_time": "2025-04-14T06:11:22.539808Z"
    }
   },
   "cell_type": "code",
   "source": [
    "# Create DataLoader\n",
    "train_dataset = TensorDataset(X_train_tensor, y_train_tensor)\n",
    "train_loader = DataLoader(train_dataset, batch_size=32, shuffle=True)\n",
    "\n",
    "test_dataset = TensorDataset(X_test_tensor, y_test_tensor)\n",
    "test_loader = DataLoader(test_dataset, batch_size=32, shuffle=False)"
   ],
   "id": "80c3650aeef54ba7",
   "outputs": [],
   "execution_count": 14
  },
  {
   "metadata": {
    "ExecuteTime": {
     "end_time": "2025-04-14T06:11:22.548158Z",
     "start_time": "2025-04-14T06:11:22.544045Z"
    }
   },
   "cell_type": "code",
   "source": "X_train_tensor.shape, y_train_tensor.shape, X_test_tensor.shape, y_test_tensor.shape",
   "id": "ff160a7311dbb6a0",
   "outputs": [
    {
     "data": {
      "text/plain": [
       "(torch.Size([1382, 6]),\n",
       " torch.Size([1382]),\n",
       " torch.Size([346, 6]),\n",
       " torch.Size([346]))"
      ]
     },
     "execution_count": 15,
     "metadata": {},
     "output_type": "execute_result"
    }
   ],
   "execution_count": 15
  },
  {
   "metadata": {},
   "cell_type": "markdown",
   "source": "# 모델 정의",
   "id": "e66fa727678b879c"
  },
  {
   "metadata": {
    "ExecuteTime": {
     "end_time": "2025-04-14T06:11:22.554169Z",
     "start_time": "2025-04-14T06:11:22.549169Z"
    }
   },
   "cell_type": "code",
   "source": [
    "class CarEvaluationModel(nn.Module):\n",
    "    def __init__(self, input_size, num_classes):\n",
    "        super(CarEvaluationModel, self).__init__()\n",
    "        self.fc1 = nn.Linear(input_size, 64)    # input layer -> 64 neurons\n",
    "        self.fc2 = nn.Linear(64, 32)            # hidden layer -> 32 neurons\n",
    "        self.fc3 = nn.Linear(32, num_classes)   # output layer -> num_classes neurons (4 classes)\n",
    "        self.relu = nn.ReLU()                   # ReLU activation function    (ham kich hoat ReLU dung sau fc1 va fc2)\n",
    "        self.softmax = nn.Softmax(dim=1)        # 정의하지만 사용하지 않음 (softmax는 CrossEntropyLoss에 포함되어 있음)\n",
    "\n",
    "    # forward function  (순전파)\n",
    "    def forward(self, x):\n",
    "        x = self.fc1(x)\n",
    "        x = self.relu(x)\n",
    "        x = self.fc2(x)\n",
    "        x = self.relu(x)\n",
    "        x = self.fc3(x)\n",
    "        return x\n",
    "\n",
    "model = CarEvaluationModel(input_size=6, num_classes=4)\n",
    "\n",
    "# input vector 특성이 6개이고\n",
    "# 모델이 4개의 클래스를 예측하는 모델을 정의\n"
   ],
   "id": "d2109136f32c5c81",
   "outputs": [],
   "execution_count": 16
  },
  {
   "metadata": {},
   "cell_type": "markdown",
   "source": [
    " - Softmax đã được định nghĩa nhưng không được dùng trong hàm forward. Điều này là bình thường nếu bạn sử dụng nn.CrossEntropyLoss trong quá trình huấn luyện, vì CrossEntropyLoss sẽ tự động áp dụng LogSoftmax cho bạn.\n",
    "- softmax 정의 했지만 forward 에서 사용하지 않음 (softmax는 CrossEntropyLoss에 포함되어 있음). CrossEntropyLoss 자동으로 LogSoftmax 적용. \n",
    " - Nếu bạn dùng mô hình này để dự đoán (inference) và muốn có xác suất thì nên thêm: \n",
    "- 만약에 inference 할 때 확률을 원하면:\n",
    "```python\n",
    "output = model(x)\n",
    "probabilities = torch.softmax(output, dim=1)\n",
    "```\n"
   ],
   "id": "c495601e03d4f432"
  },
  {
   "metadata": {
    "ExecuteTime": {
     "end_time": "2025-04-14T06:11:24.209321Z",
     "start_time": "2025-04-14T06:11:22.555213Z"
    }
   },
   "cell_type": "code",
   "source": [
    "# 손실 함수와 최적화기법\n",
    "criterion = nn.CrossEntropyLoss()       # 다중 클래스 분류에서 사용되는 대표적인 손실 함수\n",
    "optimizer = optim.Adam(model.parameters(), lr=0.001)        # Adam은 momentum + RMSprop의 장점을 결합한 최적화 기법"
   ],
   "id": "90ff8ea5751ffd2d",
   "outputs": [],
   "execution_count": 17
  },
  {
   "metadata": {
    "ExecuteTime": {
     "end_time": "2025-04-14T06:11:29.074173Z",
     "start_time": "2025-04-14T06:11:24.210719Z"
    }
   },
   "cell_type": "code",
   "source": [
    "# 모델 학습\n",
    "# 1. 모델을 학습하기 위한 손실 함수와 최적화 기법을 정의함.\n",
    "train_losses = []               # 훈련 손실을 저장할 리스트 ( luu loss trung binh cua tung epoch khi train)\n",
    "test_accuracies = []            # 테스트 정확도를 저장할 리스트 (luu accuracy - do chinh xac cua mo hinh tren tap test)\n",
    "\n",
    "# 2. 모델을 학습하기\n",
    "num_epochs = 100                # 훈련 epoch 수\n",
    "# training loop\n",
    "for epoch in range(num_epochs):     # 각각 epoch Train/Validation loop을 수행\n",
    "    # train mode\n",
    "    model.train()           # 모델을 훈련 모드로 설정\n",
    "    running_loss = 0.0      # epoch 손실 초기화 ( dung de tich luy loss trong moi epoch)\n",
    "    \n",
    "    # minibatch loop 훈련\n",
    "    for inputs, labels in train_loader:\n",
    "        optimizer.zero_grad()           # zero the parameter gradients ( xoa gredient cu - vi PyTorch cong don theo mac dinh)\n",
    "        outputs = model(inputs)       # forward pass ( du doan dau ra tu input)\n",
    "        loss = criterion(outputs, labels)   # compute loss  ( tinh loss giua dau ra va nhan dung)\n",
    "        loss.backward()         # backward pass  ( tinh gradient bang thuat toan backpropagation)\n",
    "        optimizer.step()        # update weights ( cap nhat cac tham so - weights cua mo hinh)\n",
    "        running_loss += loss.item() # accumulate loss ( luu loss cua batch vao total loss cua epoch)\n",
    "\n",
    "    # Luu loss trung binh cua epoch\n",
    "    train_losses.append(running_loss / len(train_loader))          # calculate average loss over an epoch ( tinh va luu loss trung binh tren tat ca mini-batch trong epoch)\n",
    "\n",
    "    # validation loop\n",
    "    model.eval()        # 모델을 평가 모드로 설정 ( chuyen sang che do danh gia - tat dropout, batchnorm dung trung binh)\n",
    "    # correct, total dung de tinh do chinh xac\n",
    "    correct = 0\n",
    "    total = 0\n",
    "    \n",
    "    # Danh gia mo hinh khong dung gradient \n",
    "    with torch.no_grad():                               # gradient를 계산하지 않음 ( tat tinh toan gradient de tich kiem tai nguyen)\n",
    "        for inputs, labels in test_loader:\n",
    "            outputs = model(inputs)\n",
    "            _, predicted = torch.max(outputs.data, 1)   # chon lop co xac suat cao nhat\n",
    "            total += labels.size(0)                     # cong so luong mau\n",
    "            correct += (predicted == labels).sum().item()   # dem so luong du doan dung\n",
    "\n",
    "    # 정확수 계산하고 10 epoch마다 출력 ( tinh accuracy va in ra sau moi 10 epoch)\n",
    "    test_accuracies.append(correct / total)\n",
    "\n",
    "    if (epoch + 1) % 10 == 0:\n",
    "        print(f'Epoch [{epoch + 1}/{num_epochs}], Loss: {running_loss / len(train_loader):.4f}, Accuracy: {correct / total:.4f}')"
   ],
   "id": "39983d87cb982647",
   "outputs": [
    {
     "name": "stdout",
     "output_type": "stream",
     "text": [
      "Epoch [10/100], Loss: 0.3353, Accuracy: 0.8121\n",
      "Epoch [20/100], Loss: 0.1741, Accuracy: 0.9393\n",
      "Epoch [30/100], Loss: 0.0917, Accuracy: 0.9422\n",
      "Epoch [40/100], Loss: 0.0537, Accuracy: 0.9624\n",
      "Epoch [50/100], Loss: 0.0357, Accuracy: 0.9711\n",
      "Epoch [60/100], Loss: 0.0245, Accuracy: 0.9682\n",
      "Epoch [70/100], Loss: 0.0168, Accuracy: 0.9798\n",
      "Epoch [80/100], Loss: 0.0125, Accuracy: 0.9653\n",
      "Epoch [90/100], Loss: 0.0090, Accuracy: 0.9769\n",
      "Epoch [100/100], Loss: 0.0069, Accuracy: 0.9798\n"
     ]
    }
   ],
   "execution_count": 18
  },
  {
   "metadata": {},
   "cell_type": "markdown",
   "source": [
    "# 모델 요약\n",
    "\n",
    "\n",
    "---\n",
    "\n",
    "### ✅ 현재 코드 요약\n",
    "\n",
    "####  학습 루프 (`model.train()`)\n",
    "- 각 `batch`에 대해:\n",
    "  - `forward` → `loss` 계산 → `backward` → `optimizer.step()` 수행\n",
    "- `running_loss`를 누적해서 평균 epoch 손실 저장\n",
    "\n",
    "#### ✅ 검증 루프 (`model.eval()`)\n",
    "- `torch.no_grad()` 안에서 `forward`만 수행\n",
    "- `accuracy` 측정 (예측과 실제 비교)\n",
    "- `test_accuracies` 리스트에 저장\n",
    "\n",
    "####  10 epoch마다 출력:\n",
    "```python\n",
    "Epoch [10/100], Loss: 0.4821, Accuracy: 0.8375\n",
    "```\n",
    "\n",
    "---\n",
    "\n",
    "### 🔍 개선/확장 아이디어\n",
    "\n",
    "1. **정확도와 손실 시각화 (matplotlib)**\n",
    "   ```python\n",
    "   import matplotlib.pyplot as plt\n",
    "\n",
    "   plt.plot(train_losses, label='Train Loss')\n",
    "   plt.plot(test_accuracies, label='Test Accuracy')\n",
    "   plt.xlabel('Epoch')\n",
    "   plt.legend()\n",
    "   plt.title('Training Progress')\n",
    "   plt.show()\n",
    "   ```\n",
    "\n",
    "2. **Early Stopping** 기능 추가 (성능 향상 정체 시 조기 중단)\n",
    "\n",
    "3. **모델 저장 (최고 성능 기준)**\n",
    "   ```python\n",
    "   best_accuracy = 0.0\n",
    "   for epoch in range(num_epochs):\n",
    "       ...\n",
    "       if correct / total > best_accuracy:\n",
    "           best_accuracy = correct / total\n",
    "           torch.save(model.state_dict(), 'best_model.pth')\n",
    "   ```\n",
    "\n",
    "4. **GPU 사용 최적화**\n",
    "   - 장치 지정:\n",
    "     ```python\n",
    "     device = torch.device(\"cuda\" if torch.cuda.is_available() else \"cpu\")\n",
    "     model.to(device)\n",
    "     ```\n",
    "   - 학습/검증 loop 내에서:\n",
    "     ```python\n",
    "     inputs, labels = inputs.to(device), labels.to(device)\n",
    "     ```\n",
    "\n",
    "---\n",
    "\n",
    "필요하시면 다음도 도와드릴 수 있어요:\n",
    "- `train_loader`, `test_loader` 정의 예시\n",
    "- 학습이 느릴 경우 `tqdm`으로 progress bar 추가\n",
    "- `Confusion Matrix`, `F1-score` 계산\n",
    "\n",
    "혹시 지금 실행하고 있는 프로젝트가 자동차 평가(Car Evaluation) 관련이면, 추가로 데이터셋이나 전처리 방법도 도와드릴게요 :)"
   ],
   "id": "e034fab763c1b570"
  },
  {
   "metadata": {},
   "cell_type": "markdown",
   "source": "# 모델 평가",
   "id": "96530b73bafb8eec"
  },
  {
   "metadata": {
    "ExecuteTime": {
     "end_time": "2025-04-14T06:35:05.044073Z",
     "start_time": "2025-04-14T06:35:04.912031Z"
    }
   },
   "cell_type": "code",
   "source": [
    "model.eval() # 평가 모드로 전환\n",
    "all_labels = []\n",
    "all_preds = []\n",
    "\n",
    "# 데스이트 셋을 통해 예측\n",
    "with torch.no_grad(): # gradient를 계산하지 않음 ( tat tinh toan gradient de tich kiem tai nguyen)\n",
    "    for inputs, labels in test_loader:\n",
    "        outputs = model(inputs)     # lay ket qua dau ra (logits) tu mo hinh\n",
    "        _, predicted = torch.max(outputs.data, 1)   # tra ve chi so cua lop co gia tri cao nhat (tuc la lop duoc du doan)  \n",
    "        # lưu nhãn thật và dự đoán vào list và chuyển sang numpy\n",
    "        all_labels.extend(labels.numpy())   \n",
    "        all_preds.extend(predicted.numpy())\n",
    "        \n",
    "# convert to numpy arrays\n",
    "all_labels = np.array(all_labels)\n",
    "all_preds = np.array(all_preds)\n",
    "\n",
    "# calculate metrics - precision, recall, f1 score ( tinh cac chi so precision, recall, f1 score) danh gia mo hinh\n",
    "precision = precision_score(all_labels, all_preds, average='weighted') # ty le du doan dung trong so cac du doan duong tinh\n",
    "recall = recall_score(all_labels, all_preds, average='weighted') # ty le du doan dung trong so tat ca cac mau that su duong tinh\n",
    "f1 = f1_score(all_labels, all_preds, average='weighted') # trung binh dieu hoa giua Precision va Recall\n",
    "confusion = confusion_matrix(all_labels, all_preds) # ma tran so sanh giua du doan va thuc te (sai/le ch theo lop)\n",
    "### average='weighted' : dam bao ket qua khong bi lech neu co lop xuat hien nhieu hon lop khac\n",
    "# display confusion matrix\n",
    "disp = ConfusionMatrixDisplay(confusion, display_labels=label_encoder.classes_)\n",
    "disp.plot(cmap=plt.cm.Blues)\n",
    "plt.title('Confusion Matrix')\n",
    "plt.show()\n",
    "# print metrics\n",
    "print(f'Precision: {precision:.4f}')\n",
    "print(f'Recall: {recall:.4f}')\n",
    "print(f'F1 Score: {f1:.4f}')"
   ],
   "id": "4094101c0d8dfae4",
   "outputs": [
    {
     "data": {
      "text/plain": [
       "<Figure size 1000x600 with 2 Axes>"
      ],
      "image/png": "[encoded data removed]"
     },
     "metadata": {},
     "output_type": "display_data"
    },
    {
     "name": "stdout",
     "output_type": "stream",
     "text": [
      "Precision: 0.9828\n",
      "Recall: 0.9798\n",
      "F1 Score: 0.9801\n"
     ]
    }
   ],
   "execution_count": 22
  },
  {
   "metadata": {},
   "cell_type": "markdown",
   "source": [
    "\n",
    "---\n",
    "\n",
    "##  Đánh giá mô hình sau huấn luyện\n",
    "\n",
    "###  1. Chuyển sang chế độ đánh giá\n",
    "```python\n",
    "model.eval()\n",
    "all_labels = []\n",
    "all_preds = []\n",
    "```\n",
    "- `model.eval()`: tắt dropout, batchnorm... để đánh giá ổn định.\n",
    "- `all_labels`, `all_preds`: lưu lại nhãn thật và nhãn dự đoán của tất cả mẫu trong tập test để tính chỉ số.\n",
    "\n",
    "---\n",
    "\n",
    "###  2. Duyệt qua tập test và dự đoán\n",
    "```python\n",
    "with torch.no_grad():\n",
    "    for inputs, labels in test_loader:\n",
    "        outputs = model(inputs)\n",
    "        _, predicted = torch.max(outputs.data, 1)\n",
    "        all_labels.extend(labels.numpy())\n",
    "        all_preds.extend(predicted.numpy())\n",
    "```\n",
    "\n",
    "| Thành phần | Giải thích |\n",
    "|------------|------------|\n",
    "| `torch.no_grad()` | Tắt việc tính toán gradient để tiết kiệm bộ nhớ và tăng tốc |\n",
    "| `outputs = model(inputs)` | Lấy kết quả đầu ra (logits) từ mô hình |\n",
    "| `torch.max(..., 1)` | Trả về chỉ số của lớp có giá trị cao nhất (tức là lớp được dự đoán) |\n",
    "| `extend(...)` | Lưu nhãn thật và dự đoán vào list |\n",
    "\n",
    "---\n",
    "\n",
    "###  3. Chuyển list sang numpy array\n",
    "```python\n",
    "all_labels = np.array(all_labels)\n",
    "all_preds = np.array(all_preds)\n",
    "```\n",
    "Giúp dễ dàng sử dụng với các hàm tính toán từ `sklearn`.\n",
    "\n",
    "---\n",
    "\n",
    "###  4. Tính các chỉ số đánh giá mô hình\n",
    "```python\n",
    "precision = precision_score(all_labels, all_preds, average='weighted')\n",
    "recall = recall_score(all_labels, all_preds, average='weighted')\n",
    "f1 = f1_score(all_labels, all_preds, average='weighted')\n",
    "confusion = confusion_matrix(all_labels, all_preds)\n",
    "```\n",
    "\n",
    "| Chỉ số | Ý nghĩa |\n",
    "|--------|--------|\n",
    "| **Precision** | Tỷ lệ dự đoán đúng trong số các dự đoán dương tính |\n",
    "| **Recall** | Tỷ lệ dự đoán đúng trong số tất cả các mẫu thật sự dương tính |\n",
    "| **F1 Score** | Trung bình điều hòa giữa Precision và Recall |\n",
    "| **Confusion matrix** | Ma trận so sánh giữa dự đoán và thực tế (sai/lệch theo lớp) |\n",
    "\n",
    " `average='weighted'`: đảm bảo kết quả không bị lệch nếu có lớp xuất hiện nhiều hơn lớp khác.\n",
    "\n",
    "---\n",
    "\n",
    "###  5. Vẽ Confusion Matrix\n",
    "```python\n",
    "disp = ConfusionMatrixDisplay(confusion, display_labels=label_encoder.classes_)\n",
    "disp.plot(cmap=plt.cm.Blues)\n",
    "plt.title('Confusion Matrix')\n",
    "plt.show()\n",
    "```\n",
    "- `ConfusionMatrixDisplay`: công cụ trực quan hóa ma trận nhầm lẫn.\n",
    "- `label_encoder.classes_`: tên của từng lớp (ví dụ: ['unacc', 'acc', 'good', 'vgood'])\n",
    "\n",
    "---\n",
    "\n",
    "###  6. In ra các chỉ số đánh giá\n",
    "```python\n",
    "print(f'Precision: {precision:.4f}')\n",
    "print(f'Recall: {recall:.4f}')\n",
    "print(f'F1 Score: {f1:.4f}')\n",
    "```\n",
    "- In kết quả chính xác đến 4 chữ số sau dấu thập phân.\n",
    "\n",
    "---\n",
    "\n",
    "##  Tóm lại\n",
    "Bạn vừa:\n",
    "- Đánh giá mô hình bằng cách duyệt qua toàn bộ tập test\n",
    "- Tính **precision**, **recall**, **F1**, và **confusion matrix**\n",
    "- Vẽ biểu đồ trực quan để nhìn thấy mô hình sai ở đâu\n",
    "\n",
    "---\n",
    "\n"
   ],
   "id": "ce9aa1b25bcee762"
  },
  {
   "metadata": {},
   "cell_type": "markdown",
   "source": "",
   "id": "af873cf333cc6d2c"
  },
  {
   "metadata": {
    "ExecuteTime": {
     "end_time": "2025-04-14T06:11:29.371489Z",
     "start_time": "2025-04-14T06:11:29.208129Z"
    }
   },
   "cell_type": "code",
   "source": [
    "# plot training loss and test accuracy\n",
    "plt.figure(figsize=(12, 5))\n",
    "\n",
    "# plot training loss\n",
    "plt.subplot(1, 2, 1)\n",
    "plt.plot(train_losses, label='Training Loss')\n",
    "plt.xlabel('Epoch')\n",
    "plt.ylabel('Loss')\n",
    "plt.title('Training Loss')\n",
    "plt.legend()\n",
    "\n",
    "# plot test accuracy\n",
    "plt.subplot(1, 2, 2)\n",
    "plt.plot(test_accuracies, label='Test Accuracy', color='orange')\n",
    "plt.xlabel('Epoch')\n",
    "plt.ylabel('Accuracy')\n",
    "plt.title('Test Accuracy')\n",
    "plt.legend()\n",
    "plt.show()\n"
   ],
   "id": "8b5e9f8cb292a5f2",
   "outputs": [
    {
     "data": {
      "text/plain": [
       "<Figure size 1200x500 with 2 Axes>"
      ],
      "image/png": "[encoded data removed]"
     },
     "metadata": {},
     "output_type": "display_data"
    }
   ],
   "execution_count": 20
  }
 ],
 "metadata": {
  "kernelspec": {
   "display_name": "Python 3",
   "language": "python",
   "name": "python3"
  },
  "language_info": {
   "codemirror_mode": {
    "name": "ipython",
    "version": 2
   },
   "file_extension": ".py",
   "mimetype": "text/x-python",
   "name": "python",
   "nbconvert_exporter": "python",
   "pygments_lexer": "ipython2",
   "version": "2.7.6"
  }
 },
 "nbformat": 4,
 "nbformat_minor": 5
}
