{
 "cells": [
  {
   "cell_type": "code",
   "id": "initial_id",
   "metadata": {
    "collapsed": true,
    "ExecuteTime": {
     "end_time": "2025-04-14T07:25:59.343205Z",
     "start_time": "2025-04-14T07:25:59.339194Z"
    }
   },
   "source": [
    "import pandas as pd\n",
    "import numpy as np\n",
    "import torch\n",
    "import torch.nn as nn\n",
    "import torch.optim as optim\n",
    "from torch.utils.data import Dataset, DataLoader, TensorDataset\n",
    "from sklearn.preprocessing import LabelEncoder\n",
    "from sklearn.metrics import precision_score, recall_score, f1_score, roc_auc_score, confusion_matrix, ConfusionMatrixDisplay\n",
    "\n",
    "import matplotlib.pyplot as plt\n",
    "from torchsummary import summary\n",
    "import numpy as np\n",
    "from sklearn.metrics import confusion_matrix"
   ],
   "outputs": [],
   "execution_count": 161
  },
  {
   "metadata": {
    "ExecuteTime": {
     "end_time": "2025-04-14T07:25:59.350289Z",
     "start_time": "2025-04-14T07:25:59.345212Z"
    }
   },
   "cell_type": "code",
   "source": [
    "# Load the dataset\n",
    "data_path = 'D:/K1_nam4/인공지능개론/artificial-intelligence/AI_class/artificial-intelligence/week6/DataFame/diabetes.csv'\n",
    "df = pd.read_csv(data_path)"
   ],
   "id": "28da17d18a8c0b0b",
   "outputs": [],
   "execution_count": 162
  },
  {
   "metadata": {
    "ExecuteTime": {
     "end_time": "2025-04-14T07:25:59.357635Z",
     "start_time": "2025-04-14T07:25:59.351333Z"
    }
   },
   "cell_type": "code",
   "source": "df.info()",
   "id": "3bc26c416c45df0d",
   "outputs": [
    {
     "name": "stdout",
     "output_type": "stream",
     "text": [
      "<class 'pandas.core.frame.DataFrame'>\n",
      "RangeIndex: 768 entries, 0 to 767\n",
      "Data columns (total 9 columns):\n",
      " #   Column                    Non-Null Count  Dtype  \n",
      "---  ------                    --------------  -----  \n",
      " 0   Pregnancies               768 non-null    int64  \n",
      " 1   Glucose                   768 non-null    int64  \n",
      " 2   BloodPressure             768 non-null    int64  \n",
      " 3   SkinThickness             768 non-null    int64  \n",
      " 4   Insulin                   768 non-null    int64  \n",
      " 5   BMI                       768 non-null    float64\n",
      " 6   DiabetesPedigreeFunction  768 non-null    float64\n",
      " 7   Age                       768 non-null    int64  \n",
      " 8   Outcome                   768 non-null    int64  \n",
      "dtypes: float64(2), int64(7)\n",
      "memory usage: 54.1 KB\n"
     ]
    }
   ],
   "execution_count": 163
  },
  {
   "metadata": {
    "ExecuteTime": {
     "end_time": "2025-04-14T07:25:59.366281Z",
     "start_time": "2025-04-14T07:25:59.358643Z"
    }
   },
   "cell_type": "code",
   "source": "df.head(10)",
   "id": "4a9b4986db0b088d",
   "outputs": [
    {
     "data": {
      "text/plain": [
       "   Pregnancies  Glucose  BloodPressure  SkinThickness  Insulin   BMI  \\\n",
       "0            6      148             72             35        0  33.6   \n",
       "1            1       85             66             29        0  26.6   \n",
       "2            8      183             64              0        0  23.3   \n",
       "3            1       89             66             23       94  28.1   \n",
       "4            0      137             40             35      168  43.1   \n",
       "5            5      116             74              0        0  25.6   \n",
       "6            3       78             50             32       88  31.0   \n",
       "7           10      115              0              0        0  35.3   \n",
       "8            2      197             70             45      543  30.5   \n",
       "9            8      125             96              0        0   0.0   \n",
       "\n",
       "   DiabetesPedigreeFunction  Age  Outcome  \n",
       "0                     0.627   50        1  \n",
       "1                     0.351   31        0  \n",
       "2                     0.672   32        1  \n",
       "3                     0.167   21        0  \n",
       "4                     2.288   33        1  \n",
       "5                     0.201   30        0  \n",
       "6                     0.248   26        1  \n",
       "7                     0.134   29        0  \n",
       "8                     0.158   53        1  \n",
       "9                     0.232   54        1  "
      ],
      "text/html": [
       "<div>\n",
       "<style scoped>\n",
       "    .dataframe tbody tr th:only-of-type {\n",
       "        vertical-align: middle;\n",
       "    }\n",
       "\n",
       "    .dataframe tbody tr th {\n",
       "        vertical-align: top;\n",
       "    }\n",
       "\n",
       "    .dataframe thead th {\n",
       "        text-align: right;\n",
       "    }\n",
       "</style>\n",
       "<table border=\"1\" class=\"dataframe\">\n",
       "  <thead>\n",
       "    <tr style=\"text-align: right;\">\n",
       "      <th></th>\n",
       "      <th>Pregnancies</th>\n",
       "      <th>Glucose</th>\n",
       "      <th>BloodPressure</th>\n",
       "      <th>SkinThickness</th>\n",
       "      <th>Insulin</th>\n",
       "      <th>BMI</th>\n",
       "      <th>DiabetesPedigreeFunction</th>\n",
       "      <th>Age</th>\n",
       "      <th>Outcome</th>\n",
       "    </tr>\n",
       "  </thead>\n",
       "  <tbody>\n",
       "    <tr>\n",
       "      <th>0</th>\n",
       "      <td>6</td>\n",
       "      <td>148</td>\n",
       "      <td>72</td>\n",
       "      <td>35</td>\n",
       "      <td>0</td>\n",
       "      <td>33.6</td>\n",
       "      <td>0.627</td>\n",
       "      <td>50</td>\n",
       "      <td>1</td>\n",
       "    </tr>\n",
       "    <tr>\n",
       "      <th>1</th>\n",
       "      <td>1</td>\n",
       "      <td>85</td>\n",
       "      <td>66</td>\n",
       "      <td>29</td>\n",
       "      <td>0</td>\n",
       "      <td>26.6</td>\n",
       "      <td>0.351</td>\n",
       "      <td>31</td>\n",
       "      <td>0</td>\n",
       "    </tr>\n",
       "    <tr>\n",
       "      <th>2</th>\n",
       "      <td>8</td>\n",
       "      <td>183</td>\n",
       "      <td>64</td>\n",
       "      <td>0</td>\n",
       "      <td>0</td>\n",
       "      <td>23.3</td>\n",
       "      <td>0.672</td>\n",
       "      <td>32</td>\n",
       "      <td>1</td>\n",
       "    </tr>\n",
       "    <tr>\n",
       "      <th>3</th>\n",
       "      <td>1</td>\n",
       "      <td>89</td>\n",
       "      <td>66</td>\n",
       "      <td>23</td>\n",
       "      <td>94</td>\n",
       "      <td>28.1</td>\n",
       "      <td>0.167</td>\n",
       "      <td>21</td>\n",
       "      <td>0</td>\n",
       "    </tr>\n",
       "    <tr>\n",
       "      <th>4</th>\n",
       "      <td>0</td>\n",
       "      <td>137</td>\n",
       "      <td>40</td>\n",
       "      <td>35</td>\n",
       "      <td>168</td>\n",
       "      <td>43.1</td>\n",
       "      <td>2.288</td>\n",
       "      <td>33</td>\n",
       "      <td>1</td>\n",
       "    </tr>\n",
       "    <tr>\n",
       "      <th>5</th>\n",
       "      <td>5</td>\n",
       "      <td>116</td>\n",
       "      <td>74</td>\n",
       "      <td>0</td>\n",
       "      <td>0</td>\n",
       "      <td>25.6</td>\n",
       "      <td>0.201</td>\n",
       "      <td>30</td>\n",
       "      <td>0</td>\n",
       "    </tr>\n",
       "    <tr>\n",
       "      <th>6</th>\n",
       "      <td>3</td>\n",
       "      <td>78</td>\n",
       "      <td>50</td>\n",
       "      <td>32</td>\n",
       "      <td>88</td>\n",
       "      <td>31.0</td>\n",
       "      <td>0.248</td>\n",
       "      <td>26</td>\n",
       "      <td>1</td>\n",
       "    </tr>\n",
       "    <tr>\n",
       "      <th>7</th>\n",
       "      <td>10</td>\n",
       "      <td>115</td>\n",
       "      <td>0</td>\n",
       "      <td>0</td>\n",
       "      <td>0</td>\n",
       "      <td>35.3</td>\n",
       "      <td>0.134</td>\n",
       "      <td>29</td>\n",
       "      <td>0</td>\n",
       "    </tr>\n",
       "    <tr>\n",
       "      <th>8</th>\n",
       "      <td>2</td>\n",
       "      <td>197</td>\n",
       "      <td>70</td>\n",
       "      <td>45</td>\n",
       "      <td>543</td>\n",
       "      <td>30.5</td>\n",
       "      <td>0.158</td>\n",
       "      <td>53</td>\n",
       "      <td>1</td>\n",
       "    </tr>\n",
       "    <tr>\n",
       "      <th>9</th>\n",
       "      <td>8</td>\n",
       "      <td>125</td>\n",
       "      <td>96</td>\n",
       "      <td>0</td>\n",
       "      <td>0</td>\n",
       "      <td>0.0</td>\n",
       "      <td>0.232</td>\n",
       "      <td>54</td>\n",
       "      <td>1</td>\n",
       "    </tr>\n",
       "  </tbody>\n",
       "</table>\n",
       "</div>"
      ]
     },
     "execution_count": 164,
     "metadata": {},
     "output_type": "execute_result"
    }
   ],
   "execution_count": 164
  },
  {
   "metadata": {
    "ExecuteTime": {
     "end_time": "2025-04-14T07:25:59.372986Z",
     "start_time": "2025-04-14T07:25:59.367560Z"
    }
   },
   "cell_type": "code",
   "source": "df.duplicated()",
   "id": "67a17fa1b256571",
   "outputs": [
    {
     "data": {
      "text/plain": [
       "0      False\n",
       "1      False\n",
       "2      False\n",
       "3      False\n",
       "4      False\n",
       "       ...  \n",
       "763    False\n",
       "764    False\n",
       "765    False\n",
       "766    False\n",
       "767    False\n",
       "Length: 768, dtype: bool"
      ]
     },
     "execution_count": 165,
     "metadata": {},
     "output_type": "execute_result"
    }
   ],
   "execution_count": 165
  },
  {
   "metadata": {
    "ExecuteTime": {
     "end_time": "2025-04-14T07:25:59.420417Z",
     "start_time": "2025-04-14T07:25:59.415434Z"
    }
   },
   "cell_type": "code",
   "source": "df.isnull().sum()",
   "id": "3b7213b822a5e152",
   "outputs": [
    {
     "data": {
      "text/plain": [
       "Pregnancies                 0\n",
       "Glucose                     0\n",
       "BloodPressure               0\n",
       "SkinThickness               0\n",
       "Insulin                     0\n",
       "BMI                         0\n",
       "DiabetesPedigreeFunction    0\n",
       "Age                         0\n",
       "Outcome                     0\n",
       "dtype: int64"
      ]
     },
     "execution_count": 166,
     "metadata": {},
     "output_type": "execute_result"
    }
   ],
   "execution_count": 166
  },
  {
   "metadata": {
    "ExecuteTime": {
     "end_time": "2025-04-14T07:25:59.440476Z",
     "start_time": "2025-04-14T07:25:59.434423Z"
    }
   },
   "cell_type": "code",
   "source": "df.nunique()",
   "id": "9fef0669dfe3a0cb",
   "outputs": [
    {
     "data": {
      "text/plain": [
       "Pregnancies                  17\n",
       "Glucose                     136\n",
       "BloodPressure                47\n",
       "SkinThickness                51\n",
       "Insulin                     186\n",
       "BMI                         248\n",
       "DiabetesPedigreeFunction    517\n",
       "Age                          52\n",
       "Outcome                       2\n",
       "dtype: int64"
      ]
     },
     "execution_count": 167,
     "metadata": {},
     "output_type": "execute_result"
    }
   ],
   "execution_count": 167
  },
  {
   "metadata": {
    "ExecuteTime": {
     "end_time": "2025-04-14T07:25:59.462607Z",
     "start_time": "2025-04-14T07:25:59.444988Z"
    }
   },
   "cell_type": "code",
   "source": "df.describe()",
   "id": "cddaeadd81028158",
   "outputs": [
    {
     "data": {
      "text/plain": [
       "       Pregnancies     Glucose  BloodPressure  SkinThickness     Insulin  \\\n",
       "count   768.000000  768.000000     768.000000     768.000000  768.000000   \n",
       "mean      3.845052  120.894531      69.105469      20.536458   79.799479   \n",
       "std       3.369578   31.972618      19.355807      15.952218  115.244002   \n",
       "min       0.000000    0.000000       0.000000       0.000000    0.000000   \n",
       "25%       1.000000   99.000000      62.000000       0.000000    0.000000   \n",
       "50%       3.000000  117.000000      72.000000      23.000000   30.500000   \n",
       "75%       6.000000  140.250000      80.000000      32.000000  127.250000   \n",
       "max      17.000000  199.000000     122.000000      99.000000  846.000000   \n",
       "\n",
       "              BMI  DiabetesPedigreeFunction         Age     Outcome  \n",
       "count  768.000000                768.000000  768.000000  768.000000  \n",
       "mean    31.992578                  0.471876   33.240885    0.348958  \n",
       "std      7.884160                  0.331329   11.760232    0.476951  \n",
       "min      0.000000                  0.078000   21.000000    0.000000  \n",
       "25%     27.300000                  0.243750   24.000000    0.000000  \n",
       "50%     32.000000                  0.372500   29.000000    0.000000  \n",
       "75%     36.600000                  0.626250   41.000000    1.000000  \n",
       "max     67.100000                  2.420000   81.000000    1.000000  "
      ],
      "text/html": [
       "<div>\n",
       "<style scoped>\n",
       "    .dataframe tbody tr th:only-of-type {\n",
       "        vertical-align: middle;\n",
       "    }\n",
       "\n",
       "    .dataframe tbody tr th {\n",
       "        vertical-align: top;\n",
       "    }\n",
       "\n",
       "    .dataframe thead th {\n",
       "        text-align: right;\n",
       "    }\n",
       "</style>\n",
       "<table border=\"1\" class=\"dataframe\">\n",
       "  <thead>\n",
       "    <tr style=\"text-align: right;\">\n",
       "      <th></th>\n",
       "      <th>Pregnancies</th>\n",
       "      <th>Glucose</th>\n",
       "      <th>BloodPressure</th>\n",
       "      <th>SkinThickness</th>\n",
       "      <th>Insulin</th>\n",
       "      <th>BMI</th>\n",
       "      <th>DiabetesPedigreeFunction</th>\n",
       "      <th>Age</th>\n",
       "      <th>Outcome</th>\n",
       "    </tr>\n",
       "  </thead>\n",
       "  <tbody>\n",
       "    <tr>\n",
       "      <th>count</th>\n",
       "      <td>768.000000</td>\n",
       "      <td>768.000000</td>\n",
       "      <td>768.000000</td>\n",
       "      <td>768.000000</td>\n",
       "      <td>768.000000</td>\n",
       "      <td>768.000000</td>\n",
       "      <td>768.000000</td>\n",
       "      <td>768.000000</td>\n",
       "      <td>768.000000</td>\n",
       "    </tr>\n",
       "    <tr>\n",
       "      <th>mean</th>\n",
       "      <td>3.845052</td>\n",
       "      <td>120.894531</td>\n",
       "      <td>69.105469</td>\n",
       "      <td>20.536458</td>\n",
       "      <td>79.799479</td>\n",
       "      <td>31.992578</td>\n",
       "      <td>0.471876</td>\n",
       "      <td>33.240885</td>\n",
       "      <td>0.348958</td>\n",
       "    </tr>\n",
       "    <tr>\n",
       "      <th>std</th>\n",
       "      <td>3.369578</td>\n",
       "      <td>31.972618</td>\n",
       "      <td>19.355807</td>\n",
       "      <td>15.952218</td>\n",
       "      <td>115.244002</td>\n",
       "      <td>7.884160</td>\n",
       "      <td>0.331329</td>\n",
       "      <td>11.760232</td>\n",
       "      <td>0.476951</td>\n",
       "    </tr>\n",
       "    <tr>\n",
       "      <th>min</th>\n",
       "      <td>0.000000</td>\n",
       "      <td>0.000000</td>\n",
       "      <td>0.000000</td>\n",
       "      <td>0.000000</td>\n",
       "      <td>0.000000</td>\n",
       "      <td>0.000000</td>\n",
       "      <td>0.078000</td>\n",
       "      <td>21.000000</td>\n",
       "      <td>0.000000</td>\n",
       "    </tr>\n",
       "    <tr>\n",
       "      <th>25%</th>\n",
       "      <td>1.000000</td>\n",
       "      <td>99.000000</td>\n",
       "      <td>62.000000</td>\n",
       "      <td>0.000000</td>\n",
       "      <td>0.000000</td>\n",
       "      <td>27.300000</td>\n",
       "      <td>0.243750</td>\n",
       "      <td>24.000000</td>\n",
       "      <td>0.000000</td>\n",
       "    </tr>\n",
       "    <tr>\n",
       "      <th>50%</th>\n",
       "      <td>3.000000</td>\n",
       "      <td>117.000000</td>\n",
       "      <td>72.000000</td>\n",
       "      <td>23.000000</td>\n",
       "      <td>30.500000</td>\n",
       "      <td>32.000000</td>\n",
       "      <td>0.372500</td>\n",
       "      <td>29.000000</td>\n",
       "      <td>0.000000</td>\n",
       "    </tr>\n",
       "    <tr>\n",
       "      <th>75%</th>\n",
       "      <td>6.000000</td>\n",
       "      <td>140.250000</td>\n",
       "      <td>80.000000</td>\n",
       "      <td>32.000000</td>\n",
       "      <td>127.250000</td>\n",
       "      <td>36.600000</td>\n",
       "      <td>0.626250</td>\n",
       "      <td>41.000000</td>\n",
       "      <td>1.000000</td>\n",
       "    </tr>\n",
       "    <tr>\n",
       "      <th>max</th>\n",
       "      <td>17.000000</td>\n",
       "      <td>199.000000</td>\n",
       "      <td>122.000000</td>\n",
       "      <td>99.000000</td>\n",
       "      <td>846.000000</td>\n",
       "      <td>67.100000</td>\n",
       "      <td>2.420000</td>\n",
       "      <td>81.000000</td>\n",
       "      <td>1.000000</td>\n",
       "    </tr>\n",
       "  </tbody>\n",
       "</table>\n",
       "</div>"
      ]
     },
     "execution_count": 168,
     "metadata": {},
     "output_type": "execute_result"
    }
   ],
   "execution_count": 168
  },
  {
   "metadata": {
    "ExecuteTime": {
     "end_time": "2025-04-14T07:25:59.533020Z",
     "start_time": "2025-04-14T07:25:59.466614Z"
    }
   },
   "cell_type": "code",
   "source": [
    "# Check for class imbalance\n",
    "class_counts = df['Outcome'].value_counts()\n",
    "print(class_counts)\n",
    "# Visualize class imbalance\n",
    "plt.figure(figsize=(8, 4))\n",
    "plt.bar(class_counts.index, class_counts.values, color=['blue', 'orange'])\n",
    "plt.xticks(class_counts.index)\n",
    "plt.xlabel('Outcome')\n",
    "plt.ylabel('Count')\n",
    "plt.title('Class Imbalance in Diabetes Dataset')\n",
    "plt.show()"
   ],
   "id": "7cb8af4ba003dce1",
   "outputs": [
    {
     "name": "stdout",
     "output_type": "stream",
     "text": [
      "Outcome\n",
      "0    500\n",
      "1    268\n",
      "Name: count, dtype: int64\n"
     ]
    },
    {
     "data": {
      "text/plain": [
       "<Figure size 800x400 with 1 Axes>"
      ],
      "image/png": "[encoded data removed]"
     },
     "metadata": {},
     "output_type": "display_data"
    }
   ],
   "execution_count": 169
  },
  {
   "metadata": {
    "ExecuteTime": {
     "end_time": "2025-04-14T07:25:59.541349Z",
     "start_time": "2025-04-14T07:25:59.534402Z"
    }
   },
   "cell_type": "code",
   "source": [
    "# 데이터 분할\n",
    "X = df.drop('Outcome', axis=1).values\n",
    "y = df['Outcome'].values\n",
    "\n",
    "# 데이터 정규화\n",
    "from sklearn.preprocessing import StandardScaler\n",
    "scaler = StandardScaler()\n",
    "X = scaler.fit_transform(X)\n",
    "\n",
    "# train/test split\n",
    "from sklearn.model_selection import train_test_split\n",
    "X_train, X_test, y_train, y_test = train_test_split(X, y, test_size=0.2, random_state=42)\n",
    "\n",
    "X_train.shape, y_train.shape, X_test.shape, y_test.shape"
   ],
   "id": "194b60afaa59333a",
   "outputs": [
    {
     "data": {
      "text/plain": [
       "((614, 8), (614,), (154, 8), (154,))"
      ]
     },
     "execution_count": 170,
     "metadata": {},
     "output_type": "execute_result"
    }
   ],
   "execution_count": 170
  },
  {
   "metadata": {
    "ExecuteTime": {
     "end_time": "2025-04-14T07:25:59.563938Z",
     "start_time": "2025-04-14T07:25:59.560336Z"
    }
   },
   "cell_type": "code",
   "source": [
    "# Convert to PyTorch tensors\n",
    "X_train_tensor = torch.FloatTensor(X_train)\n",
    "y_train_tensor = torch.LongTensor(y_train)\n",
    "X_test_tensor = torch.FloatTensor(X_test)\n",
    "y_test_tensor = torch.LongTensor(y_test)"
   ],
   "id": "39580a44584765e3",
   "outputs": [],
   "execution_count": 171
  },
  {
   "metadata": {
    "ExecuteTime": {
     "end_time": "2025-04-14T07:25:59.591477Z",
     "start_time": "2025-04-14T07:25:59.587425Z"
    }
   },
   "cell_type": "code",
   "source": [
    "# Create DataLoader\n",
    "train_dataset = TensorDataset(X_train_tensor, y_train_tensor)\n",
    "test_dataset = TensorDataset(X_test_tensor, y_test_tensor)\n",
    "train_loader = DataLoader(train_dataset, batch_size=32, shuffle=True)\n",
    "test_loader = DataLoader(test_dataset, batch_size=32, shuffle=False)"
   ],
   "id": "3e73eb64ad120f43",
   "outputs": [],
   "execution_count": 172
  },
  {
   "metadata": {
    "ExecuteTime": {
     "end_time": "2025-04-14T07:25:59.645156Z",
     "start_time": "2025-04-14T07:25:59.640205Z"
    }
   },
   "cell_type": "code",
   "source": "X_train_tensor.shape, y_train_tensor.shape, X_test_tensor.shape, y_test_tensor.shape",
   "id": "2de0d74a8012b1e4",
   "outputs": [
    {
     "data": {
      "text/plain": [
       "(torch.Size([614, 8]),\n",
       " torch.Size([614]),\n",
       " torch.Size([154, 8]),\n",
       " torch.Size([154]))"
      ]
     },
     "execution_count": 173,
     "metadata": {},
     "output_type": "execute_result"
    }
   ],
   "execution_count": 173
  },
  {
   "metadata": {
    "ExecuteTime": {
     "end_time": "2025-04-14T07:25:59.737402Z",
     "start_time": "2025-04-14T07:25:59.731840Z"
    }
   },
   "cell_type": "code",
   "source": [
    "# 모델 정의\n",
    "class DiabetesModel(nn.Module):\n",
    "    def __init__(self):\n",
    "        super(DiabetesModel, self).__init__()\n",
    "        self.fc1 = nn.Linear(8, 16)\n",
    "        self.fc2 = nn.Linear(16, 8)\n",
    "        self.fc3 = nn.Linear(8, 2)\n",
    "        self.relu = nn.ReLU()\n",
    "        self.softmax = nn.Softmax(dim=1)\n",
    "\n",
    "    def forward(self, x):\n",
    "        x = self.relu(self.fc1(x))\n",
    "        x = self.relu(self.fc2(x))\n",
    "        x = self.fc3(x)\n",
    "        return self.softmax(x)\n",
    "model = DiabetesModel()"
   ],
   "id": "93e41389bc6c9fa5",
   "outputs": [],
   "execution_count": 174
  },
  {
   "metadata": {
    "ExecuteTime": {
     "end_time": "2025-04-14T07:25:59.743550Z",
     "start_time": "2025-04-14T07:25:59.738548Z"
    }
   },
   "cell_type": "code",
   "source": [
    "# 손실 함수와 옵티마이저 정의\n",
    "criterion = nn.CrossEntropyLoss()\n",
    "optimizer = optim.Adam(model.parameters(), lr=0.001)"
   ],
   "id": "53896c1cb4d6279e",
   "outputs": [],
   "execution_count": 175
  },
  {
   "metadata": {
    "ExecuteTime": {
     "end_time": "2025-04-14T07:26:02.178461Z",
     "start_time": "2025-04-14T07:25:59.753366Z"
    }
   },
   "cell_type": "code",
   "source": [
    "# 모델 확습\n",
    "train_losses = []\n",
    "train_accuracies = []\n",
    "\n",
    "num_epochs = 100\n",
    "\n",
    "for epoch in range(num_epochs):\n",
    "    model.train()\n",
    "    running_loss = 0.0\n",
    "    correct = 0\n",
    "    total = 0\n",
    "\n",
    "    for inputs, labels in train_loader:\n",
    "        optimizer.zero_grad()\n",
    "        outputs = model(inputs)\n",
    "        loss = criterion(outputs, labels)\n",
    "        loss.backward()\n",
    "        optimizer.step()\n",
    "\n",
    "        running_loss += loss.item()\n",
    "        _, predicted = torch.max(outputs.data, 1)\n",
    "        total += labels.size(0)\n",
    "        correct += (predicted == labels).sum().item()\n",
    "\n",
    "    epoch_loss = running_loss / len(train_loader)\n",
    "    epoch_accuracy = correct / total\n",
    "\n",
    "    train_losses.append(epoch_loss)\n",
    "    train_accuracies.append(epoch_accuracy)\n",
    "\n",
    "    print(f'Epoch [{epoch+1}/{num_epochs}], Loss: {epoch_loss:.4f}, Accuracy: {epoch_accuracy:.4f}')"
   ],
   "id": "499ce242fdf3ab32",
   "outputs": [
    {
     "name": "stdout",
     "output_type": "stream",
     "text": [
      "Epoch [1/100], Loss: 0.6643, Accuracy: 0.6938\n",
      "Epoch [2/100], Loss: 0.6566, Accuracy: 0.7134\n",
      "Epoch [3/100], Loss: 0.6513, Accuracy: 0.7264\n",
      "Epoch [4/100], Loss: 0.6424, Accuracy: 0.7427\n",
      "Epoch [5/100], Loss: 0.6326, Accuracy: 0.7378\n",
      "Epoch [6/100], Loss: 0.6237, Accuracy: 0.7378\n",
      "Epoch [7/100], Loss: 0.6104, Accuracy: 0.7459\n",
      "Epoch [8/100], Loss: 0.5990, Accuracy: 0.7524\n",
      "Epoch [9/100], Loss: 0.5859, Accuracy: 0.7606\n",
      "Epoch [10/100], Loss: 0.5723, Accuracy: 0.7687\n",
      "Epoch [11/100], Loss: 0.5668, Accuracy: 0.7752\n",
      "Epoch [12/100], Loss: 0.5575, Accuracy: 0.7704\n",
      "Epoch [13/100], Loss: 0.5484, Accuracy: 0.7687\n",
      "Epoch [14/100], Loss: 0.5347, Accuracy: 0.7704\n",
      "Epoch [15/100], Loss: 0.5363, Accuracy: 0.7752\n",
      "Epoch [16/100], Loss: 0.5328, Accuracy: 0.7801\n",
      "Epoch [17/100], Loss: 0.5215, Accuracy: 0.7801\n",
      "Epoch [18/100], Loss: 0.5245, Accuracy: 0.7834\n",
      "Epoch [19/100], Loss: 0.5224, Accuracy: 0.7834\n",
      "Epoch [20/100], Loss: 0.5222, Accuracy: 0.7834\n",
      "Epoch [21/100], Loss: 0.5216, Accuracy: 0.7818\n",
      "Epoch [22/100], Loss: 0.5207, Accuracy: 0.7850\n",
      "Epoch [23/100], Loss: 0.5184, Accuracy: 0.7818\n",
      "Epoch [24/100], Loss: 0.5125, Accuracy: 0.7801\n",
      "Epoch [25/100], Loss: 0.5150, Accuracy: 0.7818\n",
      "Epoch [26/100], Loss: 0.5106, Accuracy: 0.7818\n",
      "Epoch [27/100], Loss: 0.5076, Accuracy: 0.7850\n",
      "Epoch [28/100], Loss: 0.5109, Accuracy: 0.7866\n",
      "Epoch [29/100], Loss: 0.5052, Accuracy: 0.7850\n",
      "Epoch [30/100], Loss: 0.5100, Accuracy: 0.7850\n",
      "Epoch [31/100], Loss: 0.5039, Accuracy: 0.7866\n",
      "Epoch [32/100], Loss: 0.5125, Accuracy: 0.7883\n",
      "Epoch [33/100], Loss: 0.5089, Accuracy: 0.7948\n",
      "Epoch [34/100], Loss: 0.5070, Accuracy: 0.7948\n",
      "Epoch [35/100], Loss: 0.5130, Accuracy: 0.7964\n",
      "Epoch [36/100], Loss: 0.5070, Accuracy: 0.7980\n",
      "Epoch [37/100], Loss: 0.5080, Accuracy: 0.7964\n",
      "Epoch [38/100], Loss: 0.5056, Accuracy: 0.7997\n",
      "Epoch [39/100], Loss: 0.5029, Accuracy: 0.8013\n",
      "Epoch [40/100], Loss: 0.5147, Accuracy: 0.7948\n",
      "Epoch [41/100], Loss: 0.4990, Accuracy: 0.7948\n",
      "Epoch [42/100], Loss: 0.5156, Accuracy: 0.8029\n",
      "Epoch [43/100], Loss: 0.5040, Accuracy: 0.8013\n",
      "Epoch [44/100], Loss: 0.5051, Accuracy: 0.7964\n",
      "Epoch [45/100], Loss: 0.5064, Accuracy: 0.7980\n",
      "Epoch [46/100], Loss: 0.5023, Accuracy: 0.8062\n",
      "Epoch [47/100], Loss: 0.4954, Accuracy: 0.8094\n",
      "Epoch [48/100], Loss: 0.4968, Accuracy: 0.8078\n",
      "Epoch [49/100], Loss: 0.5092, Accuracy: 0.8111\n",
      "Epoch [50/100], Loss: 0.5004, Accuracy: 0.8078\n",
      "Epoch [51/100], Loss: 0.5005, Accuracy: 0.8094\n",
      "Epoch [52/100], Loss: 0.5014, Accuracy: 0.8078\n",
      "Epoch [53/100], Loss: 0.5162, Accuracy: 0.8078\n",
      "Epoch [54/100], Loss: 0.5001, Accuracy: 0.8094\n",
      "Epoch [55/100], Loss: 0.5096, Accuracy: 0.8062\n",
      "Epoch [56/100], Loss: 0.4984, Accuracy: 0.8078\n",
      "Epoch [57/100], Loss: 0.5020, Accuracy: 0.8062\n",
      "Epoch [58/100], Loss: 0.4957, Accuracy: 0.8046\n",
      "Epoch [59/100], Loss: 0.4967, Accuracy: 0.8078\n",
      "Epoch [60/100], Loss: 0.5026, Accuracy: 0.8143\n",
      "Epoch [61/100], Loss: 0.5043, Accuracy: 0.8143\n",
      "Epoch [62/100], Loss: 0.4942, Accuracy: 0.8127\n",
      "Epoch [63/100], Loss: 0.4894, Accuracy: 0.8160\n",
      "Epoch [64/100], Loss: 0.4908, Accuracy: 0.8160\n",
      "Epoch [65/100], Loss: 0.4974, Accuracy: 0.8160\n",
      "Epoch [66/100], Loss: 0.4895, Accuracy: 0.8143\n",
      "Epoch [67/100], Loss: 0.5034, Accuracy: 0.8176\n",
      "Epoch [68/100], Loss: 0.4907, Accuracy: 0.8208\n",
      "Epoch [69/100], Loss: 0.5051, Accuracy: 0.8160\n",
      "Epoch [70/100], Loss: 0.4874, Accuracy: 0.8160\n",
      "Epoch [71/100], Loss: 0.4864, Accuracy: 0.8143\n",
      "Epoch [72/100], Loss: 0.4873, Accuracy: 0.8143\n",
      "Epoch [73/100], Loss: 0.4883, Accuracy: 0.8160\n",
      "Epoch [74/100], Loss: 0.5001, Accuracy: 0.8111\n",
      "Epoch [75/100], Loss: 0.4929, Accuracy: 0.8111\n",
      "Epoch [76/100], Loss: 0.4876, Accuracy: 0.8160\n",
      "Epoch [77/100], Loss: 0.4917, Accuracy: 0.8160\n",
      "Epoch [78/100], Loss: 0.4904, Accuracy: 0.8192\n",
      "Epoch [79/100], Loss: 0.4963, Accuracy: 0.8176\n",
      "Epoch [80/100], Loss: 0.4827, Accuracy: 0.8208\n",
      "Epoch [81/100], Loss: 0.4898, Accuracy: 0.8176\n",
      "Epoch [82/100], Loss: 0.4920, Accuracy: 0.8176\n",
      "Epoch [83/100], Loss: 0.4897, Accuracy: 0.8176\n",
      "Epoch [84/100], Loss: 0.4899, Accuracy: 0.8160\n",
      "Epoch [85/100], Loss: 0.4902, Accuracy: 0.8257\n",
      "Epoch [86/100], Loss: 0.4863, Accuracy: 0.8208\n",
      "Epoch [87/100], Loss: 0.4931, Accuracy: 0.8257\n",
      "Epoch [88/100], Loss: 0.4815, Accuracy: 0.8274\n",
      "Epoch [89/100], Loss: 0.4828, Accuracy: 0.8257\n",
      "Epoch [90/100], Loss: 0.4812, Accuracy: 0.8290\n",
      "Epoch [91/100], Loss: 0.4960, Accuracy: 0.8274\n",
      "Epoch [92/100], Loss: 0.4817, Accuracy: 0.8274\n",
      "Epoch [93/100], Loss: 0.4932, Accuracy: 0.8257\n",
      "Epoch [94/100], Loss: 0.4806, Accuracy: 0.8257\n",
      "Epoch [95/100], Loss: 0.4849, Accuracy: 0.8257\n",
      "Epoch [96/100], Loss: 0.4971, Accuracy: 0.8274\n",
      "Epoch [97/100], Loss: 0.4844, Accuracy: 0.8274\n",
      "Epoch [98/100], Loss: 0.4815, Accuracy: 0.8274\n",
      "Epoch [99/100], Loss: 0.4835, Accuracy: 0.8339\n",
      "Epoch [100/100], Loss: 0.4882, Accuracy: 0.8339\n"
     ]
    }
   ],
   "execution_count": 176
  },
  {
   "metadata": {
    "ExecuteTime": {
     "end_time": "2025-04-14T07:26:02.298667Z",
     "start_time": "2025-04-14T07:26:02.179968Z"
    }
   },
   "cell_type": "code",
   "source": [
    "# 모델 평가\n",
    "model.eval()\n",
    "all_labels = []\n",
    "all_preds = []\n",
    "\n",
    "with torch.no_grad():\n",
    "    for inputs, labels in test_loader:\n",
    "        outputs = model(inputs)\n",
    "        _, predicted = torch.max(outputs.data, 1)\n",
    "        all_labels.extend(labels.numpy())\n",
    "        all_preds.extend(predicted.numpy())\n",
    "        \n",
    "# Convert to numpy arrays\n",
    "all_labels = np.array(all_labels)\n",
    "all_preds = np.array(all_preds)\n",
    "# Calculate metrics\n",
    "precision = precision_score(all_labels, all_preds)\n",
    "recall = recall_score(all_labels, all_preds)\n",
    "f1 = f1_score(all_labels, all_preds)\n",
    "roc_auc = roc_auc_score(all_labels, all_preds)\n",
    "confusion = confusion_matrix(all_labels, all_preds)\n",
    "# Display confusion matrix\n",
    "disp = ConfusionMatrixDisplay(confusion, display_labels=[0, 1])\n",
    "disp.plot(cmap=plt.cm.Blues)\n",
    "plt.title('Confusion Matrix')\n",
    "plt.show()\n",
    "# Print metrics\n",
    "print(f'Precision: {precision:.4f}')\n",
    "print(f'Recall: {recall:.4f}')\n",
    "print(f'F1 Score: {f1:.4f}')\n",
    "print(f'ROC AUC: {roc_auc:.4f}')"
   ],
   "id": "f2a365c96e8fc162",
   "outputs": [
    {
     "data": {
      "text/plain": [
       "<Figure size 640x480 with 2 Axes>"
      ],
      "image/png": "[encoded data removed]"
     },
     "metadata": {},
     "output_type": "display_data"
    },
    {
     "name": "stdout",
     "output_type": "stream",
     "text": [
      "Precision: 0.6271\n",
      "Recall: 0.6727\n",
      "F1 Score: 0.6491\n",
      "ROC AUC: 0.7253\n"
     ]
    }
   ],
   "execution_count": 177
  },
  {
   "metadata": {
    "ExecuteTime": {
     "end_time": "2025-04-14T07:26:02.780238Z",
     "start_time": "2025-04-14T07:26:02.299676Z"
    }
   },
   "cell_type": "code",
   "source": [
    "# Plot training loss and accuracy\n",
    "plt.figure(figsize=(12, 5))\n",
    "plt.subplot(1, 2, 1)\n",
    "plt.plot(train_losses, label='Training Loss')\n",
    "plt.xlabel('Epoch')\n",
    "plt.ylabel('Loss')\n",
    "plt.title('Training Loss')\n",
    "plt.legend()\n",
    "\n",
    "\n",
    "plt.subplot(1, 2, 2)\n",
    "plt.plot(train_accuracies, label='Training Accuracy')\n",
    "plt.xlabel('Epoch')\n",
    "plt.ylabel('Accuracy')\n",
    "plt.title('Training Accuracy')\n",
    "plt.legend()\n",
    "plt.show()"
   ],
   "id": "be41263cca83efc3",
   "outputs": [
    {
     "data": {
      "text/plain": [
       "<Figure size 1200x500 with 2 Axes>"
      ],
      "image/png": "[encoded data removed]"
     },
     "metadata": {},
     "output_type": "display_data"
    }
   ],
   "execution_count": 178
  }
 ],
 "metadata": {
  "kernelspec": {
   "display_name": "Python 3",
   "language": "python",
   "name": "python3"
  },
  "language_info": {
   "codemirror_mode": {
    "name": "ipython",
    "version": 2
   },
   "file_extension": ".py",
   "mimetype": "text/x-python",
   "name": "python",
   "nbconvert_exporter": "python",
   "pygments_lexer": "ipython2",
   "version": "2.7.6"
  }
 },
 "nbformat": 4,
 "nbformat_minor": 5
}
