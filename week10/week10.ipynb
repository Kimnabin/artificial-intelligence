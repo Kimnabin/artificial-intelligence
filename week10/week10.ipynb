{
 "cells": [
  {
   "cell_type": "code",
   "id": "initial_id",
   "metadata": {
    "collapsed": true,
    "ExecuteTime": {
     "end_time": "2025-05-27T02:05:46.683548Z",
     "start_time": "2025-05-27T02:05:36.259561Z"
    }
   },
   "source": [
    "import pandas as pd\n",
    "import numpy as np\n",
    "import torch\n",
    "import torch.nn as nn\n",
    "import torch.optim as optim\n",
    "from torch.utils.data import Dataset, DataLoader, TensorDataset\n",
    "from sklearn.preprocessing import LabelEncoder\n",
    "from sklearn.metrics import precision_score, recall_score, f1_score, roc_auc_score, confusion_matrix, ConfusionMatrixDisplay\n",
    "\n",
    "import matplotlib.pyplot as plt\n",
    "from torchsummary import summary\n",
    "import numpy as np"
   ],
   "outputs": [],
   "execution_count": 1
  },
  {
   "metadata": {
    "ExecuteTime": {
     "end_time": "2025-05-27T02:06:43.907811Z",
     "start_time": "2025-05-27T02:06:43.885311Z"
    }
   },
   "cell_type": "code",
   "source": [
    "# Load the dataset\n",
    "\n",
    "df = pd.read_csv('D:/K1_nam4/인공지능개론/artificial-intelligence/AI_class/artificial-intelligence/week10/dataFrame/AAME.csv')\n",
    "# Display the first few rows of the dataset\n",
    "df.head()"
   ],
   "id": "25bb0529d130caca",
   "outputs": [
    {
     "data": {
      "text/plain": [
       "         Date  Open  High   Low  Close  Adj Close  Volume\n",
       "0  1980-03-17   0.0  4.05  3.85   3.85   3.213167   15000\n",
       "1  1980-03-18   0.0  4.00  3.80   3.80   3.171437   10200\n",
       "2  1980-03-19   0.0  4.05  3.85   3.85   3.213167   33500\n",
       "3  1980-03-20   0.0  4.00  3.80   3.80   3.171437    8700\n",
       "4  1980-03-21   0.0  3.95  3.75   3.75   3.129709   12700"
      ],
      "text/html": [
       "<div>\n",
       "<style scoped>\n",
       "    .dataframe tbody tr th:only-of-type {\n",
       "        vertical-align: middle;\n",
       "    }\n",
       "\n",
       "    .dataframe tbody tr th {\n",
       "        vertical-align: top;\n",
       "    }\n",
       "\n",
       "    .dataframe thead th {\n",
       "        text-align: right;\n",
       "    }\n",
       "</style>\n",
       "<table border=\"1\" class=\"dataframe\">\n",
       "  <thead>\n",
       "    <tr style=\"text-align: right;\">\n",
       "      <th></th>\n",
       "      <th>Date</th>\n",
       "      <th>Open</th>\n",
       "      <th>High</th>\n",
       "      <th>Low</th>\n",
       "      <th>Close</th>\n",
       "      <th>Adj Close</th>\n",
       "      <th>Volume</th>\n",
       "    </tr>\n",
       "  </thead>\n",
       "  <tbody>\n",
       "    <tr>\n",
       "      <th>0</th>\n",
       "      <td>1980-03-17</td>\n",
       "      <td>0.0</td>\n",
       "      <td>4.05</td>\n",
       "      <td>3.85</td>\n",
       "      <td>3.85</td>\n",
       "      <td>3.213167</td>\n",
       "      <td>15000</td>\n",
       "    </tr>\n",
       "    <tr>\n",
       "      <th>1</th>\n",
       "      <td>1980-03-18</td>\n",
       "      <td>0.0</td>\n",
       "      <td>4.00</td>\n",
       "      <td>3.80</td>\n",
       "      <td>3.80</td>\n",
       "      <td>3.171437</td>\n",
       "      <td>10200</td>\n",
       "    </tr>\n",
       "    <tr>\n",
       "      <th>2</th>\n",
       "      <td>1980-03-19</td>\n",
       "      <td>0.0</td>\n",
       "      <td>4.05</td>\n",
       "      <td>3.85</td>\n",
       "      <td>3.85</td>\n",
       "      <td>3.213167</td>\n",
       "      <td>33500</td>\n",
       "    </tr>\n",
       "    <tr>\n",
       "      <th>3</th>\n",
       "      <td>1980-03-20</td>\n",
       "      <td>0.0</td>\n",
       "      <td>4.00</td>\n",
       "      <td>3.80</td>\n",
       "      <td>3.80</td>\n",
       "      <td>3.171437</td>\n",
       "      <td>8700</td>\n",
       "    </tr>\n",
       "    <tr>\n",
       "      <th>4</th>\n",
       "      <td>1980-03-21</td>\n",
       "      <td>0.0</td>\n",
       "      <td>3.95</td>\n",
       "      <td>3.75</td>\n",
       "      <td>3.75</td>\n",
       "      <td>3.129709</td>\n",
       "      <td>12700</td>\n",
       "    </tr>\n",
       "  </tbody>\n",
       "</table>\n",
       "</div>"
      ]
     },
     "execution_count": 3,
     "metadata": {},
     "output_type": "execute_result"
    }
   ],
   "execution_count": 3
  },
  {
   "metadata": {
    "ExecuteTime": {
     "end_time": "2025-05-27T02:07:01.245040Z",
     "start_time": "2025-05-27T02:07:01.237979Z"
    }
   },
   "cell_type": "code",
   "source": [
    "# Check for missing values\n",
    "missing_values = df.isnull().sum()\n",
    "print(\"Missing values in each column:\", missing_values)"
   ],
   "id": "ea5c7b9ff6d870b5",
   "outputs": [
    {
     "name": "stdout",
     "output_type": "stream",
     "text": [
      "Missing values in each column: Date         0\n",
      "Open         0\n",
      "High         0\n",
      "Low          0\n",
      "Close        0\n",
      "Adj Close    0\n",
      "Volume       0\n",
      "dtype: int64\n"
     ]
    }
   ],
   "execution_count": 5
  },
  {
   "metadata": {
    "ExecuteTime": {
     "end_time": "2025-05-27T02:07:08.784738Z",
     "start_time": "2025-05-27T02:07:08.780726Z"
    }
   },
   "cell_type": "code",
   "source": [
    "# Check the data types of each column\n",
    "data_types = df.dtypes\n",
    "print(\"Data types of each column:\", data_types)"
   ],
   "id": "95ee9ec9c1c9bbee",
   "outputs": [
    {
     "name": "stdout",
     "output_type": "stream",
     "text": [
      "Data types of each column: Date          object\n",
      "Open         float64\n",
      "High         float64\n",
      "Low          float64\n",
      "Close        float64\n",
      "Adj Close    float64\n",
      "Volume         int64\n",
      "dtype: object\n"
     ]
    }
   ],
   "execution_count": 6
  },
  {
   "metadata": {
    "ExecuteTime": {
     "end_time": "2025-05-27T02:07:19.417030Z",
     "start_time": "2025-05-27T02:07:19.409028Z"
    }
   },
   "cell_type": "code",
   "source": "df.duplicated().sum()",
   "id": "eb3f2b5d7665ec51",
   "outputs": [
    {
     "data": {
      "text/plain": [
       "np.int64(0)"
      ]
     },
     "execution_count": 7,
     "metadata": {},
     "output_type": "execute_result"
    }
   ],
   "execution_count": 7
  },
  {
   "metadata": {
    "ExecuteTime": {
     "end_time": "2025-05-27T02:13:39.974448Z",
     "start_time": "2025-05-27T02:11:04.909991Z"
    }
   },
   "cell_type": "code",
   "source": [
    "from sklearn.preprocessing import MinMaxScaler\n",
    "from keras.src.layers import Dense\n",
    "from keras.src.layers import LSTM\n",
    "from keras import Sequential\n",
    "\n",
    "df['Date'] = pd.to_datetime(df['Date'])\n",
    "df = df.sort_values('Date')\n",
    "\n",
    "# 2. Tiền xử lý - chuẩn hóa dữ liệu\n",
    "close_prices = df[['Close']].values\n",
    "scaler = MinMaxScaler(feature_range=(0, 1))\n",
    "scaled_close = scaler.fit_transform(close_prices)\n",
    "\n",
    "# 3. Tạo tập huấn luyện (dựa trên 60 ngày)\n",
    "sequence_length = 60\n",
    "x_train, y_train = [], []\n",
    "\n",
    "for i in range(sequence_length, len(scaled_close)):\n",
    "    x_train.append(scaled_close[i-sequence_length:i, 0])\n",
    "    y_train.append(scaled_close[i, 0])\n",
    "\n",
    "x_train = np.array(x_train)\n",
    "y_train = np.array(y_train)\n",
    "\n",
    "# 4. Định dạng dữ liệu cho LSTM\n",
    "x_train = np.reshape(x_train, (x_train.shape[0], x_train.shape[1], 1))\n",
    "\n",
    "# 5. Xây dựng mô hình LSTM\n",
    "model = Sequential()\n",
    "model.add(LSTM(units=50, return_sequences=True, input_shape=(x_train.shape[1], 1)))\n",
    "model.add(LSTM(units=50))\n",
    "model.add(Dense(1))\n",
    "\n",
    "model.compile(optimizer='adam', loss='mean_squared_error')\n",
    "\n",
    "# 6. Huấn luyện mô hình\n",
    "history = model.fit(x_train, y_train, epochs=20, batch_size=32, verbose=1)\n",
    "\n",
    "# 7. Vẽ biểu đồ loss\n",
    "plt.plot(history.history['loss'])\n",
    "plt.title('Training Loss over Epochs')\n",
    "plt.xlabel('Epoch')\n",
    "plt.ylabel('Loss')\n",
    "plt.grid(True)\n",
    "plt.show()\n",
    "\n",
    "# 8. Dự đoán thử cho chuỗi mới nhất\n",
    "latest_sequence = scaled_close[-60:]  # 60 ngày gần nhất\n",
    "latest_sequence = np.reshape(latest_sequence, (1, 60, 1))\n",
    "predicted_price = model.predict(latest_sequence)\n",
    "predicted_price = scaler.inverse_transform(predicted_price)\n",
    "\n",
    "print(\"🌟 Dự đoán giá ngày tiếp theo:\", predicted_price[0][0])"
   ],
   "id": "a966c7f1c67ef660",
   "outputs": [
    {
     "name": "stdout",
     "output_type": "stream",
     "text": [
      "Epoch 1/20\n"
     ]
    },
    {
     "name": "stderr",
     "output_type": "stream",
     "text": [
      "D:\\Python\\venv\\Lib\\site-packages\\keras\\src\\layers\\rnn\\rnn.py:200: UserWarning: Do not pass an `input_shape`/`input_dim` argument to a layer. When using Sequential models, prefer using an `Input(shape)` object as the first layer in the model instead.\n",
      "  super().__init__(**kwargs)\n"
     ]
    },
    {
     "name": "stdout",
     "output_type": "stream",
     "text": [
      "\u001B[1m314/314\u001B[0m \u001B[32m━━━━━━━━━━━━━━━━━━━━\u001B[0m\u001B[37m\u001B[0m \u001B[1m8s\u001B[0m 18ms/step - loss: 0.0020\n",
      "Epoch 2/20\n",
      "\u001B[1m314/314\u001B[0m \u001B[32m━━━━━━━━━━━━━━━━━━━━\u001B[0m\u001B[37m\u001B[0m \u001B[1m6s\u001B[0m 20ms/step - loss: 2.0062e-04\n",
      "Epoch 3/20\n",
      "\u001B[1m314/314\u001B[0m \u001B[32m━━━━━━━━━━━━━━━━━━━━\u001B[0m\u001B[37m\u001B[0m \u001B[1m7s\u001B[0m 24ms/step - loss: 1.8206e-04\n",
      "Epoch 4/20\n",
      "\u001B[1m314/314\u001B[0m \u001B[32m━━━━━━━━━━━━━━━━━━━━\u001B[0m\u001B[37m\u001B[0m \u001B[1m8s\u001B[0m 25ms/step - loss: 1.4638e-04\n",
      "Epoch 5/20\n",
      "\u001B[1m314/314\u001B[0m \u001B[32m━━━━━━━━━━━━━━━━━━━━\u001B[0m\u001B[37m\u001B[0m \u001B[1m8s\u001B[0m 26ms/step - loss: 1.3249e-04\n",
      "Epoch 6/20\n",
      "\u001B[1m314/314\u001B[0m \u001B[32m━━━━━━━━━━━━━━━━━━━━\u001B[0m\u001B[37m\u001B[0m \u001B[1m8s\u001B[0m 25ms/step - loss: 1.2382e-04\n",
      "Epoch 7/20\n",
      "\u001B[1m314/314\u001B[0m \u001B[32m━━━━━━━━━━━━━━━━━━━━\u001B[0m\u001B[37m\u001B[0m \u001B[1m8s\u001B[0m 24ms/step - loss: 1.1857e-04\n",
      "Epoch 8/20\n",
      "\u001B[1m314/314\u001B[0m \u001B[32m━━━━━━━━━━━━━━━━━━━━\u001B[0m\u001B[37m\u001B[0m \u001B[1m8s\u001B[0m 26ms/step - loss: 1.1681e-04\n",
      "Epoch 9/20\n",
      "\u001B[1m314/314\u001B[0m \u001B[32m━━━━━━━━━━━━━━━━━━━━\u001B[0m\u001B[37m\u001B[0m \u001B[1m8s\u001B[0m 24ms/step - loss: 9.6817e-05\n",
      "Epoch 10/20\n",
      "\u001B[1m314/314\u001B[0m \u001B[32m━━━━━━━━━━━━━━━━━━━━\u001B[0m\u001B[37m\u001B[0m \u001B[1m8s\u001B[0m 27ms/step - loss: 1.0097e-04\n",
      "Epoch 11/20\n",
      "\u001B[1m314/314\u001B[0m \u001B[32m━━━━━━━━━━━━━━━━━━━━\u001B[0m\u001B[37m\u001B[0m \u001B[1m8s\u001B[0m 25ms/step - loss: 1.0281e-04\n",
      "Epoch 12/20\n",
      "\u001B[1m314/314\u001B[0m \u001B[32m━━━━━━━━━━━━━━━━━━━━\u001B[0m\u001B[37m\u001B[0m \u001B[1m6s\u001B[0m 20ms/step - loss: 9.6849e-05\n",
      "Epoch 13/20\n",
      "\u001B[1m314/314\u001B[0m \u001B[32m━━━━━━━━━━━━━━━━━━━━\u001B[0m\u001B[37m\u001B[0m \u001B[1m6s\u001B[0m 20ms/step - loss: 9.2799e-05\n",
      "Epoch 14/20\n",
      "\u001B[1m314/314\u001B[0m \u001B[32m━━━━━━━━━━━━━━━━━━━━\u001B[0m\u001B[37m\u001B[0m \u001B[1m8s\u001B[0m 24ms/step - loss: 7.4216e-05\n",
      "Epoch 15/20\n",
      "\u001B[1m314/314\u001B[0m \u001B[32m━━━━━━━━━━━━━━━━━━━━\u001B[0m\u001B[37m\u001B[0m \u001B[1m8s\u001B[0m 26ms/step - loss: 8.3955e-05\n",
      "Epoch 16/20\n",
      "\u001B[1m314/314\u001B[0m \u001B[32m━━━━━━━━━━━━━━━━━━━━\u001B[0m\u001B[37m\u001B[0m \u001B[1m8s\u001B[0m 26ms/step - loss: 8.4454e-05\n",
      "Epoch 17/20\n",
      "\u001B[1m314/314\u001B[0m \u001B[32m━━━━━━━━━━━━━━━━━━━━\u001B[0m\u001B[37m\u001B[0m \u001B[1m8s\u001B[0m 26ms/step - loss: 7.6553e-05\n",
      "Epoch 18/20\n",
      "\u001B[1m314/314\u001B[0m \u001B[32m━━━━━━━━━━━━━━━━━━━━\u001B[0m\u001B[37m\u001B[0m \u001B[1m8s\u001B[0m 25ms/step - loss: 7.7939e-05\n",
      "Epoch 19/20\n",
      "\u001B[1m314/314\u001B[0m \u001B[32m━━━━━━━━━━━━━━━━━━━━\u001B[0m\u001B[37m\u001B[0m \u001B[1m8s\u001B[0m 26ms/step - loss: 7.8356e-05\n",
      "Epoch 20/20\n",
      "\u001B[1m314/314\u001B[0m \u001B[32m━━━━━━━━━━━━━━━━━━━━\u001B[0m\u001B[37m\u001B[0m \u001B[1m9s\u001B[0m 28ms/step - loss: 8.2416e-05\n"
     ]
    },
    {
     "data": {
      "text/plain": [
       "<Figure size 640x480 with 1 Axes>"
      ],
      "image/png": "[encoded data removed]"
     },
     "metadata": {},
     "output_type": "display_data"
    },
    {
     "name": "stdout",
     "output_type": "stream",
     "text": [
      "\u001B[1m1/1\u001B[0m \u001B[32m━━━━━━━━━━━━━━━━━━━━\u001B[0m\u001B[37m\u001B[0m \u001B[1m0s\u001B[0m 243ms/step\n",
      "🌟 Dự đoán giá ngày tiếp theo: 2.1641905\n"
     ]
    }
   ],
   "execution_count": 10
  },
  {
   "metadata": {
    "ExecuteTime": {
     "end_time": "2025-05-27T02:15:35.101829Z",
     "start_time": "2025-05-27T02:15:34.378932Z"
    }
   },
   "cell_type": "code",
   "source": [
    "# du doan gia 10 ngay tiep theo\n",
    "predicted_prices = []\n",
    "for _ in range(10):\n",
    "    latest_sequence = scaled_close[-60:]  # 60 ngày gần nhất\n",
    "    latest_sequence = np.reshape(latest_sequence, (1, 60, 1))\n",
    "    predicted_price = model.predict(latest_sequence)\n",
    "    predicted_prices.append(predicted_price[0][0])\n",
    "    \n",
    "    # Cập nhật dữ liệu để dự đoán ngày tiếp theo\n",
    "    scaled_close = np.append(scaled_close, predicted_price)\n",
    "    scaled_close = scaled_close.reshape(-1, 1)\n",
    "predicted_prices = scaler.inverse_transform(np.array(predicted_prices).reshape(-1, 1))\n",
    "print(\"🌟 Dự đoán giá 10 ngày tiếp theo:\", predicted_prices.flatten())\n"
   ],
   "id": "b7d08acf1337ed20",
   "outputs": [
    {
     "name": "stdout",
     "output_type": "stream",
     "text": [
      "\u001B[1m1/1\u001B[0m \u001B[32m━━━━━━━━━━━━━━━━━━━━\u001B[0m\u001B[37m\u001B[0m \u001B[1m0s\u001B[0m 29ms/step\n",
      "\u001B[1m1/1\u001B[0m \u001B[32m━━━━━━━━━━━━━━━━━━━━\u001B[0m\u001B[37m\u001B[0m \u001B[1m0s\u001B[0m 34ms/step\n",
      "\u001B[1m1/1\u001B[0m \u001B[32m━━━━━━━━━━━━━━━━━━━━\u001B[0m\u001B[37m\u001B[0m \u001B[1m0s\u001B[0m 36ms/step\n",
      "\u001B[1m1/1\u001B[0m \u001B[32m━━━━━━━━━━━━━━━━━━━━\u001B[0m\u001B[37m\u001B[0m \u001B[1m0s\u001B[0m 30ms/step\n",
      "\u001B[1m1/1\u001B[0m \u001B[32m━━━━━━━━━━━━━━━━━━━━\u001B[0m\u001B[37m\u001B[0m \u001B[1m0s\u001B[0m 34ms/step\n",
      "\u001B[1m1/1\u001B[0m \u001B[32m━━━━━━━━━━━━━━━━━━━━\u001B[0m\u001B[37m\u001B[0m \u001B[1m0s\u001B[0m 45ms/step\n",
      "\u001B[1m1/1\u001B[0m \u001B[32m━━━━━━━━━━━━━━━━━━━━\u001B[0m\u001B[37m\u001B[0m \u001B[1m0s\u001B[0m 36ms/step\n",
      "\u001B[1m1/1\u001B[0m \u001B[32m━━━━━━━━━━━━━━━━━━━━\u001B[0m\u001B[37m\u001B[0m \u001B[1m0s\u001B[0m 30ms/step\n",
      "\u001B[1m1/1\u001B[0m \u001B[32m━━━━━━━━━━━━━━━━━━━━\u001B[0m\u001B[37m\u001B[0m \u001B[1m0s\u001B[0m 37ms/step\n",
      "\u001B[1m1/1\u001B[0m \u001B[32m━━━━━━━━━━━━━━━━━━━━\u001B[0m\u001B[37m\u001B[0m \u001B[1m0s\u001B[0m 32ms/step\n",
      "🌟 Dự đoán giá 10 ngày tiếp theo: [2.1641905 2.1782362 2.1911314 2.2026172 2.2128227 2.2220333 2.2305605\n",
      " 2.2386773 2.2465892 2.2544365]\n"
     ]
    }
   ],
   "execution_count": 11
  }
 ],
 "metadata": {
  "kernelspec": {
   "display_name": "Python 3",
   "language": "python",
   "name": "python3"
  },
  "language_info": {
   "codemirror_mode": {
    "name": "ipython",
    "version": 2
   },
   "file_extension": ".py",
   "mimetype": "text/x-python",
   "name": "python",
   "nbconvert_exporter": "python",
   "pygments_lexer": "ipython2",
   "version": "2.7.6"
  }
 },
 "nbformat": 4,
 "nbformat_minor": 5
}
