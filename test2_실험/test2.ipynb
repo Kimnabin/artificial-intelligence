{
 "cells": [
  {
   "cell_type": "code",
   "id": "initial_id",
   "metadata": {
    "collapsed": true,
    "ExecuteTime": {
     "end_time": "2025-04-29T02:03:17.461565Z",
     "start_time": "2025-04-29T02:03:17.458216Z"
    }
   },
   "source": [
    "import pandas as pd\n",
    "import numpy as np\n",
    "import torch\n",
    "import torch.nn as nn\n",
    "import torch.optim as optim\n",
    "from torch.utils.data import Dataset, DataLoader, TensorDataset\n",
    "from sklearn.preprocessing import LabelEncoder\n",
    "from sklearn.metrics import precision_score, recall_score, f1_score, roc_auc_score, confusion_matrix, ConfusionMatrixDisplay\n",
    "\n",
    "import matplotlib.pyplot as plt\n",
    "from torchsummary import summary\n",
    "import numpy as np\n",
    "from sklearn.metrics import confusion_matrix"
   ],
   "outputs": [],
   "execution_count": 22
  },
  {
   "metadata": {
    "ExecuteTime": {
     "end_time": "2025-04-29T02:03:17.524832Z",
     "start_time": "2025-04-29T02:03:17.490843Z"
    }
   },
   "cell_type": "code",
   "source": [
    "# Load the dataset\n",
    "file_path = 'https://raw.githubusercontent.com/mwaskom/seaborn-data/master/penguins.csv'\n",
    "\n",
    "df = pd.read_csv(file_path)\n",
    "\n",
    "df.info()"
   ],
   "id": "b554fa863aca53a9",
   "outputs": [
    {
     "name": "stdout",
     "output_type": "stream",
     "text": [
      "<class 'pandas.core.frame.DataFrame'>\n",
      "RangeIndex: 344 entries, 0 to 343\n",
      "Data columns (total 7 columns):\n",
      " #   Column             Non-Null Count  Dtype  \n",
      "---  ------             --------------  -----  \n",
      " 0   species            344 non-null    object \n",
      " 1   island             344 non-null    object \n",
      " 2   bill_length_mm     342 non-null    float64\n",
      " 3   bill_depth_mm      342 non-null    float64\n",
      " 4   flipper_length_mm  342 non-null    float64\n",
      " 5   body_mass_g        342 non-null    float64\n",
      " 6   sex                333 non-null    object \n",
      "dtypes: float64(4), object(3)\n",
      "memory usage: 18.9+ KB\n"
     ]
    }
   ],
   "execution_count": 23
  },
  {
   "metadata": {
    "ExecuteTime": {
     "end_time": "2025-04-29T02:03:17.551763Z",
     "start_time": "2025-04-29T02:03:17.543344Z"
    }
   },
   "cell_type": "code",
   "source": "df.head()",
   "id": "cc4c8bd69632a666",
   "outputs": [
    {
     "data": {
      "text/plain": [
       "  species     island  bill_length_mm  bill_depth_mm  flipper_length_mm  \\\n",
       "0  Adelie  Torgersen            39.1           18.7              181.0   \n",
       "1  Adelie  Torgersen            39.5           17.4              186.0   \n",
       "2  Adelie  Torgersen            40.3           18.0              195.0   \n",
       "3  Adelie  Torgersen             NaN            NaN                NaN   \n",
       "4  Adelie  Torgersen            36.7           19.3              193.0   \n",
       "\n",
       "   body_mass_g     sex  \n",
       "0       3750.0    MALE  \n",
       "1       3800.0  FEMALE  \n",
       "2       3250.0  FEMALE  \n",
       "3          NaN     NaN  \n",
       "4       3450.0  FEMALE  "
      ],
      "text/html": [
       "<div>\n",
       "<style scoped>\n",
       "    .dataframe tbody tr th:only-of-type {\n",
       "        vertical-align: middle;\n",
       "    }\n",
       "\n",
       "    .dataframe tbody tr th {\n",
       "        vertical-align: top;\n",
       "    }\n",
       "\n",
       "    .dataframe thead th {\n",
       "        text-align: right;\n",
       "    }\n",
       "</style>\n",
       "<table border=\"1\" class=\"dataframe\">\n",
       "  <thead>\n",
       "    <tr style=\"text-align: right;\">\n",
       "      <th></th>\n",
       "      <th>species</th>\n",
       "      <th>island</th>\n",
       "      <th>bill_length_mm</th>\n",
       "      <th>bill_depth_mm</th>\n",
       "      <th>flipper_length_mm</th>\n",
       "      <th>body_mass_g</th>\n",
       "      <th>sex</th>\n",
       "    </tr>\n",
       "  </thead>\n",
       "  <tbody>\n",
       "    <tr>\n",
       "      <th>0</th>\n",
       "      <td>Adelie</td>\n",
       "      <td>Torgersen</td>\n",
       "      <td>39.1</td>\n",
       "      <td>18.7</td>\n",
       "      <td>181.0</td>\n",
       "      <td>3750.0</td>\n",
       "      <td>MALE</td>\n",
       "    </tr>\n",
       "    <tr>\n",
       "      <th>1</th>\n",
       "      <td>Adelie</td>\n",
       "      <td>Torgersen</td>\n",
       "      <td>39.5</td>\n",
       "      <td>17.4</td>\n",
       "      <td>186.0</td>\n",
       "      <td>3800.0</td>\n",
       "      <td>FEMALE</td>\n",
       "    </tr>\n",
       "    <tr>\n",
       "      <th>2</th>\n",
       "      <td>Adelie</td>\n",
       "      <td>Torgersen</td>\n",
       "      <td>40.3</td>\n",
       "      <td>18.0</td>\n",
       "      <td>195.0</td>\n",
       "      <td>3250.0</td>\n",
       "      <td>FEMALE</td>\n",
       "    </tr>\n",
       "    <tr>\n",
       "      <th>3</th>\n",
       "      <td>Adelie</td>\n",
       "      <td>Torgersen</td>\n",
       "      <td>NaN</td>\n",
       "      <td>NaN</td>\n",
       "      <td>NaN</td>\n",
       "      <td>NaN</td>\n",
       "      <td>NaN</td>\n",
       "    </tr>\n",
       "    <tr>\n",
       "      <th>4</th>\n",
       "      <td>Adelie</td>\n",
       "      <td>Torgersen</td>\n",
       "      <td>36.7</td>\n",
       "      <td>19.3</td>\n",
       "      <td>193.0</td>\n",
       "      <td>3450.0</td>\n",
       "      <td>FEMALE</td>\n",
       "    </tr>\n",
       "  </tbody>\n",
       "</table>\n",
       "</div>"
      ]
     },
     "execution_count": 24,
     "metadata": {},
     "output_type": "execute_result"
    }
   ],
   "execution_count": 24
  },
  {
   "metadata": {
    "ExecuteTime": {
     "end_time": "2025-04-29T02:03:17.566856Z",
     "start_time": "2025-04-29T02:03:17.561063Z"
    }
   },
   "cell_type": "code",
   "source": "df.duplicated().sum()",
   "id": "d6b74ad750652b6b",
   "outputs": [
    {
     "data": {
      "text/plain": [
       "np.int64(0)"
      ]
     },
     "execution_count": 25,
     "metadata": {},
     "output_type": "execute_result"
    }
   ],
   "execution_count": 25
  },
  {
   "metadata": {
    "ExecuteTime": {
     "end_time": "2025-04-29T02:03:17.579342Z",
     "start_time": "2025-04-29T02:03:17.573852Z"
    }
   },
   "cell_type": "code",
   "source": "df.isnull().sum()",
   "id": "eb8632599d6cad25",
   "outputs": [
    {
     "data": {
      "text/plain": [
       "species               0\n",
       "island                0\n",
       "bill_length_mm        2\n",
       "bill_depth_mm         2\n",
       "flipper_length_mm     2\n",
       "body_mass_g           2\n",
       "sex                  11\n",
       "dtype: int64"
      ]
     },
     "execution_count": 26,
     "metadata": {},
     "output_type": "execute_result"
    }
   ],
   "execution_count": 26
  },
  {
   "metadata": {
    "ExecuteTime": {
     "end_time": "2025-04-29T02:03:17.599522Z",
     "start_time": "2025-04-29T02:03:17.595219Z"
    }
   },
   "cell_type": "code",
   "source": [
    "# Drop rows with missing values\n",
    "df.dropna(inplace=True)"
   ],
   "id": "25ce55909311ca80",
   "outputs": [],
   "execution_count": 27
  },
  {
   "metadata": {
    "ExecuteTime": {
     "end_time": "2025-04-29T02:03:17.627517Z",
     "start_time": "2025-04-29T02:03:17.621529Z"
    }
   },
   "cell_type": "code",
   "source": "df.nunique()",
   "id": "ce81b2a31653a3f4",
   "outputs": [
    {
     "data": {
      "text/plain": [
       "species                3\n",
       "island                 3\n",
       "bill_length_mm       163\n",
       "bill_depth_mm         79\n",
       "flipper_length_mm     54\n",
       "body_mass_g           93\n",
       "sex                    2\n",
       "dtype: int64"
      ]
     },
     "execution_count": 28,
     "metadata": {},
     "output_type": "execute_result"
    }
   ],
   "execution_count": 28
  },
  {
   "metadata": {
    "ExecuteTime": {
     "end_time": "2025-04-29T02:03:17.710850Z",
     "start_time": "2025-04-29T02:03:17.705850Z"
    }
   },
   "cell_type": "code",
   "source": [
    "# Convert categorical variables to numerical\n",
    "label_encoder = LabelEncoder()\n",
    "df['species'] = label_encoder.fit_transform(df['species'])\n",
    "df['island'] = label_encoder.fit_transform(df['island'])\n",
    "df['sex'] = label_encoder.fit_transform(df['sex'])"
   ],
   "id": "c77a8dbf835450ca",
   "outputs": [],
   "execution_count": 29
  },
  {
   "metadata": {
    "ExecuteTime": {
     "end_time": "2025-04-29T02:03:17.779619Z",
     "start_time": "2025-04-29T02:03:17.769720Z"
    }
   },
   "cell_type": "code",
   "source": "df.head()\n",
   "id": "64ac5fbd39351386",
   "outputs": [
    {
     "data": {
      "text/plain": [
       "   species  island  bill_length_mm  bill_depth_mm  flipper_length_mm  \\\n",
       "0        0       2            39.1           18.7              181.0   \n",
       "1        0       2            39.5           17.4              186.0   \n",
       "2        0       2            40.3           18.0              195.0   \n",
       "4        0       2            36.7           19.3              193.0   \n",
       "5        0       2            39.3           20.6              190.0   \n",
       "\n",
       "   body_mass_g  sex  \n",
       "0       3750.0    1  \n",
       "1       3800.0    0  \n",
       "2       3250.0    0  \n",
       "4       3450.0    0  \n",
       "5       3650.0    1  "
      ],
      "text/html": [
       "<div>\n",
       "<style scoped>\n",
       "    .dataframe tbody tr th:only-of-type {\n",
       "        vertical-align: middle;\n",
       "    }\n",
       "\n",
       "    .dataframe tbody tr th {\n",
       "        vertical-align: top;\n",
       "    }\n",
       "\n",
       "    .dataframe thead th {\n",
       "        text-align: right;\n",
       "    }\n",
       "</style>\n",
       "<table border=\"1\" class=\"dataframe\">\n",
       "  <thead>\n",
       "    <tr style=\"text-align: right;\">\n",
       "      <th></th>\n",
       "      <th>species</th>\n",
       "      <th>island</th>\n",
       "      <th>bill_length_mm</th>\n",
       "      <th>bill_depth_mm</th>\n",
       "      <th>flipper_length_mm</th>\n",
       "      <th>body_mass_g</th>\n",
       "      <th>sex</th>\n",
       "    </tr>\n",
       "  </thead>\n",
       "  <tbody>\n",
       "    <tr>\n",
       "      <th>0</th>\n",
       "      <td>0</td>\n",
       "      <td>2</td>\n",
       "      <td>39.1</td>\n",
       "      <td>18.7</td>\n",
       "      <td>181.0</td>\n",
       "      <td>3750.0</td>\n",
       "      <td>1</td>\n",
       "    </tr>\n",
       "    <tr>\n",
       "      <th>1</th>\n",
       "      <td>0</td>\n",
       "      <td>2</td>\n",
       "      <td>39.5</td>\n",
       "      <td>17.4</td>\n",
       "      <td>186.0</td>\n",
       "      <td>3800.0</td>\n",
       "      <td>0</td>\n",
       "    </tr>\n",
       "    <tr>\n",
       "      <th>2</th>\n",
       "      <td>0</td>\n",
       "      <td>2</td>\n",
       "      <td>40.3</td>\n",
       "      <td>18.0</td>\n",
       "      <td>195.0</td>\n",
       "      <td>3250.0</td>\n",
       "      <td>0</td>\n",
       "    </tr>\n",
       "    <tr>\n",
       "      <th>4</th>\n",
       "      <td>0</td>\n",
       "      <td>2</td>\n",
       "      <td>36.7</td>\n",
       "      <td>19.3</td>\n",
       "      <td>193.0</td>\n",
       "      <td>3450.0</td>\n",
       "      <td>0</td>\n",
       "    </tr>\n",
       "    <tr>\n",
       "      <th>5</th>\n",
       "      <td>0</td>\n",
       "      <td>2</td>\n",
       "      <td>39.3</td>\n",
       "      <td>20.6</td>\n",
       "      <td>190.0</td>\n",
       "      <td>3650.0</td>\n",
       "      <td>1</td>\n",
       "    </tr>\n",
       "  </tbody>\n",
       "</table>\n",
       "</div>"
      ]
     },
     "execution_count": 30,
     "metadata": {},
     "output_type": "execute_result"
    }
   ],
   "execution_count": 30
  },
  {
   "metadata": {
    "ExecuteTime": {
     "end_time": "2025-04-29T02:07:07.747543Z",
     "start_time": "2025-04-29T02:07:07.737614Z"
    }
   },
   "cell_type": "code",
   "source": [
    "# Split the data into features and target\n",
    "X = df.drop(columns=['species'])\n",
    "y = df['species']\n",
    "\n",
    "from sklearn.model_selection import train_test_split\n",
    "from sklearn.preprocessing import StandardScaler\n",
    "scaler = StandardScaler()\n",
    "X = scaler.fit_transform(X)\n",
    "\n",
    "from sklearn.model_selection import train_test_split\n",
    "# Split the data into training and testing sets\n",
    "X_train, X_test, y_train, y_test = train_test_split(X, y, test_size=0.2, random_state=42)\n",
    "\n",
    "X_train.shape, X_test.shape, y_train.shape, y_test.shape"
   ],
   "id": "cdd0a4f40d5b133f",
   "outputs": [
    {
     "data": {
      "text/plain": [
       "((266, 6), (67, 6), (266,), (67,))"
      ]
     },
     "execution_count": 46,
     "metadata": {},
     "output_type": "execute_result"
    }
   ],
   "execution_count": 46
  },
  {
   "metadata": {
    "ExecuteTime": {
     "end_time": "2025-04-29T02:03:40.828709Z",
     "start_time": "2025-04-29T02:03:40.824739Z"
    }
   },
   "cell_type": "code",
   "source": [
    "# Convert data to PyTorch tensors\n",
    "X_tensor = torch.tensor(X_train, dtype=torch.float32)\n",
    "y_tensor = torch.tensor(y_train.values, dtype=torch.long)\n",
    "# Create a dataset and dataloader\n",
    "train_dataset = TensorDataset(X_tensor, y_tensor)\n",
    "batch_size = 32\n",
    "dataloader = DataLoader(train_dataset, batch_size=batch_size, shuffle=True)\n",
    "# Check the GPU availability\n",
    "device = torch.device(\"cuda\" if torch.cuda.is_available() else \"cpu\")\n",
    "# Check the GPU availability\n",
    "device = torch.device(\"cuda\" if torch.cuda.is_available() else \"cpu\")\n"
   ],
   "id": "240e0aa5ec59ec14",
   "outputs": [],
   "execution_count": 37
  },
  {
   "metadata": {
    "ExecuteTime": {
     "end_time": "2025-04-29T02:03:42.524873Z",
     "start_time": "2025-04-29T02:03:42.520382Z"
    }
   },
   "cell_type": "code",
   "source": [
    "# Define the neural network\n",
    "class SimpleNN(nn.Module):\n",
    "    def __init__(self, input_size, output_size):\n",
    "        super(SimpleNN, self).__init__()\n",
    "        self.fc1 = nn.Linear(input_size, 64)\n",
    "        self.fc2 = nn.Linear(64, 32)\n",
    "        self.fc3 = nn.Linear(32, output_size)\n",
    "        self.relu = nn.ReLU()\n",
    "        self.softmax = nn.Softmax(dim=1)\n",
    "\n",
    "    def forward(self, x):\n",
    "        x = self.fc1(x)\n",
    "        x = self.relu(x)\n",
    "        x = self.fc2(x)\n",
    "        x = self.relu(x)\n",
    "        x = self.fc3(x)\n",
    "        return self.softmax(x)"
   ],
   "id": "dc676c1594aa3c01",
   "outputs": [],
   "execution_count": 38
  },
  {
   "metadata": {
    "ExecuteTime": {
     "end_time": "2025-04-29T02:03:44.977941Z",
     "start_time": "2025-04-29T02:03:44.973600Z"
    }
   },
   "cell_type": "code",
   "source": [
    "# Initialize the model, loss function, and optimizer\n",
    "input_size = X.shape[1]\n",
    "output_size = len(np.unique(y))\n",
    "model = SimpleNN(input_size, output_size)\n",
    "criterion = nn.CrossEntropyLoss()\n",
    "optimizer = optim.Adam(model.parameters(), lr=0.001)"
   ],
   "id": "56f8644d268caa92",
   "outputs": [],
   "execution_count": 39
  },
  {
   "metadata": {
    "ExecuteTime": {
     "end_time": "2025-04-29T02:03:46.878946Z",
     "start_time": "2025-04-29T02:03:45.529351Z"
    }
   },
   "cell_type": "code",
   "source": [
    "# Train the model\n",
    "num_epochs = 100\n",
    "for epoch in range(num_epochs):\n",
    "    for inputs, labels in dataloader:\n",
    "        optimizer.zero_grad()\n",
    "        outputs = model(inputs)\n",
    "        loss = criterion(outputs, labels)\n",
    "        loss.backward()\n",
    "        optimizer.step()\n",
    "\n",
    "    if (epoch + 1) % 10 == 0:\n",
    "        print(f'Epoch [{epoch + 1}/{num_epochs}], Loss: {loss.item():.4f}')"
   ],
   "id": "211db2cffd48a701",
   "outputs": [
    {
     "name": "stdout",
     "output_type": "stream",
     "text": [
      "Epoch [10/100], Loss: 0.5939\n",
      "Epoch [20/100], Loss: 0.5583\n",
      "Epoch [30/100], Loss: 0.5538\n",
      "Epoch [40/100], Loss: 0.5541\n",
      "Epoch [50/100], Loss: 0.5644\n",
      "Epoch [60/100], Loss: 0.5538\n",
      "Epoch [70/100], Loss: 0.5562\n",
      "Epoch [80/100], Loss: 0.5516\n",
      "Epoch [90/100], Loss: 0.5515\n",
      "Epoch [100/100], Loss: 0.5516\n"
     ]
    }
   ],
   "execution_count": 40
  },
  {
   "metadata": {
    "ExecuteTime": {
     "end_time": "2025-04-29T02:04:14.039299Z",
     "start_time": "2025-04-29T02:04:14.035949Z"
    }
   },
   "cell_type": "code",
   "source": [
    "# 손실 함수와 옵티마이저 정의\n",
    "criterion = nn.CrossEntropyLoss()\n",
    "optimizer = optim.Adam(model.parameters(), lr=0.001)"
   ],
   "id": "913849d0978531f9",
   "outputs": [],
   "execution_count": 42
  },
  {
   "metadata": {
    "ExecuteTime": {
     "end_time": "2025-04-29T02:05:43.322591Z",
     "start_time": "2025-04-29T02:05:42.139363Z"
    }
   },
   "cell_type": "code",
   "source": [
    "# 모델 확습\n",
    "train_losses = []\n",
    "train_accuracies = []\n",
    "\n",
    "num_epochs = 100\n",
    "\n",
    "for epoch in range(num_epochs):\n",
    "    model.train()\n",
    "    running_loss = 0.0\n",
    "    correct = 0\n",
    "    total = 0\n",
    "\n",
    "    for inputs, labels in dataloader:\n",
    "        optimizer.zero_grad()\n",
    "        outputs = model(inputs)\n",
    "        loss = criterion(outputs, labels)\n",
    "        loss.backward()\n",
    "        optimizer.step()\n",
    "\n",
    "        running_loss += loss.item()\n",
    "        _, predicted = torch.max(outputs.data, 1)\n",
    "        total += labels.size(0)\n",
    "        correct += (predicted == labels).sum().item()\n",
    "\n",
    "    epoch_loss = running_loss / len(dataloader)\n",
    "    epoch_accuracy = correct / total\n",
    "\n",
    "    train_losses.append(epoch_loss)\n",
    "    train_accuracies.append(epoch_accuracy)\n",
    "\n",
    "    print(f'Epoch [{epoch+1}/{num_epochs}], Loss: {epoch_loss:.4f}, Accuracy: {epoch_accuracy:.4f}')"
   ],
   "id": "1bea6645f588ff23",
   "outputs": [
    {
     "name": "stdout",
     "output_type": "stream",
     "text": [
      "Epoch [1/100], Loss: 0.5526, Accuracy: 1.0000\n",
      "Epoch [2/100], Loss: 0.5525, Accuracy: 1.0000\n",
      "Epoch [3/100], Loss: 0.5522, Accuracy: 1.0000\n",
      "Epoch [4/100], Loss: 0.5521, Accuracy: 1.0000\n",
      "Epoch [5/100], Loss: 0.5520, Accuracy: 1.0000\n",
      "Epoch [6/100], Loss: 0.5520, Accuracy: 1.0000\n",
      "Epoch [7/100], Loss: 0.5520, Accuracy: 1.0000\n",
      "Epoch [8/100], Loss: 0.5519, Accuracy: 1.0000\n",
      "Epoch [9/100], Loss: 0.5519, Accuracy: 1.0000\n",
      "Epoch [10/100], Loss: 0.5518, Accuracy: 1.0000\n",
      "Epoch [11/100], Loss: 0.5518, Accuracy: 1.0000\n",
      "Epoch [12/100], Loss: 0.5518, Accuracy: 1.0000\n",
      "Epoch [13/100], Loss: 0.5518, Accuracy: 1.0000\n",
      "Epoch [14/100], Loss: 0.5520, Accuracy: 1.0000\n",
      "Epoch [15/100], Loss: 0.5518, Accuracy: 1.0000\n",
      "Epoch [16/100], Loss: 0.5520, Accuracy: 1.0000\n",
      "Epoch [17/100], Loss: 0.5518, Accuracy: 1.0000\n",
      "Epoch [18/100], Loss: 0.5517, Accuracy: 1.0000\n",
      "Epoch [19/100], Loss: 0.5517, Accuracy: 1.0000\n",
      "Epoch [20/100], Loss: 0.5517, Accuracy: 1.0000\n",
      "Epoch [21/100], Loss: 0.5517, Accuracy: 1.0000\n",
      "Epoch [22/100], Loss: 0.5516, Accuracy: 1.0000\n",
      "Epoch [23/100], Loss: 0.5516, Accuracy: 1.0000\n",
      "Epoch [24/100], Loss: 0.5516, Accuracy: 1.0000\n",
      "Epoch [25/100], Loss: 0.5516, Accuracy: 1.0000\n",
      "Epoch [26/100], Loss: 0.5516, Accuracy: 1.0000\n",
      "Epoch [27/100], Loss: 0.5516, Accuracy: 1.0000\n",
      "Epoch [28/100], Loss: 0.5517, Accuracy: 1.0000\n",
      "Epoch [29/100], Loss: 0.5516, Accuracy: 1.0000\n",
      "Epoch [30/100], Loss: 0.5516, Accuracy: 1.0000\n",
      "Epoch [31/100], Loss: 0.5516, Accuracy: 1.0000\n",
      "Epoch [32/100], Loss: 0.5516, Accuracy: 1.0000\n",
      "Epoch [33/100], Loss: 0.5516, Accuracy: 1.0000\n",
      "Epoch [34/100], Loss: 0.5516, Accuracy: 1.0000\n",
      "Epoch [35/100], Loss: 0.5516, Accuracy: 1.0000\n",
      "Epoch [36/100], Loss: 0.5516, Accuracy: 1.0000\n",
      "Epoch [37/100], Loss: 0.5515, Accuracy: 1.0000\n",
      "Epoch [38/100], Loss: 0.5515, Accuracy: 1.0000\n",
      "Epoch [39/100], Loss: 0.5515, Accuracy: 1.0000\n",
      "Epoch [40/100], Loss: 0.5515, Accuracy: 1.0000\n",
      "Epoch [41/100], Loss: 0.5515, Accuracy: 1.0000\n",
      "Epoch [42/100], Loss: 0.5515, Accuracy: 1.0000\n",
      "Epoch [43/100], Loss: 0.5516, Accuracy: 1.0000\n",
      "Epoch [44/100], Loss: 0.5515, Accuracy: 1.0000\n",
      "Epoch [45/100], Loss: 0.5515, Accuracy: 1.0000\n",
      "Epoch [46/100], Loss: 0.5515, Accuracy: 1.0000\n",
      "Epoch [47/100], Loss: 0.5515, Accuracy: 1.0000\n",
      "Epoch [48/100], Loss: 0.5515, Accuracy: 1.0000\n",
      "Epoch [49/100], Loss: 0.5515, Accuracy: 1.0000\n",
      "Epoch [50/100], Loss: 0.5515, Accuracy: 1.0000\n",
      "Epoch [51/100], Loss: 0.5515, Accuracy: 1.0000\n",
      "Epoch [52/100], Loss: 0.5515, Accuracy: 1.0000\n",
      "Epoch [53/100], Loss: 0.5515, Accuracy: 1.0000\n",
      "Epoch [54/100], Loss: 0.5515, Accuracy: 1.0000\n",
      "Epoch [55/100], Loss: 0.5515, Accuracy: 1.0000\n",
      "Epoch [56/100], Loss: 0.5515, Accuracy: 1.0000\n",
      "Epoch [57/100], Loss: 0.5515, Accuracy: 1.0000\n",
      "Epoch [58/100], Loss: 0.5515, Accuracy: 1.0000\n",
      "Epoch [59/100], Loss: 0.5515, Accuracy: 1.0000\n",
      "Epoch [60/100], Loss: 0.5515, Accuracy: 1.0000\n",
      "Epoch [61/100], Loss: 0.5515, Accuracy: 1.0000\n",
      "Epoch [62/100], Loss: 0.5515, Accuracy: 1.0000\n",
      "Epoch [63/100], Loss: 0.5515, Accuracy: 1.0000\n",
      "Epoch [64/100], Loss: 0.5515, Accuracy: 1.0000\n",
      "Epoch [65/100], Loss: 0.5515, Accuracy: 1.0000\n",
      "Epoch [66/100], Loss: 0.5515, Accuracy: 1.0000\n",
      "Epoch [67/100], Loss: 0.5515, Accuracy: 1.0000\n",
      "Epoch [68/100], Loss: 0.5515, Accuracy: 1.0000\n",
      "Epoch [69/100], Loss: 0.5515, Accuracy: 1.0000\n",
      "Epoch [70/100], Loss: 0.5515, Accuracy: 1.0000\n",
      "Epoch [71/100], Loss: 0.5515, Accuracy: 1.0000\n",
      "Epoch [72/100], Loss: 0.5515, Accuracy: 1.0000\n",
      "Epoch [73/100], Loss: 0.5515, Accuracy: 1.0000\n",
      "Epoch [74/100], Loss: 0.5515, Accuracy: 1.0000\n",
      "Epoch [75/100], Loss: 0.5515, Accuracy: 1.0000\n",
      "Epoch [76/100], Loss: 0.5515, Accuracy: 1.0000\n",
      "Epoch [77/100], Loss: 0.5515, Accuracy: 1.0000\n",
      "Epoch [78/100], Loss: 0.5515, Accuracy: 1.0000\n",
      "Epoch [79/100], Loss: 0.5515, Accuracy: 1.0000\n",
      "Epoch [80/100], Loss: 0.5515, Accuracy: 1.0000\n",
      "Epoch [81/100], Loss: 0.5515, Accuracy: 1.0000\n",
      "Epoch [82/100], Loss: 0.5515, Accuracy: 1.0000\n",
      "Epoch [83/100], Loss: 0.5515, Accuracy: 1.0000\n",
      "Epoch [84/100], Loss: 0.5515, Accuracy: 1.0000\n",
      "Epoch [85/100], Loss: 0.5515, Accuracy: 1.0000\n",
      "Epoch [86/100], Loss: 0.5515, Accuracy: 1.0000\n",
      "Epoch [87/100], Loss: 0.5515, Accuracy: 1.0000\n",
      "Epoch [88/100], Loss: 0.5515, Accuracy: 1.0000\n",
      "Epoch [89/100], Loss: 0.5515, Accuracy: 1.0000\n",
      "Epoch [90/100], Loss: 0.5515, Accuracy: 1.0000\n",
      "Epoch [91/100], Loss: 0.5515, Accuracy: 1.0000\n",
      "Epoch [92/100], Loss: 0.5515, Accuracy: 1.0000\n",
      "Epoch [93/100], Loss: 0.5515, Accuracy: 1.0000\n",
      "Epoch [94/100], Loss: 0.5515, Accuracy: 1.0000\n",
      "Epoch [95/100], Loss: 0.5515, Accuracy: 1.0000\n",
      "Epoch [96/100], Loss: 0.5515, Accuracy: 1.0000\n",
      "Epoch [97/100], Loss: 0.5515, Accuracy: 1.0000\n",
      "Epoch [98/100], Loss: 0.5515, Accuracy: 1.0000\n",
      "Epoch [99/100], Loss: 0.5515, Accuracy: 1.0000\n",
      "Epoch [100/100], Loss: 0.5515, Accuracy: 1.0000\n"
     ]
    }
   ],
   "execution_count": 44
  },
  {
   "metadata": {
    "ExecuteTime": {
     "end_time": "2025-04-29T02:07:38.427841Z",
     "start_time": "2025-04-29T02:07:38.166276Z"
    }
   },
   "cell_type": "code",
   "source": [
    "# Plot the training loss and accuracy\n",
    "plt.figure(figsize=(12, 5))\n",
    "plt.subplot(1, 2, 1)\n",
    "plt.plot(train_losses, label='Training Loss')\n",
    "plt.xlabel('Epoch')\n",
    "plt.ylabel('Loss')\n",
    "plt.title('Training Loss')\n",
    "plt.legend()\n",
    "plt.subplot(1, 2, 2)\n",
    "plt.plot(train_accuracies, label='Training Accuracy')\n",
    "plt.xlabel('Epoch')\n",
    "plt.ylabel('Accuracy')\n",
    "plt.title('Training Accuracy')\n",
    "plt.legend()\n",
    "plt.show()\n"
   ],
   "id": "5908aaa88e40b831",
   "outputs": [
    {
     "data": {
      "text/plain": [
       "<Figure size 1200x500 with 2 Axes>"
      ],
      "image/png": "[encoded data removed]"
     },
     "metadata": {},
     "output_type": "display_data"
    }
   ],
   "execution_count": 48
  },
  {
   "metadata": {},
   "cell_type": "code",
   "outputs": [],
   "execution_count": null,
   "source": "",
   "id": "e9a3871e67f967a5"
  }
 ],
 "metadata": {
  "kernelspec": {
   "display_name": "Python 3",
   "language": "python",
   "name": "python3"
  },
  "language_info": {
   "codemirror_mode": {
    "name": "ipython",
    "version": 2
   },
   "file_extension": ".py",
   "mimetype": "text/x-python",
   "name": "python",
   "nbconvert_exporter": "python",
   "pygments_lexer": "ipython2",
   "version": "2.7.6"
  }
 },
 "nbformat": 4,
 "nbformat_minor": 5
}
