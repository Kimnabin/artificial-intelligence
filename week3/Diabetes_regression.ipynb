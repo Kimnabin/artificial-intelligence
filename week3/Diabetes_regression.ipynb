{
 "cells": [
  {
   "cell_type": "code",
   "id": "initial_id",
   "metadata": {
    "collapsed": true,
    "ExecuteTime": {
     "end_time": "2025-03-24T07:24:54.373326Z",
     "start_time": "2025-03-24T07:24:53.086798Z"
    }
   },
   "source": [
    "import pandas as pd\n",
    "from sklearn.model_selection import train_test_split\n",
    "from sklearn.linear_model import LinearRegression\n",
    "from sklearn.tree import DecisionTreeRegressor\n",
    "from sklearn.svm import SVR\n",
    "from sklearn.ensemble import RandomForestRegressor\n",
    "from sklearn.metrics import mean_squared_error"
   ],
   "outputs": [],
   "execution_count": 1
  },
  {
   "metadata": {
    "ExecuteTime": {
     "end_time": "2025-03-24T07:26:43.585417Z",
     "start_time": "2025-03-24T07:26:43.574986Z"
    }
   },
   "cell_type": "code",
   "source": [
    "file_path = 'D:/K1_nam4/인공지능개론/artificial-intelligence/AI_class/artificial-intelligence/week3/dataFrame/diabetes.csv'\n",
    "\n",
    "df = pd.read_csv(file_path)\n",
    "df.info()"
   ],
   "id": "4dd032b1391afbb7",
   "outputs": [
    {
     "name": "stdout",
     "output_type": "stream",
     "text": [
      "<class 'pandas.core.frame.DataFrame'>\n",
      "RangeIndex: 768 entries, 0 to 767\n",
      "Data columns (total 9 columns):\n",
      " #   Column                    Non-Null Count  Dtype  \n",
      "---  ------                    --------------  -----  \n",
      " 0   Pregnancies               768 non-null    int64  \n",
      " 1   Glucose                   768 non-null    int64  \n",
      " 2   BloodPressure             768 non-null    int64  \n",
      " 3   SkinThickness             768 non-null    int64  \n",
      " 4   Insulin                   768 non-null    int64  \n",
      " 5   BMI                       768 non-null    float64\n",
      " 6   DiabetesPedigreeFunction  768 non-null    float64\n",
      " 7   Age                       768 non-null    int64  \n",
      " 8   Outcome                   768 non-null    int64  \n",
      "dtypes: float64(2), int64(7)\n",
      "memory usage: 54.1 KB\n"
     ]
    }
   ],
   "execution_count": 3
  },
  {
   "metadata": {
    "ExecuteTime": {
     "end_time": "2025-03-24T07:27:01.326120Z",
     "start_time": "2025-03-24T07:27:01.320409Z"
    }
   },
   "cell_type": "code",
   "source": "df.duplicated().sum()",
   "id": "e93a9886aba9dc05",
   "outputs": [
    {
     "data": {
      "text/plain": [
       "np.int64(0)"
      ]
     },
     "execution_count": 5,
     "metadata": {},
     "output_type": "execute_result"
    }
   ],
   "execution_count": 5
  },
  {
   "metadata": {
    "ExecuteTime": {
     "end_time": "2025-03-24T07:28:09.551289Z",
     "start_time": "2025-03-24T07:28:09.545900Z"
    }
   },
   "cell_type": "code",
   "source": "df.isnull().sum()",
   "id": "a06b55de6eaf54d5",
   "outputs": [
    {
     "data": {
      "text/plain": [
       "Pregnancies                 0\n",
       "Glucose                     0\n",
       "BloodPressure               0\n",
       "SkinThickness               0\n",
       "Insulin                     0\n",
       "BMI                         0\n",
       "DiabetesPedigreeFunction    0\n",
       "Age                         0\n",
       "Outcome                     0\n",
       "dtype: int64"
      ]
     },
     "execution_count": 7,
     "metadata": {},
     "output_type": "execute_result"
    }
   ],
   "execution_count": 7
  },
  {
   "metadata": {
    "ExecuteTime": {
     "end_time": "2025-03-24T07:28:50.947089Z",
     "start_time": "2025-03-24T07:28:50.938754Z"
    }
   },
   "cell_type": "code",
   "source": [
    "df = df.drop('Outcome', axis=1)\n",
    "df.info()"
   ],
   "id": "aa03f386a49d42e7",
   "outputs": [
    {
     "name": "stdout",
     "output_type": "stream",
     "text": [
      "<class 'pandas.core.frame.DataFrame'>\n",
      "RangeIndex: 768 entries, 0 to 767\n",
      "Data columns (total 8 columns):\n",
      " #   Column                    Non-Null Count  Dtype  \n",
      "---  ------                    --------------  -----  \n",
      " 0   Pregnancies               768 non-null    int64  \n",
      " 1   Glucose                   768 non-null    int64  \n",
      " 2   BloodPressure             768 non-null    int64  \n",
      " 3   SkinThickness             768 non-null    int64  \n",
      " 4   Insulin                   768 non-null    int64  \n",
      " 5   BMI                       768 non-null    float64\n",
      " 6   DiabetesPedigreeFunction  768 non-null    float64\n",
      " 7   Age                       768 non-null    int64  \n",
      "dtypes: float64(2), int64(6)\n",
      "memory usage: 48.1 KB\n"
     ]
    }
   ],
   "execution_count": 8
  },
  {
   "metadata": {
    "ExecuteTime": {
     "end_time": "2025-03-24T07:29:31.946834Z",
     "start_time": "2025-03-24T07:29:31.939889Z"
    }
   },
   "cell_type": "code",
   "source": [
    "X = df.drop('BMI', axis=1)\n",
    "y = df['BMI']\n",
    "X_train, X_test, y_train, y_test = train_test_split(X, y, test_size=0.2, random_state=42)\n",
    "\n",
    "X_train.shape, X_test.shape, y_train.shape, y_test.shape"
   ],
   "id": "42ee77f40c4f7c2",
   "outputs": [
    {
     "data": {
      "text/plain": [
       "((614, 7), (154, 7), (614,), (154,))"
      ]
     },
     "execution_count": 9,
     "metadata": {},
     "output_type": "execute_result"
    }
   ],
   "execution_count": 9
  },
  {
   "metadata": {},
   "cell_type": "markdown",
   "source": "# Linear Regression",
   "id": "1110149fab51b58"
  },
  {
   "metadata": {
    "ExecuteTime": {
     "end_time": "2025-03-24T07:30:10.067476Z",
     "start_time": "2025-03-24T07:30:10.048544Z"
    }
   },
   "cell_type": "code",
   "source": [
    "lr = LinearRegression() \n",
    "lr.fit(X_train, y_train)\n",
    "y_pred = lr.predict(X_test)\n",
    "\n",
    "mse = mean_squared_error(y_test, y_pred)\n",
    "mse"
   ],
   "id": "f8644a25b49256a5",
   "outputs": [
    {
     "data": {
      "text/plain": [
       "52.24058284874795"
      ]
     },
     "execution_count": 10,
     "metadata": {},
     "output_type": "execute_result"
    }
   ],
   "execution_count": 10
  },
  {
   "metadata": {},
   "cell_type": "markdown",
   "source": "# Decision Tree Regressor",
   "id": "b078258bcc85066d"
  },
  {
   "metadata": {
    "ExecuteTime": {
     "end_time": "2025-03-24T07:30:20.840088Z",
     "start_time": "2025-03-24T07:30:20.828140Z"
    }
   },
   "cell_type": "code",
   "source": [
    "dt = DecisionTreeRegressor()\n",
    "dt.fit(X_train, y_train)\n",
    "y_pred = dt.predict(X_test)\n",
    "\n",
    "mse = mean_squared_error(y_test, y_pred)\n",
    "mse"
   ],
   "id": "45b9f8e039e290eb",
   "outputs": [
    {
     "data": {
      "text/plain": [
       "94.75675324675323"
      ]
     },
     "execution_count": 11,
     "metadata": {},
     "output_type": "execute_result"
    }
   ],
   "execution_count": 11
  },
  {
   "metadata": {},
   "cell_type": "markdown",
   "source": "# Support Vector Regressor (SVR) ",
   "id": "bc19ad4041434202"
  },
  {
   "metadata": {
    "ExecuteTime": {
     "end_time": "2025-03-24T07:30:33.466230Z",
     "start_time": "2025-03-24T07:30:33.443936Z"
    }
   },
   "cell_type": "code",
   "source": [
    "svr = SVR()\n",
    "svr.fit(X_train, y_train)\n",
    "y_pred = svr.predict(X_test)\n",
    "\n",
    "mse = mean_squared_error(y_test, y_pred)\n",
    "mse"
   ],
   "id": "9c7040f8782efb29",
   "outputs": [
    {
     "data": {
      "text/plain": [
       "57.98807334226491"
      ]
     },
     "execution_count": 12,
     "metadata": {},
     "output_type": "execute_result"
    }
   ],
   "execution_count": 12
  },
  {
   "metadata": {},
   "cell_type": "markdown",
   "source": "# Random Forest Regressor",
   "id": "406d9118756c7025"
  },
  {
   "metadata": {
    "ExecuteTime": {
     "end_time": "2025-03-24T07:30:45.529488Z",
     "start_time": "2025-03-24T07:30:45.252356Z"
    }
   },
   "cell_type": "code",
   "source": [
    "rf = RandomForestRegressor()\n",
    "rf.fit(X_train, y_train)\n",
    "y_pred = rf.predict(X_test)\n",
    "\n",
    "mse = mean_squared_error(y_test, y_pred)\n",
    "mse"
   ],
   "id": "f3e09526315ba27a",
   "outputs": [
    {
     "data": {
      "text/plain": [
       "45.93239593506496"
      ]
     },
     "execution_count": 13,
     "metadata": {},
     "output_type": "execute_result"
    }
   ],
   "execution_count": 13
  }
 ],
 "metadata": {
  "kernelspec": {
   "display_name": "Python 3",
   "language": "python",
   "name": "python3"
  },
  "language_info": {
   "codemirror_mode": {
    "name": "ipython",
    "version": 2
   },
   "file_extension": ".py",
   "mimetype": "text/x-python",
   "name": "python",
   "nbconvert_exporter": "python",
   "pygments_lexer": "ipython2",
   "version": "2.7.6"
  }
 },
 "nbformat": 4,
 "nbformat_minor": 5
}
