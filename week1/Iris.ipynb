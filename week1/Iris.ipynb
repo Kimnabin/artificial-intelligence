{
 "cells": [
  {
   "cell_type": "code",
   "execution_count": null,
   "id": "initial_id",
   "metadata": {
    "ExecuteTime": {
     "end_time": "2025-03-10T07:36:46.068184Z",
     "start_time": "2025-03-10T07:36:46.039408Z"
    },
    "collapsed": true
   },
   "outputs": [],
   "source": [
    "#  필요한 모듈을 불러옵니다.\n",
    "import pandas as pd\n",
    "from sklearn.model_selection import train_test_split\n",
    "from sklearn.tree import DecisionTreeClassifier\n",
    "from sklearn.ensemble import RandomForestClassifier\n",
    "from sklearn.svm import SVC\n",
    "from sklearn.linear_model import LogisticRegression\n",
    "from sklearn.metrics import accuracy_score"
   ]
  },
  {
   "cell_type": "code",
   "execution_count": 7,
   "id": "a80fab34c691d2d5",
   "metadata": {},
   "outputs": [
    {
     "name": "stdout",
     "output_type": "stream",
     "text": [
      "   SepalLength  SepalWidth  PetalLength  PetalWidth         Name\n",
      "0          5.1         3.5          1.4         0.2  Iris-setosa\n",
      "1          4.9         3.0          1.4         0.2  Iris-setosa\n",
      "2          4.7         3.2          1.3         0.2  Iris-setosa\n",
      "3          4.6         3.1          1.5         0.2  Iris-setosa\n",
      "4          5.0         3.6          1.4         0.2  Iris-setosa\n"
     ]
    }
   ],
   "source": [
    "# 데이터 파일 경로 설정\n",
    "file_path = \"E:/AI/week1/iris.csv\"  # 본인이 iris.csv를 저장한 경로를 입력합니다.\n",
    "\n",
    "# CSV 파일 읽기\n",
    "df = pd.read_csv(file_path)\n",
    "\n",
    "# 데이터프레임 확인\n",
    "print(df.head())\n",
    "\n",
    "# 특성과 레이블 분리\n",
    "X = df.drop('Name', axis=1)  # 특성 (SepalLength, SepalWidth, PetalLength, PetalWidth)\n",
    "y = df['Name']  # 레이블 (Name)\n",
    "\n",
    "# 학습 데이터와 테스트 데이터로 분리\n",
    "X_train, X_test, y_train, y_test = train_test_split(X, y, test_size=0.2, random_state=42)"
   ]
  },
  {
   "cell_type": "markdown",
   "id": "fe437d64",
   "metadata": {},
   "source": [
    "# Decision Tree (DT) 분류"
   ]
  },
  {
   "cell_type": "code",
   "execution_count": 12,
   "id": "4892a428",
   "metadata": {},
   "outputs": [
    {
     "name": "stdout",
     "output_type": "stream",
     "text": [
      "Decision Tree Accuracy: 1.00\n"
     ]
    }
   ],
   "source": [
    "# 의사결정나무(Decision Tree) 모델 생성\n",
    "dt_model = DecisionTreeClassifier(random_state=42)  # 모델을 초기화하고, 랜덤 시드를 42로 설정\n",
    "\n",
    "# 모델 학습 (훈련 데이터 사용)\n",
    "dt_model.fit(X_train, y_train)  \n",
    "\n",
    "# 테스트 데이터로 예측 수행\n",
    "y_pred_dt = dt_model.predict(X_test)  \n",
    "\n",
    "# 모델 정확도(Accuracy) 계산\n",
    "accuracy_dt = accuracy_score(y_test, y_pred_dt)  \n",
    "\n",
    "# 정확도 출력\n",
    "print(f\"Decision Tree Accuracy: {accuracy_dt:.2f}\")  # 소수점 둘째 자리까지 출력\n"
   ]
  },
  {
   "cell_type": "markdown",
   "id": "da139d79",
   "metadata": {},
   "source": [
    "# Support Vector Machine (SVM) 분류"
   ]
  },
  {
   "cell_type": "code",
   "execution_count": 13,
   "id": "3c2b3969",
   "metadata": {},
   "outputs": [
    {
     "name": "stdout",
     "output_type": "stream",
     "text": [
      "SVM Accuracy: 1.00\n"
     ]
    }
   ],
   "source": [
    "# SVM(Support Vector Machine) 모델 생성\n",
    "svm_model = SVC(random_state=42)  # 모델을 초기화하고, 랜덤 시드를 42로 설정\n",
    "\n",
    "# 모델 학습 (훈련 데이터 사용)\n",
    "svm_model.fit(X_train, y_train)  \n",
    "\n",
    "# 테스트 데이터로 예측 수행\n",
    "y_pred_svm = svm_model.predict(X_test)  \n",
    "\n",
    "# 모델 정확도(Accuracy) 계산\n",
    "accuracy_svm = accuracy_score(y_test, y_pred_svm)  \n",
    "\n",
    "# 정확도 출력\n",
    "print(f\"SVM Accuracy: {accuracy_svm:.2f}\")  # 소수점 둘째 자리까지 출력\n"
   ]
  },
  {
   "cell_type": "markdown",
   "id": "3fdd6804",
   "metadata": {},
   "source": [
    "# Random Forest (RF) 분류"
   ]
  },
  {
   "cell_type": "code",
   "execution_count": 10,
   "id": "8f83fda2",
   "metadata": {},
   "outputs": [
    {
     "name": "stdout",
     "output_type": "stream",
     "text": [
      "Random Forest Accuracy: 1.00\n"
     ]
    }
   ],
   "source": [
    "# 랜덤 포레스트(Random Forest) 모델 생성\n",
    "rf_model = RandomForestClassifier(random_state=42)  # 모델을 초기화하고, 랜덤 시드를 42로 설정\n",
    "\n",
    "# 모델 학습 (훈련 데이터 사용)\n",
    "rf_model.fit(X_train, y_train)  \n",
    "\n",
    "# 테스트 데이터로 예측 수행\n",
    "y_pred_rf = rf_model.predict(X_test)  \n",
    "\n",
    "# 모델 정확도(Accuracy) 계산\n",
    "accuracy_rf = accuracy_score(y_test, y_pred_rf)  \n",
    "\n",
    "# 정확도 출력\n",
    "print(f\"Random Forest Accuracy: {accuracy_rf:.2f}\")  # 소수점 둘째 자리까지 출력\n"
   ]
  },
  {
   "cell_type": "markdown",
   "id": "5bfbb30a",
   "metadata": {},
   "source": [
    "# Logistic Regression (LR) 분류"
   ]
  },
  {
   "cell_type": "code",
   "execution_count": 14,
   "id": "a52e3162",
   "metadata": {},
   "outputs": [
    {
     "name": "stdout",
     "output_type": "stream",
     "text": [
      "Logistic Regression Accuracy: 1.00\n"
     ]
    }
   ],
   "source": [
    "# 로지스틱 회귀(Logistic Regression) 모델 생성\n",
    "lr_model = LogisticRegression(random_state=42)  # 모델을 초기화하고, 랜덤 시드를 42로 설정\n",
    "\n",
    "# 모델 학습 (훈련 데이터 사용)\n",
    "lr_model.fit(X_train, y_train)  \n",
    "\n",
    "# 테스트 데이터로 예측 수행\n",
    "y_pred_lr = lr_model.predict(X_test)  \n",
    "\n",
    "# 모델 정확도(Accuracy) 계산\n",
    "accuracy_lr = accuracy_score(y_test, y_pred_lr)  \n",
    "\n",
    "# 정확도 출력\n",
    "print(f\"Logistic Regression Accuracy: {accuracy_lr:.2f}\")  # 소수점 둘째 자리까지 출력\n"
   ]
  }
 ],
 "metadata": {
  "kernelspec": {
   "display_name": "Python 3",
   "language": "python",
   "name": "python3"
  },
  "language_info": {
   "codemirror_mode": {
    "name": "ipython",
    "version": 3
   },
   "file_extension": ".py",
   "mimetype": "text/x-python",
   "name": "python",
   "nbconvert_exporter": "python",
   "pygments_lexer": "ipython3",
   "version": "3.12.6"
  }
 },
 "nbformat": 4,
 "nbformat_minor": 5
}
