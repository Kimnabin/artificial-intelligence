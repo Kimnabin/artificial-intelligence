{
 "cells": [
  {
   "metadata": {},
   "cell_type": "markdown",
   "source": "# 자동차 평가 데이터 딥러닝 분류하기",
   "id": "b990a75bc8596c41"
  },
  {
   "cell_type": "code",
   "id": "initial_id",
   "metadata": {
    "collapsed": true,
    "ExecuteTime": {
     "end_time": "2025-04-07T04:27:17.846141Z",
     "start_time": "2025-04-07T04:27:17.843279Z"
    }
   },
   "source": [
    "import pandas as pd\n",
    "import numpy as np\n",
    "from sklearn.model_selection import train_test_split\n",
    "from sklearn.preprocessing import StandardScaler, LabelEncoder"
   ],
   "outputs": [],
   "execution_count": 20
  },
  {
   "metadata": {
    "ExecuteTime": {
     "end_time": "2025-04-07T04:27:17.850667Z",
     "start_time": "2025-04-07T04:27:17.847152Z"
    }
   },
   "cell_type": "code",
   "source": [
    "# 데이터 불러오기\n",
    "\n",
    "file_path = 'D:/K1_nam4/인공지능개론/artificial-intelligence/AI_class/artificial-intelligence/week5/dataFrame/car_evaluation.csv'"
   ],
   "id": "3d91501a7eb77f4f",
   "outputs": [],
   "execution_count": 21
  },
  {
   "metadata": {
    "ExecuteTime": {
     "end_time": "2025-04-07T04:27:17.861677Z",
     "start_time": "2025-04-07T04:27:17.851679Z"
    }
   },
   "cell_type": "code",
   "source": [
    "column_names = [\"buying\", \"maint\", \"doors\", \"persons\", \"lug_boot\", \"safety\", \"class\"]\n",
    "car_df = pd.read_csv(file_path, names=column_names)\n",
    "car_df.info()"
   ],
   "id": "9e2b679cb9a7624f",
   "outputs": [
    {
     "name": "stdout",
     "output_type": "stream",
     "text": [
      "<class 'pandas.core.frame.DataFrame'>\n",
      "RangeIndex: 1728 entries, 0 to 1727\n",
      "Data columns (total 7 columns):\n",
      " #   Column    Non-Null Count  Dtype \n",
      "---  ------    --------------  ----- \n",
      " 0   buying    1728 non-null   object\n",
      " 1   maint     1728 non-null   object\n",
      " 2   doors     1728 non-null   object\n",
      " 3   persons   1728 non-null   object\n",
      " 4   lug_boot  1728 non-null   object\n",
      " 5   safety    1728 non-null   object\n",
      " 6   class     1728 non-null   object\n",
      "dtypes: object(7)\n",
      "memory usage: 94.6+ KB\n"
     ]
    }
   ],
   "execution_count": 22
  },
  {
   "metadata": {
    "ExecuteTime": {
     "end_time": "2025-04-07T04:27:17.879835Z",
     "start_time": "2025-04-07T04:27:17.873779Z"
    }
   },
   "cell_type": "code",
   "source": [
    "# 데이터 전처리\n",
    "\n",
    "car_df.duplicated()"
   ],
   "id": "664c5050822137ad",
   "outputs": [
    {
     "data": {
      "text/plain": [
       "0       False\n",
       "1       False\n",
       "2       False\n",
       "3       False\n",
       "4       False\n",
       "        ...  \n",
       "1723    False\n",
       "1724    False\n",
       "1725    False\n",
       "1726    False\n",
       "1727    False\n",
       "Length: 1728, dtype: bool"
      ]
     },
     "execution_count": 23,
     "metadata": {},
     "output_type": "execute_result"
    }
   ],
   "execution_count": 23
  },
  {
   "metadata": {
    "ExecuteTime": {
     "end_time": "2025-04-07T04:27:17.912505Z",
     "start_time": "2025-04-07T04:27:17.906848Z"
    }
   },
   "cell_type": "code",
   "source": "car_df.isnull().sum()",
   "id": "f9af194f4face663",
   "outputs": [
    {
     "data": {
      "text/plain": [
       "buying      0\n",
       "maint       0\n",
       "doors       0\n",
       "persons     0\n",
       "lug_boot    0\n",
       "safety      0\n",
       "class       0\n",
       "dtype: int64"
      ]
     },
     "execution_count": 24,
     "metadata": {},
     "output_type": "execute_result"
    }
   ],
   "execution_count": 24
  },
  {
   "metadata": {
    "ExecuteTime": {
     "end_time": "2025-04-07T04:27:17.920782Z",
     "start_time": "2025-04-07T04:27:17.913514Z"
    }
   },
   "cell_type": "code",
   "source": "car_df.head()",
   "id": "dffefd72666229b6",
   "outputs": [
    {
     "data": {
      "text/plain": [
       "  buying  maint doors persons lug_boot safety  class\n",
       "0  vhigh  vhigh     2       2    small    low  unacc\n",
       "1  vhigh  vhigh     2       2    small    med  unacc\n",
       "2  vhigh  vhigh     2       2    small   high  unacc\n",
       "3  vhigh  vhigh     2       2      med    low  unacc\n",
       "4  vhigh  vhigh     2       2      med    med  unacc"
      ],
      "text/html": [
       "<div>\n",
       "<style scoped>\n",
       "    .dataframe tbody tr th:only-of-type {\n",
       "        vertical-align: middle;\n",
       "    }\n",
       "\n",
       "    .dataframe tbody tr th {\n",
       "        vertical-align: top;\n",
       "    }\n",
       "\n",
       "    .dataframe thead th {\n",
       "        text-align: right;\n",
       "    }\n",
       "</style>\n",
       "<table border=\"1\" class=\"dataframe\">\n",
       "  <thead>\n",
       "    <tr style=\"text-align: right;\">\n",
       "      <th></th>\n",
       "      <th>buying</th>\n",
       "      <th>maint</th>\n",
       "      <th>doors</th>\n",
       "      <th>persons</th>\n",
       "      <th>lug_boot</th>\n",
       "      <th>safety</th>\n",
       "      <th>class</th>\n",
       "    </tr>\n",
       "  </thead>\n",
       "  <tbody>\n",
       "    <tr>\n",
       "      <th>0</th>\n",
       "      <td>vhigh</td>\n",
       "      <td>vhigh</td>\n",
       "      <td>2</td>\n",
       "      <td>2</td>\n",
       "      <td>small</td>\n",
       "      <td>low</td>\n",
       "      <td>unacc</td>\n",
       "    </tr>\n",
       "    <tr>\n",
       "      <th>1</th>\n",
       "      <td>vhigh</td>\n",
       "      <td>vhigh</td>\n",
       "      <td>2</td>\n",
       "      <td>2</td>\n",
       "      <td>small</td>\n",
       "      <td>med</td>\n",
       "      <td>unacc</td>\n",
       "    </tr>\n",
       "    <tr>\n",
       "      <th>2</th>\n",
       "      <td>vhigh</td>\n",
       "      <td>vhigh</td>\n",
       "      <td>2</td>\n",
       "      <td>2</td>\n",
       "      <td>small</td>\n",
       "      <td>high</td>\n",
       "      <td>unacc</td>\n",
       "    </tr>\n",
       "    <tr>\n",
       "      <th>3</th>\n",
       "      <td>vhigh</td>\n",
       "      <td>vhigh</td>\n",
       "      <td>2</td>\n",
       "      <td>2</td>\n",
       "      <td>med</td>\n",
       "      <td>low</td>\n",
       "      <td>unacc</td>\n",
       "    </tr>\n",
       "    <tr>\n",
       "      <th>4</th>\n",
       "      <td>vhigh</td>\n",
       "      <td>vhigh</td>\n",
       "      <td>2</td>\n",
       "      <td>2</td>\n",
       "      <td>med</td>\n",
       "      <td>med</td>\n",
       "      <td>unacc</td>\n",
       "    </tr>\n",
       "  </tbody>\n",
       "</table>\n",
       "</div>"
      ]
     },
     "execution_count": 25,
     "metadata": {},
     "output_type": "execute_result"
    }
   ],
   "execution_count": 25
  },
  {
   "metadata": {
    "ExecuteTime": {
     "end_time": "2025-04-07T04:27:17.924765Z",
     "start_time": "2025-04-07T04:27:17.921789Z"
    }
   },
   "cell_type": "code",
   "source": [
    "# # 레이블 인코딩\n",
    "# le = LabelEncoder()\n",
    "# car_df['buying'] = le.fit_transform(car_df['buying'])\n",
    "# car_df['maint'] = le.fit_transform(car_df['maint'])\n",
    "# car_df['doors'] = le.fit_transform(car_df['doors'])\n",
    "# car_df['persons'] = le.fit_transform(car_df['persons'])\n",
    "# car_df['lug_boot'] = le.fit_transform(car_df['lug_boot'])\n",
    "# car_df['safety'] = le.fit_transform(car_df['safety'])\n",
    "# car_df['class'] = le.fit_transform(car_df['class'])"
   ],
   "id": "4d5dfb8e32b9ea0e",
   "outputs": [],
   "execution_count": 26
  },
  {
   "metadata": {
    "ExecuteTime": {
     "end_time": "2025-04-07T04:27:47.780936Z",
     "start_time": "2025-04-07T04:27:47.770774Z"
    }
   },
   "cell_type": "code",
   "source": "car_df.value_counts()",
   "id": "a4adcb5ea8f345c9",
   "outputs": [
    {
     "data": {
      "text/plain": [
       "buying  maint  doors  persons  lug_boot  safety  class\n",
       "vhigh   vhigh  5more  4        big       low     unacc    1\n",
       "                                         high    unacc    1\n",
       "                      2        small     med     unacc    1\n",
       "                                         low     unacc    1\n",
       "                                         high    unacc    1\n",
       "                                                         ..\n",
       "high    high   2      2        med       low     unacc    1\n",
       "                                         high    unacc    1\n",
       "                               big       med     unacc    1\n",
       "                                         low     unacc    1\n",
       "                                         high    unacc    1\n",
       "Name: count, Length: 1728, dtype: int64"
      ]
     },
     "execution_count": 27,
     "metadata": {},
     "output_type": "execute_result"
    }
   ],
   "execution_count": 27
  },
  {
   "metadata": {},
   "cell_type": "markdown",
   "source": "### 레이블 인코딩",
   "id": "d02dabf7931166c"
  },
  {
   "metadata": {
    "ExecuteTime": {
     "end_time": "2025-04-07T04:28:18.385501Z",
     "start_time": "2025-04-07T04:28:18.376287Z"
    }
   },
   "cell_type": "code",
   "source": [
    "# 레이블 인코딩\n",
    "label_encoder = LabelEncoder()\n",
    "for col in car_df.columns:\n",
    "    car_df[col] = label_encoder.fit_transform(car_df[col])\n",
    "car_df.head()"
   ],
   "id": "86550ec04763e68",
   "outputs": [
    {
     "data": {
      "text/plain": [
       "   buying  maint  doors  persons  lug_boot  safety  class\n",
       "0       3      3      0        0         2       1      2\n",
       "1       3      3      0        0         2       2      2\n",
       "2       3      3      0        0         2       0      2\n",
       "3       3      3      0        0         1       1      2\n",
       "4       3      3      0        0         1       2      2"
      ],
      "text/html": [
       "<div>\n",
       "<style scoped>\n",
       "    .dataframe tbody tr th:only-of-type {\n",
       "        vertical-align: middle;\n",
       "    }\n",
       "\n",
       "    .dataframe tbody tr th {\n",
       "        vertical-align: top;\n",
       "    }\n",
       "\n",
       "    .dataframe thead th {\n",
       "        text-align: right;\n",
       "    }\n",
       "</style>\n",
       "<table border=\"1\" class=\"dataframe\">\n",
       "  <thead>\n",
       "    <tr style=\"text-align: right;\">\n",
       "      <th></th>\n",
       "      <th>buying</th>\n",
       "      <th>maint</th>\n",
       "      <th>doors</th>\n",
       "      <th>persons</th>\n",
       "      <th>lug_boot</th>\n",
       "      <th>safety</th>\n",
       "      <th>class</th>\n",
       "    </tr>\n",
       "  </thead>\n",
       "  <tbody>\n",
       "    <tr>\n",
       "      <th>0</th>\n",
       "      <td>3</td>\n",
       "      <td>3</td>\n",
       "      <td>0</td>\n",
       "      <td>0</td>\n",
       "      <td>2</td>\n",
       "      <td>1</td>\n",
       "      <td>2</td>\n",
       "    </tr>\n",
       "    <tr>\n",
       "      <th>1</th>\n",
       "      <td>3</td>\n",
       "      <td>3</td>\n",
       "      <td>0</td>\n",
       "      <td>0</td>\n",
       "      <td>2</td>\n",
       "      <td>2</td>\n",
       "      <td>2</td>\n",
       "    </tr>\n",
       "    <tr>\n",
       "      <th>2</th>\n",
       "      <td>3</td>\n",
       "      <td>3</td>\n",
       "      <td>0</td>\n",
       "      <td>0</td>\n",
       "      <td>2</td>\n",
       "      <td>0</td>\n",
       "      <td>2</td>\n",
       "    </tr>\n",
       "    <tr>\n",
       "      <th>3</th>\n",
       "      <td>3</td>\n",
       "      <td>3</td>\n",
       "      <td>0</td>\n",
       "      <td>0</td>\n",
       "      <td>1</td>\n",
       "      <td>1</td>\n",
       "      <td>2</td>\n",
       "    </tr>\n",
       "    <tr>\n",
       "      <th>4</th>\n",
       "      <td>3</td>\n",
       "      <td>3</td>\n",
       "      <td>0</td>\n",
       "      <td>0</td>\n",
       "      <td>1</td>\n",
       "      <td>2</td>\n",
       "      <td>2</td>\n",
       "    </tr>\n",
       "  </tbody>\n",
       "</table>\n",
       "</div>"
      ]
     },
     "execution_count": 28,
     "metadata": {},
     "output_type": "execute_result"
    }
   ],
   "execution_count": 28
  },
  {
   "metadata": {
    "ExecuteTime": {
     "end_time": "2025-04-07T04:31:55.075092Z",
     "start_time": "2025-04-07T04:31:55.067088Z"
    }
   },
   "cell_type": "code",
   "source": "car_df.value_counts()",
   "id": "1c512643ba903d53",
   "outputs": [
    {
     "data": {
      "text/plain": [
       "buying  maint  doors  persons  lug_boot  safety  class\n",
       "3       3      3      1        0         1       2        1\n",
       "                                         0       2        1\n",
       "                      0        2         2       2        1\n",
       "                                         1       2        1\n",
       "                                         0       2        1\n",
       "                                                         ..\n",
       "0       0      0      0        1         1       2        1\n",
       "                                         0       2        1\n",
       "                               0         2       2        1\n",
       "                                         1       2        1\n",
       "                                         0       2        1\n",
       "Name: count, Length: 1728, dtype: int64"
      ]
     },
     "execution_count": 29,
     "metadata": {},
     "output_type": "execute_result"
    }
   ],
   "execution_count": 29
  },
  {
   "metadata": {
    "ExecuteTime": {
     "end_time": "2025-04-07T04:39:16.940298Z",
     "start_time": "2025-04-07T04:39:16.935939Z"
    }
   },
   "cell_type": "code",
   "source": [
    "# 데이터 분할\n",
    "X = car_df.drop('class', axis=1)\n",
    "y = car_df['class']"
   ],
   "id": "ec8509e198d8e01b",
   "outputs": [],
   "execution_count": 40
  },
  {
   "metadata": {
    "ExecuteTime": {
     "end_time": "2025-04-07T04:40:01.998630Z",
     "start_time": "2025-04-07T04:40:01.990793Z"
    }
   },
   "cell_type": "code",
   "source": "",
   "id": "1f11bd4d19d2c901",
   "outputs": [
    {
     "data": {
      "text/plain": [
       "0      1      2      3    \n",
       "False  False  True   False    1210\n",
       "True   False  False  False     384\n",
       "False  True   False  False      69\n",
       "       False  False  True       65\n",
       "Name: count, dtype: int64"
      ]
     },
     "execution_count": 44,
     "metadata": {},
     "output_type": "execute_result"
    }
   ],
   "execution_count": 44
  },
  {
   "metadata": {
    "ExecuteTime": {
     "end_time": "2025-04-07T04:47:41.404047Z",
     "start_time": "2025-04-07T04:47:41.396325Z"
    }
   },
   "cell_type": "code",
   "source": [
    "X_train, X_test, y_train, y_test = train_test_split(X, y, test_size=0.2, random_state=42)\n",
    "\n",
    "X_train.shape, X_test.shape, y_train.shape, y_test.shape"
   ],
   "id": "4fe3522681042654",
   "outputs": [
    {
     "data": {
      "text/plain": [
       "((1382, 6), (346, 6), (1382,), (346,))"
      ]
     },
     "execution_count": 45,
     "metadata": {},
     "output_type": "execute_result"
    }
   ],
   "execution_count": 45
  },
  {
   "metadata": {
    "ExecuteTime": {
     "end_time": "2025-04-07T04:48:12.461551Z",
     "start_time": "2025-04-07T04:48:12.456553Z"
    }
   },
   "cell_type": "code",
   "source": [
    "y_train = pd.get_dummies(y_train)\n",
    "y_test = pd.get_dummies(y_test)"
   ],
   "id": "33ded1bac3356674",
   "outputs": [],
   "execution_count": 47
  },
  {
   "metadata": {
    "ExecuteTime": {
     "end_time": "2025-04-07T04:48:23.595003Z",
     "start_time": "2025-04-07T04:48:23.587905Z"
    }
   },
   "cell_type": "code",
   "source": [
    "# 데이터 정규화\n",
    "scaler = StandardScaler()\n",
    "X_train = scaler.fit_transform(X_train)\n",
    "X_test = scaler.transform(X_test)"
   ],
   "id": "f802ce7e587ae027",
   "outputs": [],
   "execution_count": 48
  },
  {
   "metadata": {
    "ExecuteTime": {
     "end_time": "2025-04-07T04:48:38.911429Z",
     "start_time": "2025-04-07T04:48:35.520624Z"
    }
   },
   "cell_type": "code",
   "source": [
    "# 모델링\n",
    "import tensorflow as tf\n",
    "from tensorflow import keras\n",
    "from tensorflow.keras import layers"
   ],
   "id": "b1127062fb530063",
   "outputs": [],
   "execution_count": 49
  },
  {
   "metadata": {
    "ExecuteTime": {
     "end_time": "2025-04-07T04:52:19.135866Z",
     "start_time": "2025-04-07T04:52:19.112173Z"
    }
   },
   "cell_type": "code",
   "source": [
    "model = keras.Sequential()\n",
    "model.add(keras.Input(shape=(X_train.shape[1],)))\n",
    "model.add(layers.Dense(32, activation='relu'))\n",
    "model.add(layers.Dense(32, activation='relu'))\n",
    "model.add(layers.Dense(4, activation='softmax'))\n",
    "model.compile(optimizer='adam', loss='categorical_crossentropy', metrics=['accuracy'])\n"
   ],
   "id": "7bea40476f357d42",
   "outputs": [],
   "execution_count": 55
  },
  {
   "metadata": {
    "ExecuteTime": {
     "end_time": "2025-04-07T04:52:58.026134Z",
     "start_time": "2025-04-07T04:52:46.076578Z"
    }
   },
   "cell_type": "code",
   "source": "history = model.fit(X_train, y_train, epochs=100, batch_size=32, validation_split=0.2)",
   "id": "9940a934b929215c",
   "outputs": [
    {
     "name": "stdout",
     "output_type": "stream",
     "text": [
      "Epoch 1/100\n",
      "\u001B[1m35/35\u001B[0m \u001B[32m━━━━━━━━━━━━━━━━━━━━\u001B[0m\u001B[37m\u001B[0m \u001B[1m1s\u001B[0m 6ms/step - accuracy: 0.4807 - loss: 1.2567 - val_accuracy: 0.6534 - val_loss: 1.0080\n",
      "Epoch 2/100\n",
      "\u001B[1m35/35\u001B[0m \u001B[32m━━━━━━━━━━━━━━━━━━━━\u001B[0m\u001B[37m\u001B[0m \u001B[1m0s\u001B[0m 4ms/step - accuracy: 0.7272 - loss: 0.8698 - val_accuracy: 0.6534 - val_loss: 0.8425\n",
      "Epoch 3/100\n",
      "\u001B[1m35/35\u001B[0m \u001B[32m━━━━━━━━━━━━━━━━━━━━\u001B[0m\u001B[37m\u001B[0m \u001B[1m0s\u001B[0m 3ms/step - accuracy: 0.7078 - loss: 0.7199 - val_accuracy: 0.6715 - val_loss: 0.7664\n",
      "Epoch 4/100\n",
      "\u001B[1m35/35\u001B[0m \u001B[32m━━━━━━━━━━━━━━━━━━━━\u001B[0m\u001B[37m\u001B[0m \u001B[1m0s\u001B[0m 3ms/step - accuracy: 0.7231 - loss: 0.6722 - val_accuracy: 0.6931 - val_loss: 0.7230\n",
      "Epoch 5/100\n",
      "\u001B[1m35/35\u001B[0m \u001B[32m━━━━━━━━━━━━━━━━━━━━\u001B[0m\u001B[37m\u001B[0m \u001B[1m0s\u001B[0m 3ms/step - accuracy: 0.7716 - loss: 0.5977 - val_accuracy: 0.7040 - val_loss: 0.6858\n",
      "Epoch 6/100\n",
      "\u001B[1m35/35\u001B[0m \u001B[32m━━━━━━━━━━━━━━━━━━━━\u001B[0m\u001B[37m\u001B[0m \u001B[1m0s\u001B[0m 3ms/step - accuracy: 0.7441 - loss: 0.5820 - val_accuracy: 0.7148 - val_loss: 0.6528\n",
      "Epoch 7/100\n",
      "\u001B[1m35/35\u001B[0m \u001B[32m━━━━━━━━━━━━━━━━━━━━\u001B[0m\u001B[37m\u001B[0m \u001B[1m0s\u001B[0m 3ms/step - accuracy: 0.7914 - loss: 0.5243 - val_accuracy: 0.7329 - val_loss: 0.6131\n",
      "Epoch 8/100\n",
      "\u001B[1m35/35\u001B[0m \u001B[32m━━━━━━━━━━━━━━━━━━━━\u001B[0m\u001B[37m\u001B[0m \u001B[1m0s\u001B[0m 3ms/step - accuracy: 0.7967 - loss: 0.4995 - val_accuracy: 0.7581 - val_loss: 0.5780\n",
      "Epoch 9/100\n",
      "\u001B[1m35/35\u001B[0m \u001B[32m━━━━━━━━━━━━━━━━━━━━\u001B[0m\u001B[37m\u001B[0m \u001B[1m0s\u001B[0m 3ms/step - accuracy: 0.8104 - loss: 0.4399 - val_accuracy: 0.7798 - val_loss: 0.5380\n",
      "Epoch 10/100\n",
      "\u001B[1m35/35\u001B[0m \u001B[32m━━━━━━━━━━━━━━━━━━━━\u001B[0m\u001B[37m\u001B[0m \u001B[1m0s\u001B[0m 3ms/step - accuracy: 0.8455 - loss: 0.4089 - val_accuracy: 0.7978 - val_loss: 0.4977\n",
      "Epoch 11/100\n",
      "\u001B[1m35/35\u001B[0m \u001B[32m━━━━━━━━━━━━━━━━━━━━\u001B[0m\u001B[37m\u001B[0m \u001B[1m0s\u001B[0m 3ms/step - accuracy: 0.8318 - loss: 0.4080 - val_accuracy: 0.8087 - val_loss: 0.4714\n",
      "Epoch 12/100\n",
      "\u001B[1m35/35\u001B[0m \u001B[32m━━━━━━━━━━━━━━━━━━━━\u001B[0m\u001B[37m\u001B[0m \u001B[1m0s\u001B[0m 2ms/step - accuracy: 0.8588 - loss: 0.3459 - val_accuracy: 0.8303 - val_loss: 0.4461\n",
      "Epoch 13/100\n",
      "\u001B[1m35/35\u001B[0m \u001B[32m━━━━━━━━━━━━━━━━━━━━\u001B[0m\u001B[37m\u001B[0m \u001B[1m0s\u001B[0m 2ms/step - accuracy: 0.8837 - loss: 0.3221 - val_accuracy: 0.8195 - val_loss: 0.4155\n",
      "Epoch 14/100\n",
      "\u001B[1m35/35\u001B[0m \u001B[32m━━━━━━━━━━━━━━━━━━━━\u001B[0m\u001B[37m\u001B[0m \u001B[1m0s\u001B[0m 3ms/step - accuracy: 0.8729 - loss: 0.3118 - val_accuracy: 0.8375 - val_loss: 0.3937\n",
      "Epoch 15/100\n",
      "\u001B[1m35/35\u001B[0m \u001B[32m━━━━━━━━━━━━━━━━━━━━\u001B[0m\u001B[37m\u001B[0m \u001B[1m0s\u001B[0m 2ms/step - accuracy: 0.8719 - loss: 0.2932 - val_accuracy: 0.8375 - val_loss: 0.3790\n",
      "Epoch 16/100\n",
      "\u001B[1m35/35\u001B[0m \u001B[32m━━━━━━━━━━━━━━━━━━━━\u001B[0m\u001B[37m\u001B[0m \u001B[1m0s\u001B[0m 2ms/step - accuracy: 0.8951 - loss: 0.2735 - val_accuracy: 0.8484 - val_loss: 0.3605\n",
      "Epoch 17/100\n",
      "\u001B[1m35/35\u001B[0m \u001B[32m━━━━━━━━━━━━━━━━━━━━\u001B[0m\u001B[37m\u001B[0m \u001B[1m0s\u001B[0m 2ms/step - accuracy: 0.9076 - loss: 0.2483 - val_accuracy: 0.8520 - val_loss: 0.3409\n",
      "Epoch 18/100\n",
      "\u001B[1m35/35\u001B[0m \u001B[32m━━━━━━━━━━━━━━━━━━━━\u001B[0m\u001B[37m\u001B[0m \u001B[1m0s\u001B[0m 2ms/step - accuracy: 0.9217 - loss: 0.2273 - val_accuracy: 0.8664 - val_loss: 0.3294\n",
      "Epoch 19/100\n",
      "\u001B[1m35/35\u001B[0m \u001B[32m━━━━━━━━━━━━━━━━━━━━\u001B[0m\u001B[37m\u001B[0m \u001B[1m0s\u001B[0m 2ms/step - accuracy: 0.9257 - loss: 0.2322 - val_accuracy: 0.8773 - val_loss: 0.3133\n",
      "Epoch 20/100\n",
      "\u001B[1m35/35\u001B[0m \u001B[32m━━━━━━━━━━━━━━━━━━━━\u001B[0m\u001B[37m\u001B[0m \u001B[1m0s\u001B[0m 2ms/step - accuracy: 0.9272 - loss: 0.2239 - val_accuracy: 0.8809 - val_loss: 0.3016\n",
      "Epoch 21/100\n",
      "\u001B[1m35/35\u001B[0m \u001B[32m━━━━━━━━━━━━━━━━━━━━\u001B[0m\u001B[37m\u001B[0m \u001B[1m0s\u001B[0m 3ms/step - accuracy: 0.9411 - loss: 0.1968 - val_accuracy: 0.8809 - val_loss: 0.2891\n",
      "Epoch 22/100\n",
      "\u001B[1m35/35\u001B[0m \u001B[32m━━━━━━━━━━━━━━━━━━━━\u001B[0m\u001B[37m\u001B[0m \u001B[1m0s\u001B[0m 2ms/step - accuracy: 0.9430 - loss: 0.1898 - val_accuracy: 0.8845 - val_loss: 0.2755\n",
      "Epoch 23/100\n",
      "\u001B[1m35/35\u001B[0m \u001B[32m━━━━━━━━━━━━━━━━━━━━\u001B[0m\u001B[37m\u001B[0m \u001B[1m0s\u001B[0m 2ms/step - accuracy: 0.9432 - loss: 0.1767 - val_accuracy: 0.8700 - val_loss: 0.2683\n",
      "Epoch 24/100\n",
      "\u001B[1m35/35\u001B[0m \u001B[32m━━━━━━━━━━━━━━━━━━━━\u001B[0m\u001B[37m\u001B[0m \u001B[1m0s\u001B[0m 3ms/step - accuracy: 0.9397 - loss: 0.1828 - val_accuracy: 0.8736 - val_loss: 0.2567\n",
      "Epoch 25/100\n",
      "\u001B[1m35/35\u001B[0m \u001B[32m━━━━━━━━━━━━━━━━━━━━\u001B[0m\u001B[37m\u001B[0m \u001B[1m0s\u001B[0m 3ms/step - accuracy: 0.9628 - loss: 0.1560 - val_accuracy: 0.9061 - val_loss: 0.2445\n",
      "Epoch 26/100\n",
      "\u001B[1m35/35\u001B[0m \u001B[32m━━━━━━━━━━━━━━━━━━━━\u001B[0m\u001B[37m\u001B[0m \u001B[1m0s\u001B[0m 2ms/step - accuracy: 0.9644 - loss: 0.1515 - val_accuracy: 0.9097 - val_loss: 0.2373\n",
      "Epoch 27/100\n",
      "\u001B[1m35/35\u001B[0m \u001B[32m━━━━━━━━━━━━━━━━━━━━\u001B[0m\u001B[37m\u001B[0m \u001B[1m0s\u001B[0m 2ms/step - accuracy: 0.9695 - loss: 0.1556 - val_accuracy: 0.9097 - val_loss: 0.2247\n",
      "Epoch 28/100\n",
      "\u001B[1m35/35\u001B[0m \u001B[32m━━━━━━━━━━━━━━━━━━━━\u001B[0m\u001B[37m\u001B[0m \u001B[1m0s\u001B[0m 2ms/step - accuracy: 0.9796 - loss: 0.1282 - val_accuracy: 0.9061 - val_loss: 0.2199\n",
      "Epoch 29/100\n",
      "\u001B[1m35/35\u001B[0m \u001B[32m━━━━━━━━━━━━━━━━━━━━\u001B[0m\u001B[37m\u001B[0m \u001B[1m0s\u001B[0m 3ms/step - accuracy: 0.9783 - loss: 0.1249 - val_accuracy: 0.9206 - val_loss: 0.2072\n",
      "Epoch 30/100\n",
      "\u001B[1m35/35\u001B[0m \u001B[32m━━━━━━━━━━━━━━━━━━━━\u001B[0m\u001B[37m\u001B[0m \u001B[1m0s\u001B[0m 2ms/step - accuracy: 0.9832 - loss: 0.1267 - val_accuracy: 0.9134 - val_loss: 0.2044\n",
      "Epoch 31/100\n",
      "\u001B[1m35/35\u001B[0m \u001B[32m━━━━━━━━━━━━━━━━━━━━\u001B[0m\u001B[37m\u001B[0m \u001B[1m0s\u001B[0m 2ms/step - accuracy: 0.9813 - loss: 0.1202 - val_accuracy: 0.9206 - val_loss: 0.1958\n",
      "Epoch 32/100\n",
      "\u001B[1m35/35\u001B[0m \u001B[32m━━━━━━━━━━━━━━━━━━━━\u001B[0m\u001B[37m\u001B[0m \u001B[1m0s\u001B[0m 2ms/step - accuracy: 0.9838 - loss: 0.1127 - val_accuracy: 0.9314 - val_loss: 0.1883\n",
      "Epoch 33/100\n",
      "\u001B[1m35/35\u001B[0m \u001B[32m━━━━━━━━━━━━━━━━━━━━\u001B[0m\u001B[37m\u001B[0m \u001B[1m0s\u001B[0m 2ms/step - accuracy: 0.9777 - loss: 0.1169 - val_accuracy: 0.9242 - val_loss: 0.1874\n",
      "Epoch 34/100\n",
      "\u001B[1m35/35\u001B[0m \u001B[32m━━━━━━━━━━━━━━━━━━━━\u001B[0m\u001B[37m\u001B[0m \u001B[1m0s\u001B[0m 3ms/step - accuracy: 0.9839 - loss: 0.1033 - val_accuracy: 0.9278 - val_loss: 0.1824\n",
      "Epoch 35/100\n",
      "\u001B[1m35/35\u001B[0m \u001B[32m━━━━━━━━━━━━━━━━━━━━\u001B[0m\u001B[37m\u001B[0m \u001B[1m0s\u001B[0m 2ms/step - accuracy: 0.9813 - loss: 0.1050 - val_accuracy: 0.9278 - val_loss: 0.1712\n",
      "Epoch 36/100\n",
      "\u001B[1m35/35\u001B[0m \u001B[32m━━━━━━━━━━━━━━━━━━━━\u001B[0m\u001B[37m\u001B[0m \u001B[1m0s\u001B[0m 2ms/step - accuracy: 0.9836 - loss: 0.1008 - val_accuracy: 0.9278 - val_loss: 0.1729\n",
      "Epoch 37/100\n",
      "\u001B[1m35/35\u001B[0m \u001B[32m━━━━━━━━━━━━━━━━━━━━\u001B[0m\u001B[37m\u001B[0m \u001B[1m0s\u001B[0m 2ms/step - accuracy: 0.9771 - loss: 0.0971 - val_accuracy: 0.9350 - val_loss: 0.1635\n",
      "Epoch 38/100\n",
      "\u001B[1m35/35\u001B[0m \u001B[32m━━━━━━━━━━━━━━━━━━━━\u001B[0m\u001B[37m\u001B[0m \u001B[1m0s\u001B[0m 3ms/step - accuracy: 0.9886 - loss: 0.0867 - val_accuracy: 0.9278 - val_loss: 0.1629\n",
      "Epoch 39/100\n",
      "\u001B[1m35/35\u001B[0m \u001B[32m━━━━━━━━━━━━━━━━━━━━\u001B[0m\u001B[37m\u001B[0m \u001B[1m0s\u001B[0m 2ms/step - accuracy: 0.9861 - loss: 0.0810 - val_accuracy: 0.9314 - val_loss: 0.1580\n",
      "Epoch 40/100\n",
      "\u001B[1m35/35\u001B[0m \u001B[32m━━━━━━━━━━━━━━━━━━━━\u001B[0m\u001B[37m\u001B[0m \u001B[1m0s\u001B[0m 2ms/step - accuracy: 0.9827 - loss: 0.0843 - val_accuracy: 0.9422 - val_loss: 0.1530\n",
      "Epoch 41/100\n",
      "\u001B[1m35/35\u001B[0m \u001B[32m━━━━━━━━━━━━━━━━━━━━\u001B[0m\u001B[37m\u001B[0m \u001B[1m0s\u001B[0m 2ms/step - accuracy: 0.9883 - loss: 0.0830 - val_accuracy: 0.9350 - val_loss: 0.1552\n",
      "Epoch 42/100\n",
      "\u001B[1m35/35\u001B[0m \u001B[32m━━━━━━━━━━━━━━━━━━━━\u001B[0m\u001B[37m\u001B[0m \u001B[1m0s\u001B[0m 2ms/step - accuracy: 0.9813 - loss: 0.0771 - val_accuracy: 0.9314 - val_loss: 0.1472\n",
      "Epoch 43/100\n",
      "\u001B[1m35/35\u001B[0m \u001B[32m━━━━━━━━━━━━━━━━━━━━\u001B[0m\u001B[37m\u001B[0m \u001B[1m0s\u001B[0m 2ms/step - accuracy: 0.9914 - loss: 0.0725 - val_accuracy: 0.9386 - val_loss: 0.1534\n",
      "Epoch 44/100\n",
      "\u001B[1m35/35\u001B[0m \u001B[32m━━━━━━━━━━━━━━━━━━━━\u001B[0m\u001B[37m\u001B[0m \u001B[1m0s\u001B[0m 3ms/step - accuracy: 0.9853 - loss: 0.0738 - val_accuracy: 0.9458 - val_loss: 0.1426\n",
      "Epoch 45/100\n",
      "\u001B[1m35/35\u001B[0m \u001B[32m━━━━━━━━━━━━━━━━━━━━\u001B[0m\u001B[37m\u001B[0m \u001B[1m0s\u001B[0m 2ms/step - accuracy: 0.9929 - loss: 0.0701 - val_accuracy: 0.9386 - val_loss: 0.1403\n",
      "Epoch 46/100\n",
      "\u001B[1m35/35\u001B[0m \u001B[32m━━━━━━━━━━━━━━━━━━━━\u001B[0m\u001B[37m\u001B[0m \u001B[1m0s\u001B[0m 2ms/step - accuracy: 0.9914 - loss: 0.0686 - val_accuracy: 0.9422 - val_loss: 0.1385\n",
      "Epoch 47/100\n",
      "\u001B[1m35/35\u001B[0m \u001B[32m━━━━━━━━━━━━━━━━━━━━\u001B[0m\u001B[37m\u001B[0m \u001B[1m0s\u001B[0m 3ms/step - accuracy: 0.9884 - loss: 0.0653 - val_accuracy: 0.9350 - val_loss: 0.1385\n",
      "Epoch 48/100\n",
      "\u001B[1m35/35\u001B[0m \u001B[32m━━━━━━━━━━━━━━━━━━━━\u001B[0m\u001B[37m\u001B[0m \u001B[1m0s\u001B[0m 2ms/step - accuracy: 0.9929 - loss: 0.0574 - val_accuracy: 0.9458 - val_loss: 0.1309\n",
      "Epoch 49/100\n",
      "\u001B[1m35/35\u001B[0m \u001B[32m━━━━━━━━━━━━━━━━━━━━\u001B[0m\u001B[37m\u001B[0m \u001B[1m0s\u001B[0m 2ms/step - accuracy: 0.9897 - loss: 0.0620 - val_accuracy: 0.9422 - val_loss: 0.1332\n",
      "Epoch 50/100\n",
      "\u001B[1m35/35\u001B[0m \u001B[32m━━━━━━━━━━━━━━━━━━━━\u001B[0m\u001B[37m\u001B[0m \u001B[1m0s\u001B[0m 2ms/step - accuracy: 0.9915 - loss: 0.0556 - val_accuracy: 0.9531 - val_loss: 0.1276\n",
      "Epoch 51/100\n",
      "\u001B[1m35/35\u001B[0m \u001B[32m━━━━━━━━━━━━━━━━━━━━\u001B[0m\u001B[37m\u001B[0m \u001B[1m0s\u001B[0m 2ms/step - accuracy: 0.9947 - loss: 0.0550 - val_accuracy: 0.9422 - val_loss: 0.1281\n",
      "Epoch 52/100\n",
      "\u001B[1m35/35\u001B[0m \u001B[32m━━━━━━━━━━━━━━━━━━━━\u001B[0m\u001B[37m\u001B[0m \u001B[1m0s\u001B[0m 2ms/step - accuracy: 0.9909 - loss: 0.0550 - val_accuracy: 0.9458 - val_loss: 0.1250\n",
      "Epoch 53/100\n",
      "\u001B[1m35/35\u001B[0m \u001B[32m━━━━━━━━━━━━━━━━━━━━\u001B[0m\u001B[37m\u001B[0m \u001B[1m0s\u001B[0m 3ms/step - accuracy: 0.9906 - loss: 0.0510 - val_accuracy: 0.9458 - val_loss: 0.1238\n",
      "Epoch 54/100\n",
      "\u001B[1m35/35\u001B[0m \u001B[32m━━━━━━━━━━━━━━━━━━━━\u001B[0m\u001B[37m\u001B[0m \u001B[1m0s\u001B[0m 2ms/step - accuracy: 0.9868 - loss: 0.0546 - val_accuracy: 0.9422 - val_loss: 0.1218\n",
      "Epoch 55/100\n",
      "\u001B[1m35/35\u001B[0m \u001B[32m━━━━━━━━━━━━━━━━━━━━\u001B[0m\u001B[37m\u001B[0m \u001B[1m0s\u001B[0m 3ms/step - accuracy: 0.9909 - loss: 0.0550 - val_accuracy: 0.9495 - val_loss: 0.1221\n",
      "Epoch 56/100\n",
      "\u001B[1m35/35\u001B[0m \u001B[32m━━━━━━━━━━━━━━━━━━━━\u001B[0m\u001B[37m\u001B[0m \u001B[1m0s\u001B[0m 2ms/step - accuracy: 0.9860 - loss: 0.0526 - val_accuracy: 0.9458 - val_loss: 0.1224\n",
      "Epoch 57/100\n",
      "\u001B[1m35/35\u001B[0m \u001B[32m━━━━━━━━━━━━━━━━━━━━\u001B[0m\u001B[37m\u001B[0m \u001B[1m0s\u001B[0m 2ms/step - accuracy: 0.9926 - loss: 0.0466 - val_accuracy: 0.9531 - val_loss: 0.1187\n",
      "Epoch 58/100\n",
      "\u001B[1m35/35\u001B[0m \u001B[32m━━━━━━━━━━━━━━━━━━━━\u001B[0m\u001B[37m\u001B[0m \u001B[1m0s\u001B[0m 2ms/step - accuracy: 0.9891 - loss: 0.0504 - val_accuracy: 0.9495 - val_loss: 0.1202\n",
      "Epoch 59/100\n",
      "\u001B[1m35/35\u001B[0m \u001B[32m━━━━━━━━━━━━━━━━━━━━\u001B[0m\u001B[37m\u001B[0m \u001B[1m0s\u001B[0m 2ms/step - accuracy: 0.9917 - loss: 0.0463 - val_accuracy: 0.9458 - val_loss: 0.1201\n",
      "Epoch 60/100\n",
      "\u001B[1m35/35\u001B[0m \u001B[32m━━━━━━━━━━━━━━━━━━━━\u001B[0m\u001B[37m\u001B[0m \u001B[1m0s\u001B[0m 3ms/step - accuracy: 0.9921 - loss: 0.0482 - val_accuracy: 0.9422 - val_loss: 0.1191\n",
      "Epoch 61/100\n",
      "\u001B[1m35/35\u001B[0m \u001B[32m━━━━━━━━━━━━━━━━━━━━\u001B[0m\u001B[37m\u001B[0m \u001B[1m0s\u001B[0m 3ms/step - accuracy: 0.9937 - loss: 0.0471 - val_accuracy: 0.9458 - val_loss: 0.1172\n",
      "Epoch 62/100\n",
      "\u001B[1m35/35\u001B[0m \u001B[32m━━━━━━━━━━━━━━━━━━━━\u001B[0m\u001B[37m\u001B[0m \u001B[1m0s\u001B[0m 3ms/step - accuracy: 0.9912 - loss: 0.0482 - val_accuracy: 0.9458 - val_loss: 0.1151\n",
      "Epoch 63/100\n",
      "\u001B[1m35/35\u001B[0m \u001B[32m━━━━━━━━━━━━━━━━━━━━\u001B[0m\u001B[37m\u001B[0m \u001B[1m0s\u001B[0m 2ms/step - accuracy: 0.9928 - loss: 0.0430 - val_accuracy: 0.9531 - val_loss: 0.1116\n",
      "Epoch 64/100\n",
      "\u001B[1m35/35\u001B[0m \u001B[32m━━━━━━━━━━━━━━━━━━━━\u001B[0m\u001B[37m\u001B[0m \u001B[1m0s\u001B[0m 2ms/step - accuracy: 0.9939 - loss: 0.0410 - val_accuracy: 0.9495 - val_loss: 0.1141\n",
      "Epoch 65/100\n",
      "\u001B[1m35/35\u001B[0m \u001B[32m━━━━━━━━━━━━━━━━━━━━\u001B[0m\u001B[37m\u001B[0m \u001B[1m0s\u001B[0m 2ms/step - accuracy: 0.9967 - loss: 0.0394 - val_accuracy: 0.9531 - val_loss: 0.1123\n",
      "Epoch 66/100\n",
      "\u001B[1m35/35\u001B[0m \u001B[32m━━━━━━━━━━━━━━━━━━━━\u001B[0m\u001B[37m\u001B[0m \u001B[1m0s\u001B[0m 2ms/step - accuracy: 0.9928 - loss: 0.0405 - val_accuracy: 0.9458 - val_loss: 0.1100\n",
      "Epoch 67/100\n",
      "\u001B[1m35/35\u001B[0m \u001B[32m━━━━━━━━━━━━━━━━━━━━\u001B[0m\u001B[37m\u001B[0m \u001B[1m0s\u001B[0m 2ms/step - accuracy: 0.9916 - loss: 0.0349 - val_accuracy: 0.9458 - val_loss: 0.1107\n",
      "Epoch 68/100\n",
      "\u001B[1m35/35\u001B[0m \u001B[32m━━━━━━━━━━━━━━━━━━━━\u001B[0m\u001B[37m\u001B[0m \u001B[1m0s\u001B[0m 2ms/step - accuracy: 0.9927 - loss: 0.0405 - val_accuracy: 0.9495 - val_loss: 0.1089\n",
      "Epoch 69/100\n",
      "\u001B[1m35/35\u001B[0m \u001B[32m━━━━━━━━━━━━━━━━━━━━\u001B[0m\u001B[37m\u001B[0m \u001B[1m0s\u001B[0m 3ms/step - accuracy: 0.9936 - loss: 0.0350 - val_accuracy: 0.9531 - val_loss: 0.1138\n",
      "Epoch 70/100\n",
      "\u001B[1m35/35\u001B[0m \u001B[32m━━━━━━━━━━━━━━━━━━━━\u001B[0m\u001B[37m\u001B[0m \u001B[1m0s\u001B[0m 2ms/step - accuracy: 0.9949 - loss: 0.0333 - val_accuracy: 0.9495 - val_loss: 0.1116\n",
      "Epoch 71/100\n",
      "\u001B[1m35/35\u001B[0m \u001B[32m━━━━━━━━━━━━━━━━━━━━\u001B[0m\u001B[37m\u001B[0m \u001B[1m0s\u001B[0m 2ms/step - accuracy: 0.9912 - loss: 0.0397 - val_accuracy: 0.9495 - val_loss: 0.1049\n",
      "Epoch 72/100\n",
      "\u001B[1m35/35\u001B[0m \u001B[32m━━━━━━━━━━━━━━━━━━━━\u001B[0m\u001B[37m\u001B[0m \u001B[1m0s\u001B[0m 3ms/step - accuracy: 0.9969 - loss: 0.0275 - val_accuracy: 0.9458 - val_loss: 0.1058\n",
      "Epoch 73/100\n",
      "\u001B[1m35/35\u001B[0m \u001B[32m━━━━━━━━━━━━━━━━━━━━\u001B[0m\u001B[37m\u001B[0m \u001B[1m0s\u001B[0m 2ms/step - accuracy: 0.9932 - loss: 0.0340 - val_accuracy: 0.9531 - val_loss: 0.1080\n",
      "Epoch 74/100\n",
      "\u001B[1m35/35\u001B[0m \u001B[32m━━━━━━━━━━━━━━━━━━━━\u001B[0m\u001B[37m\u001B[0m \u001B[1m0s\u001B[0m 2ms/step - accuracy: 0.9945 - loss: 0.0332 - val_accuracy: 0.9458 - val_loss: 0.1040\n",
      "Epoch 75/100\n",
      "\u001B[1m35/35\u001B[0m \u001B[32m━━━━━━━━━━━━━━━━━━━━\u001B[0m\u001B[37m\u001B[0m \u001B[1m0s\u001B[0m 2ms/step - accuracy: 0.9955 - loss: 0.0314 - val_accuracy: 0.9531 - val_loss: 0.1072\n",
      "Epoch 76/100\n",
      "\u001B[1m35/35\u001B[0m \u001B[32m━━━━━━━━━━━━━━━━━━━━\u001B[0m\u001B[37m\u001B[0m \u001B[1m0s\u001B[0m 2ms/step - accuracy: 0.9971 - loss: 0.0291 - val_accuracy: 0.9458 - val_loss: 0.1061\n",
      "Epoch 77/100\n",
      "\u001B[1m35/35\u001B[0m \u001B[32m━━━━━━━━━━━━━━━━━━━━\u001B[0m\u001B[37m\u001B[0m \u001B[1m0s\u001B[0m 2ms/step - accuracy: 0.9963 - loss: 0.0300 - val_accuracy: 0.9531 - val_loss: 0.1017\n",
      "Epoch 78/100\n",
      "\u001B[1m35/35\u001B[0m \u001B[32m━━━━━━━━━━━━━━━━━━━━\u001B[0m\u001B[37m\u001B[0m \u001B[1m0s\u001B[0m 3ms/step - accuracy: 0.9954 - loss: 0.0303 - val_accuracy: 0.9495 - val_loss: 0.1062\n",
      "Epoch 79/100\n",
      "\u001B[1m35/35\u001B[0m \u001B[32m━━━━━━━━━━━━━━━━━━━━\u001B[0m\u001B[37m\u001B[0m \u001B[1m0s\u001B[0m 3ms/step - accuracy: 0.9982 - loss: 0.0232 - val_accuracy: 0.9495 - val_loss: 0.1053\n",
      "Epoch 80/100\n",
      "\u001B[1m35/35\u001B[0m \u001B[32m━━━━━━━━━━━━━━━━━━━━\u001B[0m\u001B[37m\u001B[0m \u001B[1m0s\u001B[0m 2ms/step - accuracy: 0.9978 - loss: 0.0274 - val_accuracy: 0.9531 - val_loss: 0.1038\n",
      "Epoch 81/100\n",
      "\u001B[1m35/35\u001B[0m \u001B[32m━━━━━━━━━━━━━━━━━━━━\u001B[0m\u001B[37m\u001B[0m \u001B[1m0s\u001B[0m 2ms/step - accuracy: 0.9986 - loss: 0.0219 - val_accuracy: 0.9495 - val_loss: 0.1051\n",
      "Epoch 82/100\n",
      "\u001B[1m35/35\u001B[0m \u001B[32m━━━━━━━━━━━━━━━━━━━━\u001B[0m\u001B[37m\u001B[0m \u001B[1m0s\u001B[0m 2ms/step - accuracy: 0.9955 - loss: 0.0260 - val_accuracy: 0.9422 - val_loss: 0.1075\n",
      "Epoch 83/100\n",
      "\u001B[1m35/35\u001B[0m \u001B[32m━━━━━━━━━━━━━━━━━━━━\u001B[0m\u001B[37m\u001B[0m \u001B[1m0s\u001B[0m 3ms/step - accuracy: 0.9928 - loss: 0.0269 - val_accuracy: 0.9531 - val_loss: 0.0998\n",
      "Epoch 84/100\n",
      "\u001B[1m35/35\u001B[0m \u001B[32m━━━━━━━━━━━━━━━━━━━━\u001B[0m\u001B[37m\u001B[0m \u001B[1m0s\u001B[0m 2ms/step - accuracy: 0.9935 - loss: 0.0269 - val_accuracy: 0.9495 - val_loss: 0.1029\n",
      "Epoch 85/100\n",
      "\u001B[1m35/35\u001B[0m \u001B[32m━━━━━━━━━━━━━━━━━━━━\u001B[0m\u001B[37m\u001B[0m \u001B[1m0s\u001B[0m 3ms/step - accuracy: 0.9978 - loss: 0.0228 - val_accuracy: 0.9531 - val_loss: 0.1040\n",
      "Epoch 86/100\n",
      "\u001B[1m35/35\u001B[0m \u001B[32m━━━━━━━━━━━━━━━━━━━━\u001B[0m\u001B[37m\u001B[0m \u001B[1m0s\u001B[0m 2ms/step - accuracy: 0.9968 - loss: 0.0266 - val_accuracy: 0.9495 - val_loss: 0.1021\n",
      "Epoch 87/100\n",
      "\u001B[1m35/35\u001B[0m \u001B[32m━━━━━━━━━━━━━━━━━━━━\u001B[0m\u001B[37m\u001B[0m \u001B[1m0s\u001B[0m 2ms/step - accuracy: 0.9968 - loss: 0.0229 - val_accuracy: 0.9495 - val_loss: 0.1069\n",
      "Epoch 88/100\n",
      "\u001B[1m35/35\u001B[0m \u001B[32m━━━━━━━━━━━━━━━━━━━━\u001B[0m\u001B[37m\u001B[0m \u001B[1m0s\u001B[0m 2ms/step - accuracy: 0.9956 - loss: 0.0234 - val_accuracy: 0.9531 - val_loss: 0.1038\n",
      "Epoch 89/100\n",
      "\u001B[1m35/35\u001B[0m \u001B[32m━━━━━━━━━━━━━━━━━━━━\u001B[0m\u001B[37m\u001B[0m \u001B[1m0s\u001B[0m 2ms/step - accuracy: 0.9951 - loss: 0.0242 - val_accuracy: 0.9567 - val_loss: 0.1013\n",
      "Epoch 90/100\n",
      "\u001B[1m35/35\u001B[0m \u001B[32m━━━━━━━━━━━━━━━━━━━━\u001B[0m\u001B[37m\u001B[0m \u001B[1m0s\u001B[0m 2ms/step - accuracy: 0.9994 - loss: 0.0191 - val_accuracy: 0.9458 - val_loss: 0.0991\n",
      "Epoch 91/100\n",
      "\u001B[1m35/35\u001B[0m \u001B[32m━━━━━━━━━━━━━━━━━━━━\u001B[0m\u001B[37m\u001B[0m \u001B[1m0s\u001B[0m 2ms/step - accuracy: 0.9967 - loss: 0.0246 - val_accuracy: 0.9458 - val_loss: 0.1032\n",
      "Epoch 92/100\n",
      "\u001B[1m35/35\u001B[0m \u001B[32m━━━━━━━━━━━━━━━━━━━━\u001B[0m\u001B[37m\u001B[0m \u001B[1m0s\u001B[0m 2ms/step - accuracy: 0.9988 - loss: 0.0218 - val_accuracy: 0.9531 - val_loss: 0.1017\n",
      "Epoch 93/100\n",
      "\u001B[1m35/35\u001B[0m \u001B[32m━━━━━━━━━━━━━━━━━━━━\u001B[0m\u001B[37m\u001B[0m \u001B[1m0s\u001B[0m 2ms/step - accuracy: 0.9993 - loss: 0.0174 - val_accuracy: 0.9495 - val_loss: 0.1025\n",
      "Epoch 94/100\n",
      "\u001B[1m35/35\u001B[0m \u001B[32m━━━━━━━━━━━━━━━━━━━━\u001B[0m\u001B[37m\u001B[0m \u001B[1m0s\u001B[0m 2ms/step - accuracy: 0.9981 - loss: 0.0183 - val_accuracy: 0.9458 - val_loss: 0.1037\n",
      "Epoch 95/100\n",
      "\u001B[1m35/35\u001B[0m \u001B[32m━━━━━━━━━━━━━━━━━━━━\u001B[0m\u001B[37m\u001B[0m \u001B[1m0s\u001B[0m 2ms/step - accuracy: 0.9997 - loss: 0.0181 - val_accuracy: 0.9531 - val_loss: 0.1018\n",
      "Epoch 96/100\n",
      "\u001B[1m35/35\u001B[0m \u001B[32m━━━━━━━━━━━━━━━━━━━━\u001B[0m\u001B[37m\u001B[0m \u001B[1m0s\u001B[0m 2ms/step - accuracy: 0.9983 - loss: 0.0191 - val_accuracy: 0.9531 - val_loss: 0.1010\n",
      "Epoch 97/100\n",
      "\u001B[1m35/35\u001B[0m \u001B[32m━━━━━━━━━━━━━━━━━━━━\u001B[0m\u001B[37m\u001B[0m \u001B[1m0s\u001B[0m 2ms/step - accuracy: 0.9995 - loss: 0.0209 - val_accuracy: 0.9531 - val_loss: 0.1027\n",
      "Epoch 98/100\n",
      "\u001B[1m35/35\u001B[0m \u001B[32m━━━━━━━━━━━━━━━━━━━━\u001B[0m\u001B[37m\u001B[0m \u001B[1m0s\u001B[0m 3ms/step - accuracy: 0.9997 - loss: 0.0160 - val_accuracy: 0.9495 - val_loss: 0.1001\n",
      "Epoch 99/100\n",
      "\u001B[1m35/35\u001B[0m \u001B[32m━━━━━━━━━━━━━━━━━━━━\u001B[0m\u001B[37m\u001B[0m \u001B[1m0s\u001B[0m 3ms/step - accuracy: 0.9996 - loss: 0.0177 - val_accuracy: 0.9495 - val_loss: 0.1045\n",
      "Epoch 100/100\n",
      "\u001B[1m35/35\u001B[0m \u001B[32m━━━━━━━━━━━━━━━━━━━━\u001B[0m\u001B[37m\u001B[0m \u001B[1m0s\u001B[0m 3ms/step - accuracy: 0.9995 - loss: 0.0168 - val_accuracy: 0.9567 - val_loss: 0.1036\n"
     ]
    }
   ],
   "execution_count": 56
  },
  {
   "metadata": {
    "ExecuteTime": {
     "end_time": "2025-04-07T04:53:06.771531Z",
     "start_time": "2025-04-07T04:53:06.695649Z"
    }
   },
   "cell_type": "code",
   "source": [
    "# 모델 평가\n",
    "test_loss, test_acc = model.evaluate(X_test, y_test)\n",
    "print(f\"Test accuracy: {test_acc:.4f}\")"
   ],
   "id": "1906c75bb6fc21ab",
   "outputs": [
    {
     "name": "stdout",
     "output_type": "stream",
     "text": [
      "\u001B[1m11/11\u001B[0m \u001B[32m━━━━━━━━━━━━━━━━━━━━\u001B[0m\u001B[37m\u001B[0m \u001B[1m0s\u001B[0m 2ms/step - accuracy: 0.9527 - loss: 0.1399 \n",
      "Test accuracy: 0.9624\n"
     ]
    }
   ],
   "execution_count": 57
  },
  {
   "metadata": {
    "ExecuteTime": {
     "end_time": "2025-04-07T04:55:23.777280Z",
     "start_time": "2025-04-07T04:55:23.642802Z"
    }
   },
   "cell_type": "code",
   "source": [
    "# 예측\n",
    "predictions = model.predict(X_test)\n",
    "predicted_classes = np.argmax(predictions, axis=1)\n",
    "true_classes = np.argmax(y_test.values, axis=1)"
   ],
   "id": "47b665d511eea8b2",
   "outputs": [
    {
     "name": "stdout",
     "output_type": "stream",
     "text": [
      "\u001B[1m11/11\u001B[0m \u001B[32m━━━━━━━━━━━━━━━━━━━━\u001B[0m\u001B[37m\u001B[0m \u001B[1m0s\u001B[0m 4ms/step \n"
     ]
    }
   ],
   "execution_count": 58
  },
  {
   "metadata": {
    "ExecuteTime": {
     "end_time": "2025-04-07T04:55:39.895963Z",
     "start_time": "2025-04-07T04:55:39.640984Z"
    }
   },
   "cell_type": "code",
   "source": [
    "from sklearn.metrics import classification_report, confusion_matrix\n",
    "import seaborn as sns\n",
    "import matplotlib.pyplot as plt"
   ],
   "id": "45f46fefb7b34d40",
   "outputs": [],
   "execution_count": 59
  },
  {
   "metadata": {
    "ExecuteTime": {
     "end_time": "2025-04-07T04:55:50.980526Z",
     "start_time": "2025-04-07T04:55:50.842157Z"
    }
   },
   "cell_type": "code",
   "source": [
    "# 혼동 행렬\n",
    "cm = confusion_matrix(true_classes, predicted_classes)\n",
    "plt.figure(figsize=(8, 6))\n",
    "sns.heatmap(cm, annot=True, fmt='d', cmap='Blues')\n",
    "plt.title('Confusion Matrix')\n",
    "plt.xlabel('Predicted Label')\n",
    "plt.ylabel('True Label')\n",
    "plt.show()"
   ],
   "id": "6395a82c1a0d72db",
   "outputs": [
    {
     "data": {
      "text/plain": [
       "<Figure size 800x600 with 2 Axes>"
      ],
      "image/png": "[encoded data removed]"
     },
     "metadata": {},
     "output_type": "display_data"
    }
   ],
   "execution_count": 60
  },
  {
   "metadata": {
    "ExecuteTime": {
     "end_time": "2025-04-07T04:56:06.567070Z",
     "start_time": "2025-04-07T04:56:06.558225Z"
    }
   },
   "cell_type": "code",
   "source": [
    "# 분류 리포트\n",
    "report = classification_report(true_classes, predicted_classes, target_names=label_encoder.classes_)\n",
    "print(report)"
   ],
   "id": "2f4a9670bab3866d",
   "outputs": [
    {
     "name": "stdout",
     "output_type": "stream",
     "text": [
      "              precision    recall  f1-score   support\n",
      "\n",
      "         acc       0.97      0.89      0.93        83\n",
      "        good       0.73      1.00      0.85        11\n",
      "       unacc       0.97      1.00      0.99       235\n",
      "       vgood       1.00      0.76      0.87        17\n",
      "\n",
      "    accuracy                           0.96       346\n",
      "   macro avg       0.92      0.91      0.91       346\n",
      "weighted avg       0.97      0.96      0.96       346\n",
      "\n"
     ]
    }
   ],
   "execution_count": 61
  },
  {
   "metadata": {
    "ExecuteTime": {
     "end_time": "2025-04-07T04:57:01.787315Z",
     "start_time": "2025-04-07T04:57:01.688151Z"
    }
   },
   "cell_type": "code",
   "source": [
    "import matplotlib.pyplot as plt\n",
    "\n",
    "# 학습 과정 시각화\n",
    "plt.plot(history.history['accuracy'], label='accuracy')\n",
    "plt.plot(history.history['val_accuracy'], label='val_accuracy')\n",
    "plt.xlabel('Epoch')\n",
    "plt.ylabel('Accuracy')\n",
    "plt.title('Model Accuracy')\n",
    "plt.legend()\n",
    "plt.show()"
   ],
   "id": "1ee579c4af530be",
   "outputs": [
    {
     "data": {
      "text/plain": [
       "<Figure size 640x480 with 1 Axes>"
      ],
      "image/png": "[encoded data removed]"
     },
     "metadata": {},
     "output_type": "display_data"
    }
   ],
   "execution_count": 62
  },
  {
   "metadata": {
    "ExecuteTime": {
     "end_time": "2025-04-07T04:57:51.565146Z",
     "start_time": "2025-04-07T04:57:51.495719Z"
    }
   },
   "cell_type": "code",
   "source": [
    "loss = history.history['loss']\n",
    "val_loss = history.history['val_loss']\n",
    "plt.plot(loss, label='loss')\n",
    "plt.plot(val_loss, label='val_loss')\n",
    "plt.xlabel('Epoch')\n",
    "plt.ylabel('Loss')\n",
    "plt.show()"
   ],
   "id": "2799893bb6d5d393",
   "outputs": [
    {
     "data": {
      "text/plain": [
       "<Figure size 640x480 with 1 Axes>"
      ],
      "image/png": "[encoded data removed]"
     },
     "metadata": {},
     "output_type": "display_data"
    }
   ],
   "execution_count": 63
  }
 ],
 "metadata": {
  "kernelspec": {
   "display_name": "Python 3",
   "language": "python",
   "name": "python3"
  },
  "language_info": {
   "codemirror_mode": {
    "name": "ipython",
    "version": 2
   },
   "file_extension": ".py",
   "mimetype": "text/x-python",
   "name": "python",
   "nbconvert_exporter": "python",
   "pygments_lexer": "ipython2",
   "version": "2.7.6"
  }
 },
 "nbformat": 4,
 "nbformat_minor": 5
}
