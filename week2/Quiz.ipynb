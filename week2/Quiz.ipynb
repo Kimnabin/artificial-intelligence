{
 "cells": [
  {
   "metadata": {},
   "cell_type": "markdown",
   "source": "# 필요 모뮬 불러오기",
   "id": "5aee79554e851ab1"
  },
  {
   "cell_type": "code",
   "id": "initial_id",
   "metadata": {
    "collapsed": true,
    "ExecuteTime": {
     "end_time": "2025-03-15T03:35:52.881127Z",
     "start_time": "2025-03-15T03:35:44.110986Z"
    }
   },
   "source": [
    "import pandas as pd\n",
    "from sklearn.model_selection import train_test_split        # 데이터의 train, test로 나누는 데 사용됨\n",
    "from sklearn.neighbors import KNeighborsClassifier\n",
    "from sklearn.preprocessing import StandardScaler\n",
    "from sklearn.tree import DecisionTreeClassifier\n",
    "from sklearn.ensemble import RandomForestClassifier\n",
    "from sklearn.linear_model import LogisticRegression\n",
    "from sklearn.svm import SVC\n",
    "from sklearn.metrics import accuracy_score\n",
    "\n",
    "from week1.Iris import dt_model, lr_model"
   ],
   "outputs": [],
   "execution_count": 2
  },
  {
   "metadata": {
    "ExecuteTime": {
     "end_time": "2025-03-15T03:42:15.954071Z",
     "start_time": "2025-03-15T03:42:15.932454Z"
    }
   },
   "cell_type": "code",
   "source": [
    "file_path = 'E:/AI/week2/dataFrame/mobile.csv'\n",
    "df = pd.read_csv(file_path)\n",
    "df.head()"
   ],
   "id": "565205bfa135554a",
   "outputs": [
    {
     "data": {
      "text/plain": [
       "   battery_power  blue  clock_speed  dual_sim  fc  four_g  int_memory  m_dep  \\\n",
       "0            842     0          2.2         0   1       0           7    0.6   \n",
       "1           1021     1          0.5         1   0       1          53    0.7   \n",
       "2            563     1          0.5         1   2       1          41    0.9   \n",
       "3            615     1          2.5         0   0       0          10    0.8   \n",
       "4           1821     1          1.2         0  13       1          44    0.6   \n",
       "\n",
       "   mobile_wt  n_cores  ...  px_height  px_width   ram  sc_h  sc_w  talk_time  \\\n",
       "0        188        2  ...         20       756  2549     9     7         19   \n",
       "1        136        3  ...        905      1988  2631    17     3          7   \n",
       "2        145        5  ...       1263      1716  2603    11     2          9   \n",
       "3        131        6  ...       1216      1786  2769    16     8         11   \n",
       "4        141        2  ...       1208      1212  1411     8     2         15   \n",
       "\n",
       "   three_g  touch_screen  wifi  price_range  \n",
       "0        0             0     1            1  \n",
       "1        1             1     0            2  \n",
       "2        1             1     0            2  \n",
       "3        1             0     0            2  \n",
       "4        1             1     0            1  \n",
       "\n",
       "[5 rows x 21 columns]"
      ],
      "text/html": [
       "<div>\n",
       "<style scoped>\n",
       "    .dataframe tbody tr th:only-of-type {\n",
       "        vertical-align: middle;\n",
       "    }\n",
       "\n",
       "    .dataframe tbody tr th {\n",
       "        vertical-align: top;\n",
       "    }\n",
       "\n",
       "    .dataframe thead th {\n",
       "        text-align: right;\n",
       "    }\n",
       "</style>\n",
       "<table border=\"1\" class=\"dataframe\">\n",
       "  <thead>\n",
       "    <tr style=\"text-align: right;\">\n",
       "      <th></th>\n",
       "      <th>battery_power</th>\n",
       "      <th>blue</th>\n",
       "      <th>clock_speed</th>\n",
       "      <th>dual_sim</th>\n",
       "      <th>fc</th>\n",
       "      <th>four_g</th>\n",
       "      <th>int_memory</th>\n",
       "      <th>m_dep</th>\n",
       "      <th>mobile_wt</th>\n",
       "      <th>n_cores</th>\n",
       "      <th>...</th>\n",
       "      <th>px_height</th>\n",
       "      <th>px_width</th>\n",
       "      <th>ram</th>\n",
       "      <th>sc_h</th>\n",
       "      <th>sc_w</th>\n",
       "      <th>talk_time</th>\n",
       "      <th>three_g</th>\n",
       "      <th>touch_screen</th>\n",
       "      <th>wifi</th>\n",
       "      <th>price_range</th>\n",
       "    </tr>\n",
       "  </thead>\n",
       "  <tbody>\n",
       "    <tr>\n",
       "      <th>0</th>\n",
       "      <td>842</td>\n",
       "      <td>0</td>\n",
       "      <td>2.2</td>\n",
       "      <td>0</td>\n",
       "      <td>1</td>\n",
       "      <td>0</td>\n",
       "      <td>7</td>\n",
       "      <td>0.6</td>\n",
       "      <td>188</td>\n",
       "      <td>2</td>\n",
       "      <td>...</td>\n",
       "      <td>20</td>\n",
       "      <td>756</td>\n",
       "      <td>2549</td>\n",
       "      <td>9</td>\n",
       "      <td>7</td>\n",
       "      <td>19</td>\n",
       "      <td>0</td>\n",
       "      <td>0</td>\n",
       "      <td>1</td>\n",
       "      <td>1</td>\n",
       "    </tr>\n",
       "    <tr>\n",
       "      <th>1</th>\n",
       "      <td>1021</td>\n",
       "      <td>1</td>\n",
       "      <td>0.5</td>\n",
       "      <td>1</td>\n",
       "      <td>0</td>\n",
       "      <td>1</td>\n",
       "      <td>53</td>\n",
       "      <td>0.7</td>\n",
       "      <td>136</td>\n",
       "      <td>3</td>\n",
       "      <td>...</td>\n",
       "      <td>905</td>\n",
       "      <td>1988</td>\n",
       "      <td>2631</td>\n",
       "      <td>17</td>\n",
       "      <td>3</td>\n",
       "      <td>7</td>\n",
       "      <td>1</td>\n",
       "      <td>1</td>\n",
       "      <td>0</td>\n",
       "      <td>2</td>\n",
       "    </tr>\n",
       "    <tr>\n",
       "      <th>2</th>\n",
       "      <td>563</td>\n",
       "      <td>1</td>\n",
       "      <td>0.5</td>\n",
       "      <td>1</td>\n",
       "      <td>2</td>\n",
       "      <td>1</td>\n",
       "      <td>41</td>\n",
       "      <td>0.9</td>\n",
       "      <td>145</td>\n",
       "      <td>5</td>\n",
       "      <td>...</td>\n",
       "      <td>1263</td>\n",
       "      <td>1716</td>\n",
       "      <td>2603</td>\n",
       "      <td>11</td>\n",
       "      <td>2</td>\n",
       "      <td>9</td>\n",
       "      <td>1</td>\n",
       "      <td>1</td>\n",
       "      <td>0</td>\n",
       "      <td>2</td>\n",
       "    </tr>\n",
       "    <tr>\n",
       "      <th>3</th>\n",
       "      <td>615</td>\n",
       "      <td>1</td>\n",
       "      <td>2.5</td>\n",
       "      <td>0</td>\n",
       "      <td>0</td>\n",
       "      <td>0</td>\n",
       "      <td>10</td>\n",
       "      <td>0.8</td>\n",
       "      <td>131</td>\n",
       "      <td>6</td>\n",
       "      <td>...</td>\n",
       "      <td>1216</td>\n",
       "      <td>1786</td>\n",
       "      <td>2769</td>\n",
       "      <td>16</td>\n",
       "      <td>8</td>\n",
       "      <td>11</td>\n",
       "      <td>1</td>\n",
       "      <td>0</td>\n",
       "      <td>0</td>\n",
       "      <td>2</td>\n",
       "    </tr>\n",
       "    <tr>\n",
       "      <th>4</th>\n",
       "      <td>1821</td>\n",
       "      <td>1</td>\n",
       "      <td>1.2</td>\n",
       "      <td>0</td>\n",
       "      <td>13</td>\n",
       "      <td>1</td>\n",
       "      <td>44</td>\n",
       "      <td>0.6</td>\n",
       "      <td>141</td>\n",
       "      <td>2</td>\n",
       "      <td>...</td>\n",
       "      <td>1208</td>\n",
       "      <td>1212</td>\n",
       "      <td>1411</td>\n",
       "      <td>8</td>\n",
       "      <td>2</td>\n",
       "      <td>15</td>\n",
       "      <td>1</td>\n",
       "      <td>1</td>\n",
       "      <td>0</td>\n",
       "      <td>1</td>\n",
       "    </tr>\n",
       "  </tbody>\n",
       "</table>\n",
       "<p>5 rows × 21 columns</p>\n",
       "</div>"
      ]
     },
     "execution_count": 29,
     "metadata": {},
     "output_type": "execute_result"
    }
   ],
   "execution_count": 29
  },
  {
   "metadata": {},
   "cell_type": "markdown",
   "source": "### 데이터의 정보를 확인",
   "id": "53a588aae628f455"
  },
  {
   "metadata": {
    "ExecuteTime": {
     "end_time": "2025-03-15T03:42:33.441920Z",
     "start_time": "2025-03-15T03:42:33.429380Z"
    }
   },
   "cell_type": "code",
   "source": "df.info()",
   "id": "b5471d18b73dd9bf",
   "outputs": [
    {
     "name": "stdout",
     "output_type": "stream",
     "text": [
      "<class 'pandas.core.frame.DataFrame'>\n",
      "RangeIndex: 2000 entries, 0 to 1999\n",
      "Data columns (total 21 columns):\n",
      " #   Column         Non-Null Count  Dtype  \n",
      "---  ------         --------------  -----  \n",
      " 0   battery_power  2000 non-null   int64  \n",
      " 1   blue           2000 non-null   int64  \n",
      " 2   clock_speed    2000 non-null   float64\n",
      " 3   dual_sim       2000 non-null   int64  \n",
      " 4   fc             2000 non-null   int64  \n",
      " 5   four_g         2000 non-null   int64  \n",
      " 6   int_memory     2000 non-null   int64  \n",
      " 7   m_dep          2000 non-null   float64\n",
      " 8   mobile_wt      2000 non-null   int64  \n",
      " 9   n_cores        2000 non-null   int64  \n",
      " 10  pc             2000 non-null   int64  \n",
      " 11  px_height      2000 non-null   int64  \n",
      " 12  px_width       2000 non-null   int64  \n",
      " 13  ram            2000 non-null   int64  \n",
      " 14  sc_h           2000 non-null   int64  \n",
      " 15  sc_w           2000 non-null   int64  \n",
      " 16  talk_time      2000 non-null   int64  \n",
      " 17  three_g        2000 non-null   int64  \n",
      " 18  touch_screen   2000 non-null   int64  \n",
      " 19  wifi           2000 non-null   int64  \n",
      " 20  price_range    2000 non-null   int64  \n",
      "dtypes: float64(2), int64(19)\n",
      "memory usage: 328.3 KB\n"
     ]
    }
   ],
   "execution_count": 30
  },
  {
   "metadata": {},
   "cell_type": "markdown",
   "source": "### 데이터의 통계적 정보 확인",
   "id": "4e942c936b12b230"
  },
  {
   "metadata": {
    "ExecuteTime": {
     "end_time": "2025-03-15T03:43:33.940912Z",
     "start_time": "2025-03-15T03:43:33.935606Z"
    }
   },
   "cell_type": "code",
   "source": "df.shape",
   "id": "fe22dcb4d150f0b1",
   "outputs": [
    {
     "data": {
      "text/plain": [
       "(2000, 21)"
      ]
     },
     "execution_count": 32,
     "metadata": {},
     "output_type": "execute_result"
    }
   ],
   "execution_count": 32
  },
  {
   "metadata": {},
   "cell_type": "markdown",
   "source": "### 데이터를 분할",
   "id": "c64a39b89895fc11"
  },
  {
   "metadata": {
    "ExecuteTime": {
     "end_time": "2025-03-15T03:40:24.580841Z",
     "start_time": "2025-03-15T03:40:24.574409Z"
    }
   },
   "cell_type": "code",
   "source": [
    "X = df.drop('price_range', axis=1)\n",
    "y = df['price_range']\n",
    "\n",
    "# X = df.drop(columns['price_range'])\n",
    "# y = df['price_range']\n",
    "print(\"X.shape: \", X.shape)\n",
    "print(\"y.shape: \", y.shape)"
   ],
   "id": "3af6f9a7b33e124e",
   "outputs": [
    {
     "name": "stdout",
     "output_type": "stream",
     "text": [
      "X.shape:  (2000, 20)\n",
      "y.shape:  (2000,)\n"
     ]
    }
   ],
   "execution_count": 23
  },
  {
   "metadata": {
    "ExecuteTime": {
     "end_time": "2025-03-15T03:41:05.411805Z",
     "start_time": "2025-03-15T03:41:05.404206Z"
    }
   },
   "cell_type": "code",
   "source": [
    "# 데이터를 train, test 나누기\n",
    "X_train, X_test, y_train, y_test = train_test_split(X, y, test_size=0.2, random_state=42)\n",
    "X_train.shape, X_test.shape, y_train.shape, y_test.shape"
   ],
   "id": "3553465f019c6c08",
   "outputs": [
    {
     "data": {
      "text/plain": [
       "((1600, 20), (400, 20), (1600,), (400,))"
      ]
     },
     "execution_count": 27,
     "metadata": {},
     "output_type": "execute_result"
    }
   ],
   "execution_count": 27
  },
  {
   "metadata": {},
   "cell_type": "markdown",
   "source": "### 데이터 정구화",
   "id": "b4274bfef9afda51"
  },
  {
   "metadata": {
    "ExecuteTime": {
     "end_time": "2025-03-15T03:47:29.331047Z",
     "start_time": "2025-03-15T03:47:29.321412Z"
    }
   },
   "cell_type": "code",
   "source": [
    "scaler = StandardScaler()\n",
    "\n",
    "X_train = scaler.fit_transform(X_train)\n",
    "X_test = scaler.transform(X_test)\n",
    "\n",
    "X_train[:5]"
   ],
   "id": "724f614a9b74d7de",
   "outputs": [
    {
     "data": {
      "text/plain": [
       "array([[ 1.54835969, -0.98142253, -1.23622976,  0.97043679,  0.62011122,\n",
       "        -1.04605967,  0.75483201, -0.00893505,  1.42571036, -1.54744588,\n",
       "         0.0202687 ,  0.27571162,  1.18199741, -0.58047631, -0.52806128,\n",
       "         0.75950883, -1.44512258,  0.55713671,  0.9900495 ,  1.00250313],\n",
       "       [-1.3795348 ,  1.01892912,  0.83711156, -1.03046381, -0.99356109,\n",
       "         0.95596841,  0.91976253, -1.40367382, -0.04624633,  1.51031591,\n",
       "        -1.47649656, -0.25876229, -0.55654727,  1.33645326, -0.29019584,\n",
       "        -1.08486853,  0.91592916,  0.55713671,  0.9900495 ,  1.00250313],\n",
       "       [-0.01091435, -0.98142253, -0.74838475,  0.97043679, -0.53251186,\n",
       "         0.95596841,  1.35957724, -1.40367382,  1.34078978, -1.54744588,\n",
       "         0.6854977 , -0.28571055, -1.02015919, -0.65730159,  0.42340048,\n",
       "         1.45115034,  1.64240661,  0.55713671, -1.0100505 ,  1.00250313],\n",
       "       [-1.04362132, -0.98142253, -0.50446224, -1.03046381, -0.53251186,\n",
       "        -1.04605967,  0.31501729, -0.35761974,  1.62385837,  0.19984657,\n",
       "        -0.47865306, -0.76404224,  0.98496235,  1.28832176,  0.18553504,\n",
       "         0.52896166, -1.08188385, -1.79489161, -1.0100505 ,  1.00250313],\n",
       "       [ 0.48841649,  1.01892912, -1.23622976,  0.97043679,  0.62011122,\n",
       "        -1.04605967, -1.38926474, -0.35761974, -1.00867955,  0.19984657,\n",
       "         0.3528832 ,  0.40147019, -0.33633161, -0.48976694, -1.47952303,\n",
       "        -0.16267985,  1.64240661,  0.55713671, -1.0100505 ,  1.00250313]])"
      ]
     },
     "execution_count": 35,
     "metadata": {},
     "output_type": "execute_result"
    }
   ],
   "execution_count": 35
  },
  {
   "metadata": {},
   "cell_type": "markdown",
   "source": "### # Decision Tree (DT) 분류",
   "id": "92a032cb55e619c2"
  },
  {
   "metadata": {
    "ExecuteTime": {
     "end_time": "2025-03-15T03:55:27.222792Z",
     "start_time": "2025-03-15T03:55:27.197561Z"
    }
   },
   "cell_type": "code",
   "source": [
    "dt_model = DecisionTreeClassifier(random_state=42)  # 모델을 초기화하고, 랜덤 시드를 42로 설정\n",
    "dt_model.fit(X_train, y_train)\n",
    "y_pred_dt = dt_model.predict(X_test)\n",
    "accuracy_dt = accuracy_score(y_test, y_pred_dt)\n",
    "print(f\"Decision Tree Accuracy: {accuracy_dt:.4f}\")"
   ],
   "id": "588f2be574ac40ea",
   "outputs": [
    {
     "name": "stdout",
     "output_type": "stream",
     "text": [
      "Decision Tree Accuracy: 0.8350\n"
     ]
    }
   ],
   "execution_count": 37
  },
  {
   "metadata": {},
   "cell_type": "markdown",
   "source": "### # Random Forest (RF) 분류",
   "id": "29fd5afdf0402df0"
  },
  {
   "metadata": {
    "ExecuteTime": {
     "end_time": "2025-03-15T03:58:27.792923Z",
     "start_time": "2025-03-15T03:58:27.285432Z"
    }
   },
   "cell_type": "code",
   "source": [
    "rf_model = RandomForestClassifier(random_state=42)\n",
    "rf_model.fit(X_train, y_train)\n",
    "y_pred_rf = rf_model.predict(X_test)\n",
    "accuracy_rf = accuracy_score(y_test, y_pred_rf)\n",
    "print(f\"Random Forest Accuracy: {accuracy_rf:.4f}\")"
   ],
   "id": "bf26359f383910d0",
   "outputs": [
    {
     "name": "stdout",
     "output_type": "stream",
     "text": [
      "Random Forest Accuracy: 0.8925\n"
     ]
    }
   ],
   "execution_count": 38
  },
  {
   "metadata": {},
   "cell_type": "markdown",
   "source": "### # Logistic Regression (LR) 분류",
   "id": "3f25b5801b49131e"
  },
  {
   "metadata": {
    "ExecuteTime": {
     "end_time": "2025-03-15T03:59:18.216865Z",
     "start_time": "2025-03-15T03:59:18.191426Z"
    }
   },
   "cell_type": "code",
   "source": [
    "lr_model = LogisticRegression(random_state=42)\n",
    "lr_model.fit(X_train, y_train)\n",
    "y_pred_lr = lr_model.predict(X_test)\n",
    "accuracy_lr = accuracy_score(y_test, y_pred_lr)\n",
    "print(f\"Logistic Regression Accuracy: {accuracy_lr:.4f}\")"
   ],
   "id": "650cf54311e35973",
   "outputs": [
    {
     "name": "stdout",
     "output_type": "stream",
     "text": [
      "Logistic Regression Accuracy: 0.9750\n"
     ]
    }
   ],
   "execution_count": 39
  },
  {
   "metadata": {},
   "cell_type": "markdown",
   "source": "### # Support Vector Machine (SVM) 분류",
   "id": "beda0266f39140c4"
  },
  {
   "metadata": {
    "ExecuteTime": {
     "end_time": "2025-03-15T04:00:21.277308Z",
     "start_time": "2025-03-15T04:00:21.077018Z"
    }
   },
   "cell_type": "code",
   "source": [
    "sv_model = SVC(random_state=42)\n",
    "sv_model.fit(X_train, y_train)\n",
    "y_pred_sv = sv_model.predict(X_test)\n",
    "accuracy_sv = accuracy_score(y_test, y_pred_sv)\n",
    "print(f\"SVM Accuracy: {accuracy_sv:.4f}\")\n"
   ],
   "id": "bdae4b83141fdafa",
   "outputs": [
    {
     "name": "stdout",
     "output_type": "stream",
     "text": [
      "SVM Accuracy: 0.8925\n"
     ]
    }
   ],
   "execution_count": 41
  },
  {
   "metadata": {},
   "cell_type": "markdown",
   "source": "### # K-Nearest Neighbors (KNN) 분류\n",
   "id": "f7af4ce43ca197e1"
  },
  {
   "metadata": {
    "ExecuteTime": {
     "end_time": "2025-03-15T04:01:39.788755Z",
     "start_time": "2025-03-15T04:01:39.749009Z"
    }
   },
   "cell_type": "code",
   "source": [
    "kn_model = KNeighborsClassifier()\n",
    "kn_model.fit(X_train, y_train)\n",
    "y_pred_kn = kn_model.predict(X_test)\n",
    "accuracy_kn = accuracy_score(y_test, y_pred_kn)\n",
    "print(f\"K-Nearest Neighbors Accuracy: {accuracy_kn:.4f}\")\n"
   ],
   "id": "5dd63e62d81f432e",
   "outputs": [
    {
     "name": "stdout",
     "output_type": "stream",
     "text": [
      "K-Nearest Neighbors Accuracy: 0.5300\n"
     ]
    }
   ],
   "execution_count": 94
  }
 ],
 "metadata": {
  "kernelspec": {
   "display_name": "Python 3",
   "language": "python",
   "name": "python3"
  },
  "language_info": {
   "codemirror_mode": {
    "name": "ipython",
    "version": 2
   },
   "file_extension": ".py",
   "mimetype": "text/x-python",
   "name": "python",
   "nbconvert_exporter": "python",
   "pygments_lexer": "ipython2",
   "version": "2.7.6"
  }
 },
 "nbformat": 4,
 "nbformat_minor": 5
}
