{
 "cells": [
  {
   "cell_type": "code",
   "id": "initial_id",
   "metadata": {
    "collapsed": true,
    "ExecuteTime": {
     "end_time": "2025-04-20T05:13:13.086175Z",
     "start_time": "2025-04-20T05:13:10.069025Z"
    }
   },
   "source": [
    "import pandas as pd\n",
    "fish  = pd.read_csv('https://bit.ly/fish_csv_data')"
   ],
   "outputs": [],
   "execution_count": 1
  },
  {
   "metadata": {
    "ExecuteTime": {
     "end_time": "2025-04-20T05:13:13.102992Z",
     "start_time": "2025-04-20T05:13:13.087495Z"
    }
   },
   "cell_type": "code",
   "source": "fish.head()",
   "id": "41ecfdaeeb944c",
   "outputs": [
    {
     "data": {
      "text/plain": [
       "  Species  Weight  Length  Diagonal   Height   Width\n",
       "0   Bream   242.0    25.4      30.0  11.5200  4.0200\n",
       "1   Bream   290.0    26.3      31.2  12.4800  4.3056\n",
       "2   Bream   340.0    26.5      31.1  12.3778  4.6961\n",
       "3   Bream   363.0    29.0      33.5  12.7300  4.4555\n",
       "4   Bream   430.0    29.0      34.0  12.4440  5.1340"
      ],
      "text/html": [
       "<div>\n",
       "<style scoped>\n",
       "    .dataframe tbody tr th:only-of-type {\n",
       "        vertical-align: middle;\n",
       "    }\n",
       "\n",
       "    .dataframe tbody tr th {\n",
       "        vertical-align: top;\n",
       "    }\n",
       "\n",
       "    .dataframe thead th {\n",
       "        text-align: right;\n",
       "    }\n",
       "</style>\n",
       "<table border=\"1\" class=\"dataframe\">\n",
       "  <thead>\n",
       "    <tr style=\"text-align: right;\">\n",
       "      <th></th>\n",
       "      <th>Species</th>\n",
       "      <th>Weight</th>\n",
       "      <th>Length</th>\n",
       "      <th>Diagonal</th>\n",
       "      <th>Height</th>\n",
       "      <th>Width</th>\n",
       "    </tr>\n",
       "  </thead>\n",
       "  <tbody>\n",
       "    <tr>\n",
       "      <th>0</th>\n",
       "      <td>Bream</td>\n",
       "      <td>242.0</td>\n",
       "      <td>25.4</td>\n",
       "      <td>30.0</td>\n",
       "      <td>11.5200</td>\n",
       "      <td>4.0200</td>\n",
       "    </tr>\n",
       "    <tr>\n",
       "      <th>1</th>\n",
       "      <td>Bream</td>\n",
       "      <td>290.0</td>\n",
       "      <td>26.3</td>\n",
       "      <td>31.2</td>\n",
       "      <td>12.4800</td>\n",
       "      <td>4.3056</td>\n",
       "    </tr>\n",
       "    <tr>\n",
       "      <th>2</th>\n",
       "      <td>Bream</td>\n",
       "      <td>340.0</td>\n",
       "      <td>26.5</td>\n",
       "      <td>31.1</td>\n",
       "      <td>12.3778</td>\n",
       "      <td>4.6961</td>\n",
       "    </tr>\n",
       "    <tr>\n",
       "      <th>3</th>\n",
       "      <td>Bream</td>\n",
       "      <td>363.0</td>\n",
       "      <td>29.0</td>\n",
       "      <td>33.5</td>\n",
       "      <td>12.7300</td>\n",
       "      <td>4.4555</td>\n",
       "    </tr>\n",
       "    <tr>\n",
       "      <th>4</th>\n",
       "      <td>Bream</td>\n",
       "      <td>430.0</td>\n",
       "      <td>29.0</td>\n",
       "      <td>34.0</td>\n",
       "      <td>12.4440</td>\n",
       "      <td>5.1340</td>\n",
       "    </tr>\n",
       "  </tbody>\n",
       "</table>\n",
       "</div>"
      ]
     },
     "execution_count": 2,
     "metadata": {},
     "output_type": "execute_result"
    }
   ],
   "execution_count": 2
  },
  {
   "metadata": {
    "ExecuteTime": {
     "end_time": "2025-04-20T05:13:13.108858Z",
     "start_time": "2025-04-20T05:13:13.104002Z"
    }
   },
   "cell_type": "code",
   "source": [
    "X = fish[['Weight', 'Length', 'Diagonal',  'Height', 'Width']].to_numpy()\n",
    "y = fish['Species'].to_numpy()\n"
   ],
   "id": "7882a360792c558b",
   "outputs": [],
   "execution_count": 3
  },
  {
   "metadata": {
    "ExecuteTime": {
     "end_time": "2025-04-20T05:13:20.173114Z",
     "start_time": "2025-04-20T05:13:13.109866Z"
    }
   },
   "cell_type": "code",
   "source": [
    "from sklearn.model_selection import train_test_split\n",
    "X_train, X_test, y_train, y_test = train_test_split(X, y, random_state=42)\n",
    "\n",
    "X_train.shape, y_train.shape, X_test.shape, y_test.shape"
   ],
   "id": "6e7a8d8e55e2b53d",
   "outputs": [
    {
     "data": {
      "text/plain": [
       "((119, 5), (119,), (40, 5), (40,))"
      ]
     },
     "execution_count": 4,
     "metadata": {},
     "output_type": "execute_result"
    }
   ],
   "execution_count": 4
  },
  {
   "metadata": {},
   "cell_type": "markdown",
   "source": [
    "Đoạn mã này sử dụng StandardScaler từ thư viện sklearn.preprocessing để chuẩn hóa dữ liệu đầu vào. Dưới đây là giải thích chi tiết:  \n",
    "- Import thư viện: StandardScaler được sử dụng để chuẩn hóa dữ liệu bằng cách loại bỏ giá trị trung bình và chia dữ liệu theo độ lệch chuẩn (z-score normalization).  \n",
    "- Khởi tạo scaler: scaler = StandardScaler() tạo một đối tượng StandardScaler để thực hiện chuẩn hóa.  \n",
    "- Tính toán thông số từ dữ liệu huấn luyện: scaler.fit(X_train) tính toán giá trị trung bình (mean) và độ lệch chuẩn (std) của từng đặc trưng (feature) trong tập dữ liệu huấn luyện X_train. Các thông số này sẽ được lưu trong scaler để áp dụng cho cả tập huấn luyện và tập kiểm tra.  \n",
    "- Chuẩn hóa tập huấn luyện: X_train_scaled = scaler.transform(X_train) áp dụng chuẩn hóa cho tập huấn luyện. Công thức chuẩn hóa: [ z = \\frac{x - \\mu}{\\sigma} ] Trong đó:  \n",
    "    - (x): giá trị của đặc trưng.\n",
    "    - (\\mu): giá trị trung bình của đặc trưng.\n",
    "    - (\\sigma): độ lệch chuẩn của đặc trưng.\n",
    "- Chuẩn hóa tập kiểm tra: X_test_scaled = scaler.transform(X_test) áp dụng cùng một phép chuẩn hóa (sử dụng (\\mu) và (\\sigma) từ tập huấn luyện) cho tập kiểm tra X_test. Điều này đảm bảo tính nhất quán giữa hai tập dữ liệu. "
   ],
   "id": "3d231c1f868daac9"
  },
  {
   "metadata": {
    "ExecuteTime": {
     "end_time": "2025-04-20T05:13:20.179634Z",
     "start_time": "2025-04-20T05:13:20.175129Z"
    }
   },
   "cell_type": "code",
   "source": [
    "from sklearn.preprocessing import StandardScaler\n",
    "scaler = StandardScaler()\n",
    "scaler.fit(X_train)\n",
    "\n",
    "X_train_scaled = scaler.transform(X_train)\n",
    "X_test_scaled = scaler.transform(X_test)\n"
   ],
   "id": "bc169e2fcb7285ec",
   "outputs": [],
   "execution_count": 5
  },
  {
   "metadata": {
    "ExecuteTime": {
     "end_time": "2025-04-20T05:13:20.612435Z",
     "start_time": "2025-04-20T05:13:20.179634Z"
    }
   },
   "cell_type": "code",
   "source": [
    "from sklearn.linear_model import SGDClassifier\n",
    "\n",
    "sgd_clf = SGDClassifier(loss='log_loss', max_iter=1000, random_state=42) # max_iter는 수행할 에포크 횟수를 지정한다.\n",
    "sgd_clf.fit(X_train_scaled, y_train)\n",
    "\n",
    "print(sgd_clf.score(X_train_scaled, y_train))\n",
    "print(sgd_clf.score(X_test_scaled, y_test))"
   ],
   "id": "b2f67927e994ec8c",
   "outputs": [
    {
     "name": "stdout",
     "output_type": "stream",
     "text": [
      "0.8739495798319328\n",
      "0.8\n"
     ]
    }
   ],
   "execution_count": 6
  },
  {
   "metadata": {
    "ExecuteTime": {
     "end_time": "2025-04-20T05:13:20.626402Z",
     "start_time": "2025-04-20T05:13:20.614653Z"
    }
   },
   "cell_type": "code",
   "source": [
    "sgd_clf.partial_fit(X_train_scaled, y_train) # partial_fit은 SGDClassifier의 fit 메서드와 유사하지만, 이전에 학습한 모델을 계속 업데이트할 수 있다.\n",
    "\n",
    "print(sgd_clf.score(X_train_scaled, y_train))\n",
    "print(sgd_clf.score(X_test_scaled, y_test))"
   ],
   "id": "918f96a32cf25fbb",
   "outputs": [
    {
     "name": "stdout",
     "output_type": "stream",
     "text": [
      "0.8907563025210085\n",
      "0.925\n"
     ]
    }
   ],
   "execution_count": 7
  },
  {
   "metadata": {},
   "cell_type": "markdown",
   "source": "### 아쉽지만 SGDClassifier는 미니배치 경사 하강법이나 미니배치 SGD를 지원하지 않는다.",
   "id": "1b57c06c88d89558"
  },
  {
   "metadata": {},
   "cell_type": "markdown",
   "source": [
    "## 에포크와 과대/과소적합\n",
    "확률적 경사 하강법을 사용한 모델은 에포크 횟수에 따라 과소적합이나 과대적합이 될 수 있습니다. 에포크 횟수가 적으면 모델이 훈련 세트를 덜 학습합니다. 에포크 횟수가 충분히 많으면 훈련 세트를 완전히 학습할 것 입니다. 훈련 세트에 아주 잘 맞는 모델이 만들어집니다.\n",
    "\n",
    "적은 에포크 횟수는 훈련 세트와 테스트 세트에 잘 맞지 않는 과소적합, 많은 에포크 횟수는 훈련 세트에 너무 잘 맞아 테스트 세트에서 점수가 나쁜 과대적합 모델일 가능성이 높습니다."
   ],
   "id": "198f29f483ca2b28"
  },
  {
   "metadata": {},
   "cell_type": "markdown",
   "source": [
    "<img src=\"https://devmjun.github.io/assets/post_img/posts/01_alone_ml/alone_ml_chapter4-02.png\">\n",
    "\n",
    "에포크가 진행됨에 따라 훈련 세트 점수는 꾸준히 증가하지만 테스트 세트 점수는 어느 순간 감소하기 시작합니다. 바로 이 지점이 모델이 과대적합되기 시작하는 곳입니다. 과대적합이 시작하기 전에 훈련을 멈추는 것을 조기 종료(early stopping) 라고 합니다."
   ],
   "id": "fd74d02612763a46"
  },
  {
   "metadata": {
    "ExecuteTime": {
     "end_time": "2025-04-20T05:13:20.631966Z",
     "start_time": "2025-04-20T05:13:20.627640Z"
    }
   },
   "cell_type": "code",
   "source": [
    "import numpy as np\n",
    "\n",
    "sgd_clf = SGDClassifier(loss=\"log_loss\", random_state=42)\n",
    "train_scores = []\n",
    "test_scores = []\n",
    "classes = np.unique(y_train)\n"
   ],
   "id": "e3f554b594621f1b",
   "outputs": [],
   "execution_count": 8
  },
  {
   "metadata": {
    "ExecuteTime": {
     "end_time": "2025-04-20T05:13:21.838400Z",
     "start_time": "2025-04-20T05:13:20.633471Z"
    }
   },
   "cell_type": "code",
   "source": [
    "for _ in range(0, 300):\n",
    "    sgd_clf.partial_fit(X_train_scaled, y_train, classes=classes)\n",
    "    train_scores.append(sgd_clf.score(X_train_scaled, y_train))\n",
    "    test_scores.append(sgd_clf.score(X_test_scaled, y_test))    \n",
    "    "
   ],
   "id": "e58afb9ddc1120c",
   "outputs": [],
   "execution_count": 9
  },
  {
   "metadata": {
    "ExecuteTime": {
     "end_time": "2025-04-20T05:13:22.325948Z",
     "start_time": "2025-04-20T05:13:21.839429Z"
    }
   },
   "cell_type": "code",
   "source": [
    "import matplotlib.pyplot as plt\n",
    "plt.plot(train_scores, label='train')\n",
    "plt.plot(test_scores, label='test')\n",
    "plt.xlabel('Epochs')\n",
    "plt.ylabel('Accuracy')\n",
    "plt.legend()"
   ],
   "id": "aa7399214b158cfc",
   "outputs": [
    {
     "data": {
      "text/plain": [
       "<matplotlib.legend.Legend at 0x1bd30509d00>"
      ]
     },
     "execution_count": 10,
     "metadata": {},
     "output_type": "execute_result"
    },
    {
     "data": {
      "text/plain": [
       "<Figure size 640x480 with 1 Axes>"
      ],
      "image/png": "[encoded data removed]"
     },
     "metadata": {},
     "output_type": "display_data"
    }
   ],
   "execution_count": 10
  },
  {
   "metadata": {},
   "cell_type": "markdown",
   "source": "### epoch 100번부터 훈련 세트와 테스트 세트의 점수가 조금식 벌우지고 있다.",
   "id": "85d41e9613761d14"
  },
  {
   "metadata": {
    "ExecuteTime": {
     "end_time": "2025-04-20T05:13:22.340197Z",
     "start_time": "2025-04-20T05:13:22.327114Z"
    }
   },
   "cell_type": "code",
   "source": [
    "sgd_clf = SGDClassifier(loss=\"log_loss\", random_state=42, max_iter=100, tol=None)\n",
    "sgd_clf.fit(X_train_scaled, y_train)\n",
    "print(sgd_clf.score(X_train_scaled, y_train))\n",
    "print(sgd_clf.score(X_test_scaled, y_test))"
   ],
   "id": "484dfb6a6622e5cb",
   "outputs": [
    {
     "name": "stdout",
     "output_type": "stream",
     "text": [
      "0.957983193277311\n",
      "0.925\n"
     ]
    }
   ],
   "execution_count": 11
  },
  {
   "metadata": {},
   "cell_type": "markdown",
   "source": [
    "### SGDClassifier는 일정 에포크 동안 성능이 향상되지 않으면 더 훈련하지 않고 자동으로 멈춥니다.\n",
    "    - tol 매개번수 None은 훈련이 멈추지 않도록 합니다.\n"
   ],
   "id": "9e85e1c44d11c5d8"
  },
  {
   "metadata": {},
   "cell_type": "markdown",
   "source": "- 힌지 손실(Hinge Loss)은 주로 **서포트 벡터 머신(SVM)**에서 사용되는 손실 함수로, 이진 분류 문제에서 사용됩니다. 힌지 손실은 모델이 예측한 값과 실제 레이블 간의 차이를 측정하며, 마진(margin)을 최대화하는 데 초점을 둡니다. ",
   "id": "e33ba4d38c6f7f1c"
  },
  {
   "metadata": {
    "ExecuteTime": {
     "end_time": "2025-04-20T05:13:22.351366Z",
     "start_time": "2025-04-20T05:13:22.341204Z"
    }
   },
   "cell_type": "code",
   "source": [
    "sgd_clf = SGDClassifier(loss=\"hinge\", random_state=42, max_iter=100, tol=None)\n",
    "\n",
    "sgd_clf.fit(X_train_scaled, y_train)\n",
    "print(sgd_clf.score(X_train_scaled, y_train))\n",
    "print(sgd_clf.score(X_test_scaled, y_test))\n"
   ],
   "id": "3be49ea0795c5939",
   "outputs": [
    {
     "name": "stdout",
     "output_type": "stream",
     "text": [
      "0.9495798319327731\n",
      "0.925\n"
     ]
    }
   ],
   "execution_count": 12
  },
  {
   "metadata": {},
   "cell_type": "markdown",
   "source": "# 4장의 정리 내용",
   "id": "907c440b558f63c7"
  },
  {
   "metadata": {
    "ExecuteTime": {
     "end_time": "2025-04-20T05:13:22.356329Z",
     "start_time": "2025-04-20T05:13:22.352374Z"
    }
   },
   "cell_type": "code",
   "source": [
    "from IPython.display import HTML\n",
    "\n",
    "HTML('''\n",
    "<div style=\"display: flex; justify-content: center; align-items: center; height: 700px;\">\n",
    "  <iframe src=\"https://maxo.tistory.com/64\" width=\"1920\" height=\"1080\" style=\"border: none;\"></iframe>\n",
    "</div>\n",
    "''')\n"
   ],
   "id": "209fcd31a7409395",
   "outputs": [
    {
     "data": {
      "text/plain": [
       "<IPython.core.display.HTML object>"
      ],
      "text/html": [
       "\n",
       "<div style=\"display: flex; justify-content: center; align-items: center; height: 700px;\">\n",
       "  <iframe src=\"https://maxo.tistory.com/64\" width=\"1920\" height=\"1080\" style=\"border: none;\"></iframe>\n",
       "</div>\n"
      ]
     },
     "execution_count": 13,
     "metadata": {},
     "output_type": "execute_result"
    }
   ],
   "execution_count": 13
  },
  {
   "metadata": {
    "ExecuteTime": {
     "end_time": "2025-04-20T05:13:22.360338Z",
     "start_time": "2025-04-20T05:13:22.358337Z"
    }
   },
   "cell_type": "code",
   "source": " ",
   "id": "687f30f1b86ac956",
   "outputs": [],
   "execution_count": 13
  }
 ],
 "metadata": {
  "kernelspec": {
   "display_name": "Python 3",
   "language": "python",
   "name": "python3"
  },
  "language_info": {
   "codemirror_mode": {
    "name": "ipython",
    "version": 2
   },
   "file_extension": ".py",
   "mimetype": "text/x-python",
   "name": "python",
   "nbconvert_exporter": "python",
   "pygments_lexer": "ipython2",
   "version": "2.7.6"
  }
 },
 "nbformat": 4,
 "nbformat_minor": 5
}
