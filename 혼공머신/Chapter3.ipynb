{
 "cells": [
  {
   "metadata": {
    "ExecuteTime": {
     "end_time": "2025-04-07T06:00:41.809935Z",
     "start_time": "2025-04-07T06:00:41.152731Z"
    }
   },
   "cell_type": "code",
   "source": [
    "import numpy as np\n",
    "import pandas as pd"
   ],
   "id": "9498336f98c7318e",
   "outputs": [],
   "execution_count": 1
  },
  {
   "cell_type": "code",
   "id": "initial_id",
   "metadata": {
    "collapsed": true,
    "ExecuteTime": {
     "end_time": "2025-04-07T06:00:41.816344Z",
     "start_time": "2025-04-07T06:00:41.810943Z"
    }
   },
   "source": [
    "perch_length = np.array(\n",
    "    [8.4, 13.7, 15.0, 16.2, 17.4, 18.0, 18.7, 19.0, 19.6, 20.0,\n",
    "     21.0, 21.0, 21.0, 21.3, 22.0, 22.0, 22.0, 22.0, 22.0, 22.5,\n",
    "     22.5, 22.7, 23.0, 23.5, 24.0, 24.0, 24.6, 25.0, 25.6, 26.5,\n",
    "     27.3, 27.5, 27.5, 27.5, 28.0, 28.7, 30.0, 32.8, 34.5, 35.0,\n",
    "     36.5, 36.0, 37.0, 37.0, 39.0, 39.0, 39.0, 40.0, 40.0, 40.0,\n",
    "     40.0, 42.0, 43.0, 43.0, 43.5, 44.0]\n",
    ")\n",
    "perch_weight = np.array(\n",
    "    [5.9, 32.0, 40.0, 51.5, 70.0, 100.0, 78.0, 80.0, 85.0, 85.0,\n",
    "     110.0, 115.0, 125.0, 130.0, 120.0, 120.0, 130.0, 135.0, 110.0,\n",
    "     130.0, 150.0, 145.0, 150.0, 170.0, 225.0, 145.0, 188.0, 180.0,\n",
    "     197.0, 218.0, 300.0, 260.0, 265.0, 250.0, 250.0, 300.0, 320.0,\n",
    "     514.0, 556.0, 840.0, 685.0, 700.0, 700.0, 690.0, 900.0, 650.0,\n",
    "     820.0, 850.0, 900.0, 1015.0, 820.0, 1100.0, 1000.0, 1100.0,\n",
    "     1000.0, 1000.0]\n",
    ")"
   ],
   "outputs": [],
   "execution_count": 2
  },
  {
   "metadata": {
    "ExecuteTime": {
     "end_time": "2025-04-07T06:00:43.950801Z",
     "start_time": "2025-04-07T06:00:41.817353Z"
    }
   },
   "cell_type": "code",
   "source": [
    "import matplotlib.pyplot as plt\n",
    "\n",
    "plt.scatter(perch_length, perch_weight)\n",
    "plt.xlabel('length')\n",
    "plt.ylabel('weight')\n",
    "plt.show()"
   ],
   "id": "d71f2141fcbd3692",
   "outputs": [
    {
     "data": {
      "text/plain": [
       "<Figure size 640x480 with 1 Axes>"
      ],
      "image/png": "[encoded data removed]"
     },
     "metadata": {},
     "output_type": "display_data"
    }
   ],
   "execution_count": 3
  },
  {
   "metadata": {
    "ExecuteTime": {
     "end_time": "2025-04-07T06:00:45.183311Z",
     "start_time": "2025-04-07T06:00:43.950801Z"
    }
   },
   "cell_type": "code",
   "source": [
    "from sklearn.model_selection import train_test_split\n",
    "\n",
    "X_train, X_test, y_train, y_test = train_test_split(perch_length, perch_weight, random_state=42)\n",
    "X_train.shape, X_test.shape, y_train.shape, y_test.shape"
   ],
   "id": "d96e0d4256435255",
   "outputs": [
    {
     "data": {
      "text/plain": [
       "((42,), (14,), (42,), (14,))"
      ]
     },
     "execution_count": 4,
     "metadata": {},
     "output_type": "execute_result"
    }
   ],
   "execution_count": 4
  },
  {
   "metadata": {},
   "cell_type": "markdown",
   "source": [
    "Bạn đang gặp lỗi **IndexError** do chỉ số vượt quá kích thước của mảng `X_scaled`. Trong trường hợp này, `reshape()` có thể hữu ích nếu `indexes` hoặc `X_scaled` có định dạng không phù hợp. Dưới đây là cách sử dụng `reshape()` để đảm bảo kích thước dữ liệu đúng khi trực quan hóa.\n",
    "\n",
    "---\n",
    "\n",
    "## 🔍 **Cách sử dụng `reshape()` trong trường hợp này**\n",
    "### 1️⃣ **Kiểm tra kích thước của `indexes` trước khi sử dụng**\n",
    "Trước khi vẽ biểu đồ, hãy kiểm tra kích thước của `indexes`:\n",
    "```python\n",
    "print(\"Indexes shape:\", indexes.shape)\n",
    "print(\"X_scaled shape:\", X_scaled.shape)\n",
    "```\n",
    "Nếu `indexes` có dạng `(1, k)`, bạn cần làm phẳng nó bằng `.ravel()` hoặc `.reshape(-1)`:\n",
    "```python\n",
    "indexes = indexes.ravel()  # Hoặc indexes.reshape(-1)\n",
    "```\n",
    "Điều này giúp `indexes` trở thành một mảng 1D có thể sử dụng trực tiếp.\n",
    "\n",
    "---\n",
    "\n",
    "### 2️⃣ **Đảm bảo `X_scaled` có đúng số chiều**\n",
    "Nếu `X_scaled` chỉ có một cột nhưng đang sử dụng `[:, 0]`, có thể gây lỗi. Hãy kiểm tra kích thước của `X_scaled`:\n",
    "```python\n",
    "print(\"X_scaled shape:\", X_scaled.shape)\n",
    "```\n",
    "Nếu `X_scaled` có dạng `(n_samples,)` thay vì `(n_samples, n_features)`, cần reshape:\n",
    "```python\n",
    "X_scaled = X_scaled.reshape(-1, 1)\n",
    "```\n",
    "Điều này đảm bảo `X_scaled` có ít nhất 2D để truy xuất đúng.\n",
    "\n",
    "---\n",
    "\n",
    "### 3️⃣ **Áp dụng `reshape()` khi cần**\n",
    "Sau khi kiểm tra kích thước, sửa code vẽ biểu đồ:\n",
    "```python\n",
    "indexes = indexes.ravel()  # Đảm bảo indexes là mảng 1D\n",
    "\n",
    "# Kiểm tra giới hạn index để tránh lỗi\n",
    "if indexes.max() < X_scaled.shape[0]:  \n",
    "    plt.scatter(X_scaled[:, 0], X_scaled[:, 1], label=\"Data\", alpha=0.5)\n",
    "    plt.scatter(new_marker[0], new_marker[1], marker='^', color='red', label=\"New Marker\")\n",
    "    plt.scatter(X_scaled[indexes, 0], X_scaled[indexes, 1], marker='D', color='green', label=\"Neighbors\")\n",
    "    plt.xlabel('length')\n",
    "    plt.ylabel('weight')\n",
    "    plt.legend()\n",
    "    plt.show()\n",
    "else:\n",
    "    print(\"⚠ Lỗi: Chỉ số lân cận vượt quá số lượng điểm trong X_scaled\")\n",
    "```\n",
    "\n",
    "---\n",
    "\n",
    "## ✅ **Tóm lại**\n",
    "- **Dùng `.ravel()` hoặc `.reshape(-1)` để làm phẳng `indexes`.**\n",
    "- **Đảm bảo `X_scaled` có đúng số chiều với `.reshape(-1, 1)` nếu cần.**\n",
    "- **Kiểm tra chỉ số trong `indexes` để tránh vượt quá giới hạn của `X_scaled`.**\n",
    "\n",
    "Nếu lỗi vẫn xảy ra, có thể `kneighbors()` đang tìm quá nhiều điểm, cần giảm `n_neighbors`! 🚀"
   ],
   "id": "b244d7235e7ea45"
  },
  {
   "metadata": {
    "ExecuteTime": {
     "end_time": "2025-04-07T06:00:45.188812Z",
     "start_time": "2025-04-07T06:00:45.184572Z"
    }
   },
   "cell_type": "code",
   "source": [
    "X_train = X_train.reshape(-1, 1)\n",
    "X_test = X_test.reshape(-1, 1)\n",
    "\n",
    "X_train.shape, X_test.shape"
   ],
   "id": "4ed7bac868204f06",
   "outputs": [
    {
     "data": {
      "text/plain": [
       "((42, 1), (14, 1))"
      ]
     },
     "execution_count": 5,
     "metadata": {},
     "output_type": "execute_result"
    }
   ],
   "execution_count": 5
  },
  {
   "metadata": {},
   "cell_type": "markdown",
   "source": [
    "# 걸정계수 (R^2)\n",
    "### 📌 **결정계수 (R², Coefficient of Determination)란?**  \n",
    "결정계수 \\( R^2 \\) 는 회귀 분석에서 모델의 성능을 평가하는 지표로, **모델이 실제 데이터를 얼마나 잘 설명하는지**를 나타냅니다.  \n",
    "\n",
    "- **R² 값 범위:**  \n",
    "  \\[\n",
    "  0 \\leq R^2 \\leq 1\n",
    "  \\]\n",
    "  - **\\( R^2 = 1 \\)**: 완벽한 모델 (모든 데이터를 완벽하게 예측)  \n",
    "  - **\\( R^2 = 0 \\)**: 모델이 아무런 설명력을 가지지 못함 (평균값을 예측하는 것과 동일)  \n",
    "  - **\\( R^2 < 0 \\)**: 모델이 너무 부정확하여 평균값보다도 못한 예측을 수행  \n",
    "\n",
    "---\n",
    "\n",
    "### 🔹 **R² 공식**\n",
    "\\[\n",
    "R^2 = 1 - \\frac{SS_{\\text{res}}}{SS_{\\text{tot}}}\n",
    "\\]\n",
    "- \\( SS_{\\text{res}} \\) (Residual Sum of Squares, 잔차 제곱합):  \n",
    "  \\[\n",
    "  SS_{\\text{res}} = \\sum (y_i - \\hat{y}_i)^2\n",
    "  \\]\n",
    "  모델의 예측값 \\( \\hat{y}_i \\) 와 실제값 \\( y_i \\) 사이의 차이(잔차)의 제곱합  \n",
    "\n",
    "- \\( SS_{\\text{tot}} \\) (Total Sum of Squares, 총 변동):  \n",
    "  \\[\n",
    "  SS_{\\text{tot}} = \\sum (y_i - \\bar{y})^2\n",
    "  \\]\n",
    "  실제 데이터의 평균 \\( \\bar{y} \\) 과 개별 데이터 값 \\( y_i \\) 사이의 차이의 제곱합  \n",
    "\n",
    "👉 **쉽게 말하면,**  \n",
    "- \\( SS_{\\text{res}} \\)가 작을수록 모델의 오차가 작음  \n",
    "- \\( R^2 \\) 값이 클수록 모델이 데이터를 잘 설명  \n",
    "\n",
    "---\n",
    "\n",
    "### 🔹 **Python 코드 예제**\n",
    "```python\n",
    "from sklearn.linear_model import LinearRegression\n",
    "from sklearn.metrics import r2_score\n",
    "import numpy as np\n",
    "\n",
    "# 예제 데이터 생성\n",
    "X = np.array([1, 2, 3, 4, 5]).reshape(-1, 1)\n",
    "y = np.array([2, 4, 5, 4, 5])  # 실제 값\n",
    "\n",
    "# 선형 회귀 모델 학습\n",
    "model = LinearRegression()\n",
    "model.fit(X, y)\n",
    "y_pred = model.predict(X)\n",
    "\n",
    "# 결정계수 계산\n",
    "r2 = r2_score(y, y_pred)\n",
    "print(\"결정계수 (R²):\", r2)\n",
    "```\n",
    "\n",
    "---\n",
    "\n",
    "### 🔹 **R² 해석**\n",
    "- **높은 R²** → 모델이 데이터를 잘 설명 (0.8~1.0이 이상적)\n",
    "- **낮은 R²** → 모델이 데이터를 제대로 설명하지 못함 (0~0.5)\n",
    "- **음수 R²** → 모델이 아예 잘못된 방향으로 예측 (평균값 예측보다 나쁨)  \n",
    "\n",
    "> 💡 **주의:**  \n",
    "> - 다항 회귀나 비선형 데이터에서는 R² 값이 낮을 수도 있음  \n",
    "> - 과적합된 모델의 경우 R² 값이 높더라도 일반화 성능이 떨어질 수 있음  \n",
    "\n",
    "---\n",
    "\n",
    "### 🔥 **추가 개념: Adjusted R² (수정된 결정계수)**\n",
    "- 다중 회귀 분석에서는 변수가 많아질수록 R² 값이 증가하지만, **과적합 문제**가 발생할 수 있음  \n",
    "- **수정된 R² (\\( R^2_{adj} \\))**은 변수 개수를 고려하여 R² 값을 조정한 것  \n",
    "\n",
    "\\[\n",
    "R^2_{adj} = 1 - \\left( \\frac{(1 - R^2) (n - 1)}{n - p - 1} \\right)\n",
    "\\]\n",
    "- \\( n \\): 데이터 샘플 개수  \n",
    "- \\( p \\): 독립 변수 개수  \n",
    "\n",
    "👉 **변수 개수가 많아지면 R²_adj가 감소할 수도 있어 과적합을 방지하는 데 유용!**  \n",
    "\n",
    "---\n",
    "\n",
    "### ✅ **정리**\n",
    "- **결정계수 (R²)**: 회귀 모델이 데이터를 얼마나 잘 설명하는지 측정  \n",
    "- **0 ≤ R² ≤ 1** (높을수록 좋음, 음수가 될 수도 있음)  \n",
    "- **단순 회귀에서는 R²만 봐도 괜찮지만, 다중 회귀에서는 Adjusted R²도 고려**  \n",
    "\n",
    "🚀 **모델 성능을 평가할 때는 RMSE, MAE 같은 다른 지표와 함께 사용하면 더 정확한 판단이 가능!**"
   ],
   "id": "a24a02f43cfc04b6"
  },
  {
   "metadata": {
    "ExecuteTime": {
     "end_time": "2025-04-07T06:00:45.357394Z",
     "start_time": "2025-04-07T06:00:45.190103Z"
    }
   },
   "cell_type": "code",
   "source": [
    "from sklearn.neighbors import KNeighborsRegressor\n",
    "\n",
    "knr = KNeighborsRegressor()\n",
    "knr.fit(X_train, y_train)\n",
    "knr.score(X_test, y_test)"
   ],
   "id": "429e827ba9267c84",
   "outputs": [
    {
     "data": {
      "text/plain": [
       "0.992809406101064"
      ]
     },
     "execution_count": 6,
     "metadata": {},
     "output_type": "execute_result"
    }
   ],
   "execution_count": 6
  },
  {
   "metadata": {},
   "cell_type": "markdown",
   "source": [
    "#### 📌 **결정계수 (R²) là gì?**  \n",
    "**결정계수 (R², Coefficient of Determination)** là một chỉ số đánh giá trong mô hình hồi quy, cho biết **mức độ mà mô hình giải thích được phương sai của dữ liệu thực tế**.  \n",
    "\n",
    "- **R² dao động trong khoảng:**  \n",
    "  \\[\n",
    "  0 \\leq R^2 \\leq 1\n",
    "  \\]\n",
    "  - **\\( R^2 = 1 \\)**: Mô hình dự đoán hoàn hảo.  \n",
    "  - **\\( R^2 = 0 \\)**: Mô hình không giải thích được dữ liệu, chỉ dự đoán bằng giá trị trung bình.  \n",
    "  - **\\( R^2 < 0 \\)**: Mô hình tệ hơn cả việc đoán bằng giá trị trung bình.  \n",
    "\n",
    "---\n",
    "\n",
    "### 🔹 **Công thức tính R²**\n",
    "$$ \n",
    "R^2 = 1 - \\frac{SS_{\\text{res}}}{SS_{\\text{tot}}} \n",
    "$$\n",
    "\n",
    "Trong đó:  \n",
    "- **\\($$ SS_{\\text{res}}$$ \\) (Residual Sum of Squares - Tổng bình phương phần dư)**:  \n",
    "  \\[\n",
    " $$ SS_{\\text{res}} = \\sum (y_i - \\hat{y}_i)^2  $$\n",
    "  \\]\n",
    "  Là tổng bình phương sai số giữa giá trị thực \\( y_i \\) và giá trị dự đoán \\( \\hat{y}_i \\).  \n",
    "\n",
    "- **\\$$( SS_{\\text{tot}} \\) $$(Total Sum of Squares - Tổng bình phương tổng thể)**:  \n",
    "  \\[\n",
    " $$ SS_{\\text{tot}} = \\sum (y_i - \\bar{y})^2$$\n",
    "  \\]\n",
    "  Là tổng bình phương sai số giữa giá trị thực \\( y_i \\) và giá trị trung bình của dữ liệu \\( \\bar{y} \\).  \n",
    "\n",
    "👉 **Nói một cách đơn giản:**  \n",
    "- Nếu **\\$$( SS_{\\text{res}} $$\\) nhỏ** ⇒ Mô hình dự đoán tốt.  \n",
    "- Nếu **\\$$( R^2 \\) $$gần 1** ⇒ Mô hình dự đoán chính xác.  \n",
    "- Nếu **\\$$( R^2 \\) $$gần 0 hoặc âm** ⇒ Mô hình dự đoán kém.  \n",
    "\n",
    "---\n",
    "\n",
    "### 🔹 **Ví dụ Python**\n",
    "```python\n",
    "from sklearn.linear_model import LinearRegression\n",
    "from sklearn.metrics import r2_score\n",
    "import numpy as np\n",
    "\n",
    "# Dữ liệu mẫu\n",
    "X = np.array([1, 2, 3, 4, 5]).reshape(-1, 1)\n",
    "y = np.array([2, 4, 5, 4, 5])  # Giá trị thực tế\n",
    "\n",
    "# Tạo mô hình hồi quy tuyến tính\n",
    "model = LinearRegression()\n",
    "model.fit(X, y)\n",
    "y_pred = model.predict(X)\n",
    "\n",
    "# Tính R²\n",
    "r2 = r2_score(y, y_pred)\n",
    "print(\"R² =\", r2)\n",
    "```\n",
    "\n",
    "---\n",
    "\n",
    "### 🔹 **Ý nghĩa của R²**\n",
    "- **R² cao (gần 1):** Mô hình dự đoán tốt.  \n",
    "- **R² thấp (gần 0):** Mô hình chưa phù hợp với dữ liệu.  \n",
    "- **R² âm:** Mô hình quá tệ, thậm chí còn kém hơn so với việc đoán trung bình.  \n",
    "\n",
    "---\n",
    "\n",
    "### 🔥 **Chỉ số liên quan: R² hiệu chỉnh (Adjusted R²)**\n",
    "Trong hồi quy đa biến, số lượng biến đầu vào có thể ảnh hưởng đến R², khiến giá trị này luôn tăng khi thêm biến mới. Để tránh điều này, người ta dùng **Adjusted R²**:\n",
    "\n",
    "\\[\n",
    "R^2_{adj} = 1 - \\left( \\frac{(1 - R^2) (n - 1)}{n - p - 1} \\right)\n",
    "\\]\n",
    "- \\( n \\) là số mẫu dữ liệu.  \n",
    "- \\( p \\) là số biến độc lập.  \n",
    "\n",
    "👉 **Adjusted R² giúp kiểm soát việc thêm biến không cần thiết vào mô hình.**  \n",
    "\n",
    "---\n",
    "\n",
    "### ✅ **Kết luận**\n",
    "- **R² đánh giá mức độ phù hợp của mô hình hồi quy.**  \n",
    "- **\\( 0 \\leq R^2 \\leq 1 \\)**, giá trị càng cao thì mô hình càng tốt.  \n",
    "- **Hạn chế của R²:** Không đánh giá được độ chính xác của từng dự đoán, cần kết hợp với RMSE hoặc MAE.  \n",
    "\n",
    "🚀 **Hãy sử dụng R² cùng với các chỉ số khác để đánh giá mô hình chính xác hơn!**"
   ],
   "id": "340246e4316bd37a"
  },
  {
   "metadata": {},
   "cell_type": "markdown",
   "source": [
    "# 절댓값 오차 (MAE)\n",
    "### 📌 **절대값 오차 (MAE, Mean Absolute Error)란?**\n",
    "**절대값 오차 (MAE, Mean Absolute Error)** 는 회귀 모델의 예측값과 실제값 사이의 **절대값 차이**를 평균한 지표입니다."
   ],
   "id": "c347306dcc50889a"
  },
  {
   "metadata": {
    "ExecuteTime": {
     "end_time": "2025-04-07T06:00:45.363766Z",
     "start_time": "2025-04-07T06:00:45.358399Z"
    }
   },
   "cell_type": "code",
   "source": [
    "from sklearn.metrics import mean_absolute_error\n",
    "\n",
    "y_test_prediction = knr.predict(X_test)\n",
    "mae = mean_absolute_error(y_test, y_test_prediction)\n",
    "mae\n"
   ],
   "id": "59aa285d0e809a1e",
   "outputs": [
    {
     "data": {
      "text/plain": [
       "19.157142857142862"
      ]
     },
     "execution_count": 7,
     "metadata": {},
     "output_type": "execute_result"
    }
   ],
   "execution_count": 7
  },
  {
   "metadata": {},
   "cell_type": "markdown",
   "source": [
    "\n",
    "# 과대적합(Overfitting)과 과소적합(Underfitting)\n",
    "### 📌 **Underfitting과 Overfitting이란?**\n",
    "\n",
    "Underfitting(과소적합)과 Overfitting(과적합)은 머신러닝 모델이 학습 데이터에 대해 어떻게 일반화하는지를 설명하는 개념입니다.\n",
    "\n",
    "---\n",
    "\n",
    "## 🔹 **Underfitting (과소적합)**\n",
    "\n",
    "### 🧐 **정의**\n",
    "\n",
    "- 모델이 **훈련 데이터조차 제대로 학습하지 못한 상태**\n",
    "- 너무 단순한 모델을 사용하여 데이터의 패턴을 제대로 반영하지 못함\n",
    "\n",
    "### ⚠️ **원인**\n",
    "\n",
    "1. 모델이 너무 단순함 (ex: 너무 적은 뉴런/레이어를 가진 신경망)\n",
    "2. 학습 데이터 부족\n",
    "3. 학습이 충분히 진행되지 않음 (early stopping)\n",
    "4. 중요한 특징(feature)을 고려하지 않음\n",
    "\n",
    "### 📉 **결과**\n",
    "\n",
    "- 훈련 데이터와 테스트 데이터 모두에서 낮은 성능을 보임\n",
    "- 데이터의 패턴을 잘 반영하지 못함\n",
    "\n",
    "### ✅ **해결 방법**\n",
    "\n",
    "- 더 복잡한 모델 사용 (ex: 레이어 추가, 파라미터 증가)\n",
    "- 학습 데이터 증가\n",
    "- 충분한 학습 수행 (더 많은 epoch)\n",
    "- 중요한 특징(feature) 추가\n",
    "\n",
    "---\n",
    "\n",
    "## 🔹 **Overfitting (과적합)**\n",
    "\n",
    "### 🧐 **정의**\n",
    "\n",
    "- 모델이 **훈련 데이터에 너무 과하게 최적화된 상태**\n",
    "- 훈련 데이터에서는 성능이 높지만, 새로운 데이터(테스트 데이터)에서는 성능이 크게 떨어짐\n",
    "\n",
    "### ⚠️ **원인**\n",
    "\n",
    "1. 모델이 너무 복잡함 (ex: 너무 많은 뉴런/레이어를 가진 신경망)\n",
    "2. 학습 데이터를 지나치게 오래 학습함 (epoch가 너무 많음)\n",
    "3. 훈련 데이터에 노이즈가 많아서 불필요한 패턴까지 학습함\n",
    "4. 훈련 데이터가 너무 적음\n",
    "\n",
    "### 📉 **결과**\n",
    "\n",
    "- 훈련 데이터에서는 성능이 높지만, 테스트 데이터에서는 성능이 낮음\n",
    "- 일반화(generalization) 능력이 부족\n",
    "\n",
    "### ✅ **해결 방법**\n",
    "\n",
    "- Regularization 적용 (L1, L2 정규화)\n",
    "- Dropout 사용 (딥러닝의 경우)\n",
    "- 학습 데이터 증가\n",
    "- Early stopping 적용 (적절한 시점에서 학습 중단)\n",
    "- Feature selection을 통해 불필요한 변수 제거\n",
    "\n",
    "---\n",
    "\n",
    "## 🔍 **Underfitting vs Overfitting 비교**\n",
    "\n",
    "|  | Underfitting (과소적합) | Overfitting (과적합) |\n",
    "| --- | --- | --- |\n",
    "| **모델 복잡도** | 너무 단순함 | 너무 복잡함 |\n",
    "| **훈련 데이터 성능** | 낮음 | 높음 |\n",
    "| **테스트 데이터 성능** | 낮음 | 낮음 |\n",
    "| **원인** | 부족한 학습, 단순한 모델 | 과도한 학습, 복잡한 모델 |\n",
    "| **해결 방법** | 모델 복잡도 증가, 더 많은 학습 | Regularization, Dropout, Early Stopping |\n",
    "\n",
    "---\n",
    "\n",
    "### 📊 **시각적 이해**\n",
    "\n",
    "- Underfitting: 직선이 모든 데이터를 잘 설명하지 못하는 경우\n",
    "- Overfitting: 곡선이 모든 점을 지나지만 새로운 데이터에 적용하기 어려운 경우\n",
    "\n",
    "```\n",
    "Underfitting      Good Fit       Overfitting\n",
    "   |                 |                 |\n",
    "   |       -  -  -  |  -  -  -  -      |\n",
    "   |      -   -  -  |  -  -  -  -      |\n",
    "   |     -    -   - | -   -   -   -    |\n",
    "----------------------------------------------\n",
    "   모델이 너무 단순함   적절한 복잡도   모델이 너무 복잡함\n",
    "\n",
    "```\n",
    "\n",
    "---\n",
    "\n",
    "## 🎯 **결론**\n",
    "\n",
    "- **Underfitting** → 모델이 너무 단순해서 학습이 잘 안됨\n",
    "- **Overfitting** → 모델이 너무 복잡해서 새로운 데이터에 약함\n",
    "- **Best Fit** → 훈련 데이터와 테스트 데이터에서 좋은 성능을 내는 상태\n",
    "\n",
    "**➡️ 목표: Underfitting과 Overfitting 사이의 균형을 맞추는 것!**\n"
   ],
   "id": "afc69f1e2f04f877"
  },
  {
   "metadata": {
    "ExecuteTime": {
     "end_time": "2025-04-07T06:00:45.370892Z",
     "start_time": "2025-04-07T06:00:45.364771Z"
    }
   },
   "cell_type": "code",
   "source": [
    "# ㅇ웃의 개수를 3으로 설정\n",
    "knr.n_neighbors = 3\n",
    "\n",
    "# 모델 다시 학습\n",
    "knr.fit(X_train, y_train)\n",
    "knr.score(X_test, y_test)"
   ],
   "id": "aff8b1415c87ab45",
   "outputs": [
    {
     "data": {
      "text/plain": [
       "0.9746459963987609"
      ]
     },
     "execution_count": 8,
     "metadata": {},
     "output_type": "execute_result"
    }
   ],
   "execution_count": 8
  },
  {
   "metadata": {},
   "cell_type": "markdown",
   "source": "### 귀즈 2번",
   "id": "df00184f743897af"
  },
  {
   "metadata": {
    "ExecuteTime": {
     "end_time": "2025-04-07T06:00:45.659916Z",
     "start_time": "2025-04-07T06:00:45.370892Z"
    }
   },
   "cell_type": "code",
   "source": [
    "# k-최근접 이웃 회귀 객체를 만듭니다\n",
    "knr = KNeighborsRegressor()\n",
    "# 5에서 45까지 x 좌표를 만듭니다\n",
    "x = np.arange(5, 45).reshape(-1, 1)\n",
    "\n",
    "# n = 1, 5, 10일 때 예측 결과를 그래프로 그립니다.\n",
    "for n in [1, 5, 10]:\n",
    "    # 모델 훈련\n",
    "    knr.n_neighbors = n\n",
    "    knr.fit(X_train, y_train)\n",
    "    # 지정한 범위 x에 대한 예측 구하기\n",
    "    prediction = knr.predict(x)\n",
    "    # 훈련 세트와 예측 결과 그래프 그리기\n",
    "    plt.scatter(X_train, y_train)\n",
    "    plt.plot(x, prediction)\n",
    "    plt.title('n_neighbors = {}'.format(n))\n",
    "    plt.xlabel('length')\n",
    "    plt.ylabel('weight')\n",
    "    plt.show()"
   ],
   "id": "53364be64790fd05",
   "outputs": [
    {
     "data": {
      "text/plain": [
       "<Figure size 640x480 with 1 Axes>"
      ],
      "image/png": "[encoded data removed]"
     },
     "metadata": {},
     "output_type": "display_data"
    },
    {
     "data": {
      "text/plain": [
       "<Figure size 640x480 with 1 Axes>"
      ],
      "image/png": "[encoded data removed]"
     },
     "metadata": {},
     "output_type": "display_data"
    },
    {
     "data": {
      "text/plain": [
       "<Figure size 640x480 with 1 Axes>"
      ],
      "image/png": "[encoded data removed]"
     },
     "metadata": {},
     "output_type": "display_data"
    }
   ],
   "execution_count": 9
  },
  {
   "metadata": {},
   "cell_type": "markdown",
   "source": "# 3-2 선형 회귀",
   "id": "beac0f62c67f14b8"
  },
  {
   "metadata": {
    "ExecuteTime": {
     "end_time": "2025-04-07T06:00:45.666430Z",
     "start_time": "2025-04-07T06:00:45.661429Z"
    }
   },
   "cell_type": "code",
   "source": [
    "perch_length = np.array(\n",
    "    [8.4, 13.7, 15.0, 16.2, 17.4, 18.0, 18.7, 19.0, 19.6, 20.0,\n",
    "     21.0, 21.0, 21.0, 21.3, 22.0, 22.0, 22.0, 22.0, 22.0, 22.5,\n",
    "     22.5, 22.7, 23.0, 23.5, 24.0, 24.0, 24.6, 25.0, 25.6, 26.5,\n",
    "     27.3, 27.5, 27.5, 27.5, 28.0, 28.7, 30.0, 32.8, 34.5, 35.0,\n",
    "     36.5, 36.0, 37.0, 37.0, 39.0, 39.0, 39.0, 40.0, 40.0, 40.0,\n",
    "     40.0, 42.0, 43.0, 43.0, 43.5, 44.0]\n",
    ")\n",
    "perch_weight = np.array(\n",
    "    [5.9, 32.0, 40.0, 51.5, 70.0, 100.0, 78.0, 80.0, 85.0, 85.0,\n",
    "     110.0, 115.0, 125.0, 130.0, 120.0, 120.0, 130.0, 135.0, 110.0,\n",
    "     130.0, 150.0, 145.0, 150.0, 170.0, 225.0, 145.0, 188.0, 180.0,\n",
    "     197.0, 218.0, 300.0, 260.0, 265.0, 250.0, 250.0, 300.0, 320.0,\n",
    "     514.0, 556.0, 840.0, 685.0, 700.0, 700.0, 690.0, 900.0, 650.0,\n",
    "     820.0, 850.0, 900.0, 1015.0, 820.0, 1100.0, 1000.0, 1100.0,\n",
    "     1000.0, 1000.0]\n",
    ")"
   ],
   "id": "97a485f428e38d0a",
   "outputs": [],
   "execution_count": 10
  },
  {
   "metadata": {
    "ExecuteTime": {
     "end_time": "2025-04-07T06:00:45.695451Z",
     "start_time": "2025-04-07T06:00:45.666936Z"
    }
   },
   "cell_type": "code",
   "source": [
    "from sklearn.model_selection import train_test_split\n",
    "\n",
    "X_train, X_test, y_train, y_test = train_test_split(perch_length, perch_weight, random_state=42)\n",
    "X_train = X_train.reshape(-1, 1)\n",
    "X_test = X_test.reshape(-1, 1)\n",
    "\n",
    "X_train.shape, X_test.shape"
   ],
   "id": "9e499274417d9b60",
   "outputs": [
    {
     "data": {
      "text/plain": [
       "((42, 1), (14, 1))"
      ]
     },
     "execution_count": 11,
     "metadata": {},
     "output_type": "execute_result"
    }
   ],
   "execution_count": 11
  },
  {
   "metadata": {
    "ExecuteTime": {
     "end_time": "2025-04-07T06:00:45.702490Z",
     "start_time": "2025-04-07T06:00:45.695958Z"
    }
   },
   "cell_type": "code",
   "source": [
    "knr.n_neighbors = 3\n",
    "knr.fit(X_train, y_train)\n",
    "\n",
    "knr.score(X_test, y_test)"
   ],
   "id": "7b27311bea2ef7c8",
   "outputs": [
    {
     "data": {
      "text/plain": [
       "0.9746459963987609"
      ]
     },
     "execution_count": 12,
     "metadata": {},
     "output_type": "execute_result"
    }
   ],
   "execution_count": 12
  },
  {
   "metadata": {
    "ExecuteTime": {
     "end_time": "2025-04-07T06:00:45.711596Z",
     "start_time": "2025-04-07T06:00:45.703501Z"
    }
   },
   "cell_type": "code",
   "source": [
    "# 이제 이 모델을 사용해 길이가 50cm인 농어의 무게를 예측할 것이다.\n",
    "knr.predict([[50]])"
   ],
   "id": "17f9dded1ff39846",
   "outputs": [
    {
     "data": {
      "text/plain": [
       "array([1033.33333333])"
      ]
     },
     "execution_count": 13,
     "metadata": {},
     "output_type": "execute_result"
    }
   ],
   "execution_count": 13
  },
  {
   "metadata": {},
   "cell_type": "markdown",
   "source": "## 산점표 그리기",
   "id": "b9ea33ffe093b369"
  },
  {
   "metadata": {
    "ExecuteTime": {
     "end_time": "2025-04-07T06:00:45.809645Z",
     "start_time": "2025-04-07T06:00:45.711596Z"
    }
   },
   "cell_type": "code",
   "source": [
    "distances, indexes = knr.kneighbors([[50]])\n",
    "\n",
    "plt.scatter(X_train, y_train)\n",
    "plt.scatter(X_train[indexes], y_train[indexes], marker='D')\n",
    "plt.scatter(50, 1033, marker='^')\n",
    "plt.xlabel('length')\n",
    "plt.ylabel('weight')\n",
    "plt.show()"
   ],
   "id": "b9e1e61a6ebc179d",
   "outputs": [
    {
     "data": {
      "text/plain": [
       "<Figure size 640x480 with 1 Axes>"
      ],
      "image/png": "[encoded data removed]"
     },
     "metadata": {},
     "output_type": "display_data"
    }
   ],
   "execution_count": 14
  },
  {
   "metadata": {},
   "cell_type": "markdown",
   "source": [
    "- 길이가 50cm인 농어의 이웃을 찾아보니 길이가 45cm인 농어가 가장 가까운 이웃으로 나타났다.\n",
    "- 이웃 샘플의 무게를 확인해보니 1033g이다."
   ],
   "id": "a8b151cfdaf4f85e"
  },
  {
   "metadata": {
    "ExecuteTime": {
     "end_time": "2025-04-07T06:00:45.815151Z",
     "start_time": "2025-04-07T06:00:45.810851Z"
    }
   },
   "cell_type": "code",
   "source": "print(np.mean(y_train[indexes]))",
   "id": "e3b06fbe905104ff",
   "outputs": [
    {
     "name": "stdout",
     "output_type": "stream",
     "text": [
      "1033.3333333333333\n"
     ]
    }
   ],
   "execution_count": 15
  },
  {
   "metadata": {
    "ExecuteTime": {
     "end_time": "2025-04-07T06:00:45.833958Z",
     "start_time": "2025-04-07T06:00:45.815151Z"
    }
   },
   "cell_type": "code",
   "source": "print(knr.predict([[100]]))",
   "id": "d9d4b619ba55c7cb",
   "outputs": [
    {
     "name": "stdout",
     "output_type": "stream",
     "text": [
      "[1033.33333333]\n"
     ]
    }
   ],
   "execution_count": 16
  },
  {
   "metadata": {},
   "cell_type": "markdown",
   "source": [
    "### Cho dù có cho chiều dài cơ thể của con cá là 100cm, mô hình vẫn dự đoán rằng trọng lượng của nó chỉ khoảng 1033g.\n",
    "- Mô hình dự đoán quá tối dẫn đến không thể dự đoán trọng lượng của cá lớn.\n"
   ],
   "id": "4fbfd7738ac49753"
  },
  {
   "metadata": {
    "ExecuteTime": {
     "end_time": "2025-04-07T06:00:45.920635Z",
     "start_time": "2025-04-07T06:00:45.833958Z"
    }
   },
   "cell_type": "code",
   "source": [
    "# 100cm 그래프를 한 번 그려 확인 해보자.\n",
    "\n",
    "distances, indexes = knr.kneighbors([[100]])\n",
    "\n",
    "plt.scatter(X_train, y_train)\n",
    "plt.scatter(100, 1033, marker='^')\n",
    "plt.scatter(X_train[indexes], y_train[indexes], marker='D')\n",
    "plt.xlabel('length')\n",
    "plt.ylabel('weight')\n",
    "plt.show()"
   ],
   "id": "6c51a1484498eb0d",
   "outputs": [
    {
     "data": {
      "text/plain": [
       "<Figure size 640x480 with 1 Axes>"
      ],
      "image/png": "[encoded data removed]"
     },
     "metadata": {},
     "output_type": "display_data"
    }
   ],
   "execution_count": 17
  },
  {
   "metadata": {},
   "cell_type": "markdown",
   "source": [
    "# 선형 회귀 (Linear Regression)\n",
    "**선형 회귀(Linear Regression)**는 통계학 및 머신러닝에서 널리 사용되는 **회귀 분석** 기법 중 하나로, 두 변수 간의 관계를 직선으로 모델링하는 방법입니다. 선형 회귀는 **독립 변수**(feature)와 **종속 변수**(target) 간의 선형 관계를 찾는 데 사용됩니다.\n",
    "\n",
    "### 📌 **선형 회귀의 개념**\n",
    "선형 회귀 모델은 **y = mx + b**의 형태로 표현됩니다:\n",
    "- **y**는 종속 변수(예측하려는 값),\n",
    "- **x**는 독립 변수(특성),\n",
    "- **m**은 기울기(회귀 계수),\n",
    "- **b**는 y 절편입니다.\n",
    "\n",
    "선형 회귀의 목표는 **기울기(m)와 절편(b)** 값을 찾아서 주어진 데이터를 잘 설명하는 직선을 만드는 것입니다.\n",
    "\n",
    "### 🔹 **단순 선형 회귀 (Simple Linear Regression)**:\n",
    "단순 선형 회귀는 하나의 독립 변수와 종속 변수 간의 관계를 찾습니다. 예를 들어, **`x`**(특성)와 **`y`**(목표) 간의 선형 관계를 모델링합니다.\n",
    "\n",
    "### 🔹 **다중 선형 회귀 (Multiple Linear Regression)**:\n",
    "다중 선형 회귀는 여러 개의 독립 변수와 종속 변수 간의 관계를 모델링합니다. **`y = b₀ + b₁x₁ + b₂x₂ + ... + bₙxₙ`**와 같은 형태로 표현됩니다.\n",
    "\n",
    "### 📌 **선형 회귀 공식**\n",
    "1. **단순 선형 회귀**:\n",
    "   $$\n",
    "   y = mx + b\n",
    "   $$\n",
    "2. **다중 선형 회귀**:\n",
    "   $$\n",
    "   y = b_0 + b_1x_1 + b_2x_2 + ... + b_nx_n\n",
    "   $$\n",
    "\n",
    "---\n",
    "\n",
    "### 📌 **Python을 사용한 선형 회귀 예시**\n",
    "\n",
    "```python\n",
    "import numpy as np\n",
    "import matplotlib.pyplot as plt\n",
    "from sklearn.linear_model import LinearRegression\n",
    "\n",
    "# 예시 데이터 (X: 특성, y: 목표)\n",
    "X = np.array([1, 2, 3, 4, 5]).reshape(-1, 1)  # 특성\n",
    "y = np.array([1, 2, 1.3, 3.75, 2.25])  # 목표\n",
    "\n",
    "# 선형 회귀 모델 생성\n",
    "model = LinearRegression()\n",
    "\n",
    "# 훈련 데이터로 모델 학습\n",
    "model.fit(X, y)\n",
    "\n",
    "# 예측 수행\n",
    "y_pred = model.predict(X)\n",
    "\n",
    "# 회귀선 그리기\n",
    "plt.scatter(X, y, color='red')  # 데이터 점\n",
    "plt.plot(X, y_pred, color='blue')  # 회귀선\n",
    "plt.title(\"Linear Regression\")\n",
    "plt.xlabel(\"X\")\n",
    "plt.ylabel(\"y\")\n",
    "plt.show()\n",
    "\n",
    "# 회귀 계수 및 절편 출력\n",
    "print(\"기울기 (m):\", model.coef_)\n",
    "print(\"절편 (b):\", model.intercept_)\n",
    "```\n",
    "\n",
    "### 📌 **설명**:\n",
    "1. **`LinearRegression()`**: 선형 회귀 모델을 생성합니다.\n",
    "2. **`fit(X, y)`**: 주어진 훈련 데이터 `X`와 `y`를 사용하여 모델을 학습시킵니다.\n",
    "3. **`predict(X)`**: 훈련된 모델을 사용하여 새로운 입력 `X`에 대해 예측 값을 계산합니다.\n",
    "4. **`model.coef_`**: 학습된 기울기(m)를 반환합니다.\n",
    "5. **`model.intercept_`**: 학습된 절편(b)을 반환합니다.\n",
    "\n",
    "### 📌 **선형 회귀 결과 해석**:\n",
    "- **기울기(m)**: 특성 x가 1 증가할 때, 목표 y가 얼마나 증가하는지를 나타냅니다.\n",
    "- **절편(b)**: 특성 x가 0일 때 목표 y의 값을 나타냅니다.\n",
    "\n",
    "이 코드에서는 **`X`**와 **`y`** 사이의 선형 관계를 모델링하여 회귀선을 그립니다.\n",
    "\n",
    "---\n",
    "\n",
    "### 📌 **결과 시각화**:\n",
    "- 빨간 점은 실제 데이터를 나타내고, 파란 선은 학습된 선형 회귀 모델을 나타냅니다.\n",
    "- 선형 회귀 모델은 데이터의 트렌드를 잘 따라가며, 새로운 데이터에 대한 예측을 할 수 있게 됩니다.\n",
    "\n",
    "선형 회귀는 간단하지만 많은 데이터에 대해서 강력한 예측 능력을 가질 수 있는 기본적인 모델입니다."
   ],
   "id": "335c4fffaee1990"
  },
  {
   "metadata": {
    "ExecuteTime": {
     "end_time": "2025-04-07T06:00:45.947467Z",
     "start_time": "2025-04-07T06:00:45.924156Z"
    }
   },
   "cell_type": "code",
   "source": [
    "from sklearn.linear_model import LinearRegression\n",
    "\n",
    "lr = LinearRegression()\n",
    "lr.fit(X_train, y_train)\n",
    "\n",
    "lr.score(X_test, y_test)  # 결정계수 R²"
   ],
   "id": "7728708d997eeebd",
   "outputs": [
    {
     "data": {
      "text/plain": [
       "0.824750312331356"
      ]
     },
     "execution_count": 18,
     "metadata": {},
     "output_type": "execute_result"
    }
   ],
   "execution_count": 18
  },
  {
   "metadata": {},
   "cell_type": "markdown",
   "source": "",
   "id": "7250ca001958b1bb"
  },
  {
   "metadata": {},
   "cell_type": "markdown",
   "source": "",
   "id": "e7cf0aed093df4e5"
  },
  {
   "metadata": {
    "ExecuteTime": {
     "end_time": "2025-04-07T06:00:45.964886Z",
     "start_time": "2025-04-07T06:00:45.948476Z"
    }
   },
   "cell_type": "code",
   "source": "print(lr.predict([[50]]))",
   "id": "42afe8be48f424b5",
   "outputs": [
    {
     "name": "stdout",
     "output_type": "stream",
     "text": [
      "[1241.83860323]\n"
     ]
    }
   ],
   "execution_count": 19
  },
  {
   "metadata": {},
   "cell_type": "markdown",
   "source": [
    "### 선형 회귀 모델을 사용하면 길이가 50cm인 농어의 무게를 1241g으로 예측한다.\n",
    "<img src=\"https://img1.daumcdn.net/thumb/R1280x0/?scode=mtistory2&fname=https%3A%2F%2Fblog.kakaocdn.net%2Fdn%2FbEY565%2FbtrfPhTP6IH%2FsKrg7nZ6soySfnWkIhQlMk%2Fimg.png\">"
   ],
   "id": "c1b31d6e54677e59"
  },
  {
   "metadata": {
    "ExecuteTime": {
     "end_time": "2025-04-07T06:00:45.977600Z",
     "start_time": "2025-04-07T06:00:45.965895Z"
    }
   },
   "cell_type": "code",
   "source": [
    "print(lr.coef_, lr.intercept_)\n",
    "# coef_는 기울기를 종종 셰수, intercept_는 가중치라고 부른다.\n",
    "# 기울기 : độ dốc, intercept : tỉ trọng(weight) "
   ],
   "id": "ec654f593c685928",
   "outputs": [
    {
     "name": "stdout",
     "output_type": "stream",
     "text": [
      "[39.01714496] -709.0186449535474\n"
     ]
    }
   ],
   "execution_count": 20
  },
  {
   "metadata": {
    "ExecuteTime": {
     "end_time": "2025-04-07T06:00:46.153261Z",
     "start_time": "2025-04-07T06:00:45.978879Z"
    }
   },
   "cell_type": "code",
   "source": [
    "# 훈련 세틍의 산점도 그리기\n",
    "plt.scatter(X_train, y_train)\n",
    "\n",
    "plt.plot([15, 50], [15*lr.coef_ + lr.intercept_, 50*lr.coef_ + lr.intercept_], color='red')\n",
    "plt.scatter(50, 1241.8, marker='^')\n",
    "\n",
    "plt.xlabel('length')\n",
    "plt.ylabel('weight')\n",
    "plt.show()"
   ],
   "id": "670189e35518e8c",
   "outputs": [
    {
     "data": {
      "text/plain": [
       "<Figure size 640x480 with 1 Axes>"
      ],
      "image/png": "[encoded data removed]"
     },
     "metadata": {},
     "output_type": "display_data"
    }
   ],
   "execution_count": 21
  },
  {
   "metadata": {
    "ExecuteTime": {
     "end_time": "2025-04-07T06:00:46.159333Z",
     "start_time": "2025-04-07T06:00:46.154268Z"
    }
   },
   "cell_type": "code",
   "source": [
    "# 훈련 모델 평가와 데스트 모델 평가\n",
    "# lr.score(X_train, y_train), lr.score(X_test, y_test)\n",
    "print(lr.score(X_train, y_train), lr.score(X_test, y_test), sep='\\n')"
   ],
   "id": "6daba59a9d3da347",
   "outputs": [
    {
     "name": "stdout",
     "output_type": "stream",
     "text": [
      "0.9398463339976041\n",
      "0.824750312331356\n"
     ]
    }
   ],
   "execution_count": 22
  },
  {
   "metadata": {},
   "cell_type": "markdown",
   "source": "# 3-3",
   "id": "72694b9fc4d766dc"
  },
  {
   "metadata": {
    "ExecuteTime": {
     "end_time": "2025-04-07T06:00:46.719111Z",
     "start_time": "2025-04-07T06:00:46.160339Z"
    }
   },
   "cell_type": "code",
   "source": [
    "file_path = ('https://bit.ly/perch_csv_data')\n",
    "\n",
    "df = pd.read_csv(file_path)"
   ],
   "id": "2a72a0e1f5e731ea",
   "outputs": [],
   "execution_count": 23
  },
  {
   "metadata": {
    "ExecuteTime": {
     "end_time": "2025-04-07T06:00:46.724506Z",
     "start_time": "2025-04-07T06:00:46.719111Z"
    }
   },
   "cell_type": "code",
   "source": [
    "perch_full = df.to_numpy()\n",
    "print(perch_full)"
   ],
   "id": "7e7773ad3048c6ca",
   "outputs": [
    {
     "name": "stdout",
     "output_type": "stream",
     "text": [
      "[[ 8.4   2.11  1.41]\n",
      " [13.7   3.53  2.  ]\n",
      " [15.    3.82  2.43]\n",
      " [16.2   4.59  2.63]\n",
      " [17.4   4.59  2.94]\n",
      " [18.    5.22  3.32]\n",
      " [18.7   5.2   3.12]\n",
      " [19.    5.64  3.05]\n",
      " [19.6   5.14  3.04]\n",
      " [20.    5.08  2.77]\n",
      " [21.    5.69  3.56]\n",
      " [21.    5.92  3.31]\n",
      " [21.    5.69  3.67]\n",
      " [21.3   6.38  3.53]\n",
      " [22.    6.11  3.41]\n",
      " [22.    5.64  3.52]\n",
      " [22.    6.11  3.52]\n",
      " [22.    5.88  3.52]\n",
      " [22.    5.52  4.  ]\n",
      " [22.5   5.86  3.62]\n",
      " [22.5   6.79  3.62]\n",
      " [22.7   5.95  3.63]\n",
      " [23.    5.22  3.63]\n",
      " [23.5   6.28  3.72]\n",
      " [24.    7.29  3.72]\n",
      " [24.    6.38  3.82]\n",
      " [24.6   6.73  4.17]\n",
      " [25.    6.44  3.68]\n",
      " [25.6   6.56  4.24]\n",
      " [26.5   7.17  4.14]\n",
      " [27.3   8.32  5.14]\n",
      " [27.5   7.17  4.34]\n",
      " [27.5   7.05  4.34]\n",
      " [27.5   7.28  4.57]\n",
      " [28.    7.82  4.2 ]\n",
      " [28.7   7.59  4.64]\n",
      " [30.    7.62  4.77]\n",
      " [32.8  10.03  6.02]\n",
      " [34.5  10.26  6.39]\n",
      " [35.   11.49  7.8 ]\n",
      " [36.5  10.88  6.86]\n",
      " [36.   10.61  6.74]\n",
      " [37.   10.84  6.26]\n",
      " [37.   10.57  6.37]\n",
      " [39.   11.14  7.49]\n",
      " [39.   11.14  6.  ]\n",
      " [39.   12.43  7.35]\n",
      " [40.   11.93  7.11]\n",
      " [40.   11.73  7.22]\n",
      " [40.   12.38  7.46]\n",
      " [40.   11.14  6.63]\n",
      " [42.   12.8   6.87]\n",
      " [43.   11.93  7.28]\n",
      " [43.   12.51  7.42]\n",
      " [43.5  12.6   8.14]\n",
      " [44.   12.49  7.6 ]]\n"
     ]
    }
   ],
   "execution_count": 24
  },
  {
   "metadata": {
    "ExecuteTime": {
     "end_time": "2025-04-07T06:00:46.768940Z",
     "start_time": "2025-04-07T06:00:46.725813Z"
    }
   },
   "cell_type": "code",
   "source": [
    "perch_weight = np.array(\n",
    "    [5.9, 32.0, 40.0, 51.5, 70.0, 100.0, 78.0, 80.0, 85.0, 85.0,\n",
    "     110.0, 115.0, 125.0, 130.0, 120.0, 120.0, 130.0, 135.0, 110.0,\n",
    "     130.0, 150.0, 145.0, 150.0, 170.0, 225.0, 145.0, 188.0, 180.0,\n",
    "     197.0, 218.0, 300.0, 260.0, 265.0, 250.0, 250.0, 300.0, 320.0,\n",
    "     514.0, 556.0, 840.0, 685.0, 700.0, 700.0, 690.0, 900.0, 650.0,\n",
    "     820.0, 850.0, 900.0, 1015.0, 820.0, 1100.0, 1000.0, 1100.0,\n",
    "     1000.0, 1000.0]\n",
    "     )"
   ],
   "id": "38255a47d396fbcf",
   "outputs": [],
   "execution_count": 25
  },
  {
   "metadata": {
    "ExecuteTime": {
     "end_time": "2025-04-07T06:00:46.782592Z",
     "start_time": "2025-04-07T06:00:46.769449Z"
    }
   },
   "cell_type": "code",
   "source": [
    "from sklearn.model_selection import train_test_split\n",
    "\n",
    "train_input, test_input, train_target, test_target = train_test_split(perch_full, perch_weight, random_state=42)"
   ],
   "id": "8a490dd13cba7f3f",
   "outputs": [],
   "execution_count": 26
  },
  {
   "metadata": {
    "ExecuteTime": {
     "end_time": "2025-04-07T06:00:46.799114Z",
     "start_time": "2025-04-07T06:00:46.783604Z"
    }
   },
   "cell_type": "code",
   "source": "from sklearn.preprocessing import PolynomialFeatures",
   "id": "81e139e74f4cbbf6",
   "outputs": [],
   "execution_count": 27
  },
  {
   "metadata": {
    "ExecuteTime": {
     "end_time": "2025-04-07T06:00:46.836364Z",
     "start_time": "2025-04-07T06:00:46.799114Z"
    }
   },
   "cell_type": "code",
   "source": [
    "poly = PolynomialFeatures()\n",
    "poly.fit([[2, 3]])\n",
    "print(poly.transform([[2, 3]]))"
   ],
   "id": "5c98efc3006804ff",
   "outputs": [
    {
     "name": "stdout",
     "output_type": "stream",
     "text": [
      "[[1. 2. 3. 4. 6. 9.]]\n"
     ]
    }
   ],
   "execution_count": 28
  },
  {
   "metadata": {},
   "cell_type": "markdown",
   "source": [
    "Bạn đang sử dụng `PolynomialFeatures` từ `sklearn.preprocessing` để tạo ra các đặc trưng đa thức từ dữ liệu đầu vào. Tuy nhiên, có một điểm quan trọng trong đoạn code của bạn:  \n",
    "\n",
    "### **Giải thích đoạn code**\n",
    "```python\n",
    "from sklearn.preprocessing import PolynomialFeatures\n",
    "\n",
    "poly = PolynomialFeatures()  # Khởi tạo transformer cho đặc trưng đa thức\n",
    "poly.fit([[2, 3]])  # Fit dữ liệu đầu vào\n",
    "print(poly.transform([[2, 3]]))  # Biến đổi dữ liệu đầu vào thành đặc trưng đa thức\n",
    "```\n",
    "\n",
    "### **Đầu ra của `poly.transform([[2, 3]])`**\n",
    "Mặc định, `PolynomialFeatures()` tạo ra **các đặc trưng đa thức bao gồm cả bậc 2** và có thêm **hệ số tự do (bias = 1)**.  \n",
    "\n",
    "🔹 Khi chạy đoạn code trên, đầu ra sẽ là:  \n",
    "```python\n",
    "[[1. 2. 3. 4. 6. 9.]]\n",
    "```\n",
    "📌 **Giải thích các phần tử trong mảng đầu ra:**  \n",
    "- `1` : Hệ số tự do (bias)  \n",
    "- `2` : \\( x_1 \\)  \n",
    "- `3` : \\( x_2 \\)  \n",
    "- `4` : \\( x_1^2 \\)  \n",
    "- `6` : \\( x_1 \\cdot x_2 \\)  \n",
    "- `9` : \\( x_2^2 \\)  \n",
    "- \n",
    "### **Điều chỉnh số bậc của đa thức**\n",
    "- Nếu bạn chỉ muốn đặc trưng đa thức **bậc 3**, bạn có thể chỉnh `degree=3` như sau:\n",
    "  ```python\n",
    "  poly = PolynomialFeatures(degree=3)\n",
    "  ```\n",
    "- Nếu không muốn hệ số tự do (`bias`), đặt `include_bias=False`:\n",
    "  ```python\n",
    "  poly = PolynomialFeatures(degree=2, include_bias=False)\n",
    "  ```\n",
    "\n",
    "👉 **Lưu ý:** `fit()` không cần thiết khi dùng `PolynomialFeatures`, bạn có thể bỏ qua:\n",
    "```python\n",
    "print(poly.fit_transform([[2, 3]]))  # Fit và transform trong một bước\n",
    "```"
   ],
   "id": "d1a4c3c84792035"
  },
  {
   "metadata": {},
   "cell_type": "markdown",
   "source": "### 무게 = a * 길이 + b * 높이 + c * 두께 + d * 1",
   "id": "68e4ea881ede3c58"
  },
  {
   "metadata": {
    "ExecuteTime": {
     "end_time": "2025-04-07T06:00:46.852757Z",
     "start_time": "2025-04-07T06:00:46.836364Z"
    }
   },
   "cell_type": "code",
   "source": [
    "poly = PolynomialFeatures(include_bias=False)\n",
    "poly.fit([[2, 3]])\n",
    "print(poly.transform([[2, 3]]))"
   ],
   "id": "fa9f54138e1c3c87",
   "outputs": [
    {
     "name": "stdout",
     "output_type": "stream",
     "text": [
      "[[2. 3. 4. 6. 9.]]\n"
     ]
    }
   ],
   "execution_count": 29
  },
  {
   "metadata": {
    "ExecuteTime": {
     "end_time": "2025-04-07T06:00:46.867085Z",
     "start_time": "2025-04-07T06:00:46.853764Z"
    }
   },
   "cell_type": "code",
   "source": [
    "poly = PolynomialFeatures(include_bias=False)\n",
    "\n",
    "poly.fit(train_input)\n",
    "train_poly = poly.transform(train_input)"
   ],
   "id": "8ce3783cf16cd0af",
   "outputs": [],
   "execution_count": 30
  },
  {
   "metadata": {
    "ExecuteTime": {
     "end_time": "2025-04-07T06:00:46.881288Z",
     "start_time": "2025-04-07T06:00:46.868118Z"
    }
   },
   "cell_type": "code",
   "source": "print(train_poly.shape)",
   "id": "1e2e0c198f59b505",
   "outputs": [
    {
     "name": "stdout",
     "output_type": "stream",
     "text": [
      "(42, 9)\n"
     ]
    }
   ],
   "execution_count": 31
  },
  {
   "metadata": {},
   "cell_type": "markdown",
   "source": [
    "### **`PolynomialFeatures` là gì?**  \n",
    "\n",
    "`PolynomialFeatures` trong `sklearn.preprocessing` là một công cụ giúp tạo ra các **đặc trưng đa thức** từ dữ liệu đầu vào. Điều này rất hữu ích trong các mô hình hồi quy đa thức (Polynomial Regression) hoặc trong việc mở rộng không gian đặc trưng để cải thiện hiệu suất của mô hình Machine Learning.  \n",
    "\n",
    "---\n",
    "\n",
    "## **1. Cách hoạt động của `PolynomialFeatures`**  \n",
    "\n",
    "Khi bạn có một tập dữ liệu với các đặc trưng đầu vào \\( X = [x_1, x_2] \\), `PolynomialFeatures` sẽ tạo ra **các đặc trưng mới** bằng cách kết hợp và nâng lũy thừa các đặc trưng cũ.\n",
    "\n",
    "Ví dụ: Nếu \\( X = [x_1, x_2] \\) và bạn đặt **degree = 2**, thì `PolynomialFeatures` sẽ tạo ra các đặc trưng mới như sau:  \n",
    "\n",
    "\\[\n",
    "[1, x_1, x_2, x_1^2, x_1 x_2, x_2^2]\n",
    "\\]\n",
    "\n",
    "---\n",
    "\n",
    "## **2. Ví dụ minh họa**\n",
    "### **Ví dụ 1: Biến đổi đặc trưng với `degree=2`**\n",
    "```python\n",
    "from sklearn.preprocessing import PolynomialFeatures\n",
    "\n",
    "X = [[2, 3]]  # Dữ liệu đầu vào\n",
    "\n",
    "poly = PolynomialFeatures(degree=2)  # Tạo các đặc trưng bậc 2\n",
    "X_poly = poly.fit_transform(X)  # Biến đổi dữ liệu\n",
    "\n",
    "print(X_poly)\n",
    "```\n",
    "🔹 **Đầu ra:**  \n",
    "```\n",
    "[[1. 2. 3. 4. 6. 9.]]\n",
    "```\n",
    "📌 **Giải thích:**  \n",
    "- `1` : Bias (hệ số tự do)  \n",
    "- `2` : \\( x_1 \\)  \n",
    "- `3` : \\( x_2 \\)  \n",
    "- `4` : \\( x_1^2 \\)  \n",
    "- `6` : \\( x_1 x_2 \\)  \n",
    "- `9` : \\( x_2^2 \\)  \n",
    "\n",
    "---\n",
    "\n",
    "### **3. Các tham số quan trọng của `PolynomialFeatures`**\n",
    "| Tham số | Ý nghĩa |\n",
    "|---------|---------|\n",
    "| `degree` | Xác định bậc của đa thức (mặc định là 2). |\n",
    "| `include_bias` | Nếu `True`, thêm hệ số tự do (bias = 1). Nếu `False`, không thêm. |\n",
    "| `interaction_only` | Nếu `True`, chỉ tạo ra các tích giữa các biến mà không bao gồm các lũy thừa. |\n",
    "\n",
    "---\n",
    "\n",
    "### **4. Ứng dụng của `PolynomialFeatures`**\n",
    "✅ **Hồi quy đa thức (Polynomial Regression)**: Giúp mô hình học tốt hơn các quan hệ phi tuyến.  \n",
    "✅ **Tăng cường không gian đặc trưng**: Giúp thuật toán phân loại hoạt động tốt hơn trên dữ liệu không tuyến tính.  \n",
    "✅ **Sử dụng trong SVM (Support Vector Machine)**: Giúp biến đổi dữ liệu để SVM có thể phân tách tuyến tính trong không gian mới.  \n",
    "\n",
    "💡 **Kết luận**: `PolynomialFeatures` giúp mở rộng tập đặc trưng bằng cách tạo ra các đặc trưng mới từ đặc trưng cũ, giúp mô hình học tốt hơn trên dữ liệu phi tuyến. 🚀"
   ],
   "id": "2fdd502b57bd712e"
  },
  {
   "metadata": {
    "ExecuteTime": {
     "end_time": "2025-04-07T06:00:46.893190Z",
     "start_time": "2025-04-07T06:00:46.882295Z"
    }
   },
   "cell_type": "code",
   "source": "poly.get_feature_names_out()",
   "id": "693f18f5cfb15548",
   "outputs": [
    {
     "data": {
      "text/plain": [
       "array(['x0', 'x1', 'x2', 'x0^2', 'x0 x1', 'x0 x2', 'x1^2', 'x1 x2',\n",
       "       'x2^2'], dtype=object)"
      ]
     },
     "execution_count": 32,
     "metadata": {},
     "output_type": "execute_result"
    }
   ],
   "execution_count": 32
  },
  {
   "metadata": {
    "ExecuteTime": {
     "end_time": "2025-04-07T06:00:46.907037Z",
     "start_time": "2025-04-07T06:00:46.894197Z"
    }
   },
   "cell_type": "code",
   "source": "test_poly = poly.transform(test_input)",
   "id": "9e87c5a3343a6adf",
   "outputs": [],
   "execution_count": 33
  },
  {
   "metadata": {
    "ExecuteTime": {
     "end_time": "2025-04-07T06:00:46.961441Z",
     "start_time": "2025-04-07T06:00:46.908045Z"
    }
   },
   "cell_type": "code",
   "source": [
    "from sklearn.linear_model import LinearRegression\n",
    "\n",
    "lr = LinearRegression()\n",
    "lr.fit(train_poly, train_target)\n",
    "print(lr.score(train_poly, train_target))"
   ],
   "id": "7011eb056d2339af",
   "outputs": [
    {
     "name": "stdout",
     "output_type": "stream",
     "text": [
      "0.9903183436982126\n"
     ]
    }
   ],
   "execution_count": 34
  },
  {
   "metadata": {
    "ExecuteTime": {
     "end_time": "2025-04-07T06:00:46.986654Z",
     "start_time": "2025-04-07T06:00:46.962446Z"
    }
   },
   "cell_type": "code",
   "source": "print(lr.score(test_poly, test_target))",
   "id": "28158c8730fd1853",
   "outputs": [
    {
     "name": "stdout",
     "output_type": "stream",
     "text": [
      "0.9714559911594125\n"
     ]
    }
   ],
   "execution_count": 35
  },
  {
   "metadata": {
    "ExecuteTime": {
     "end_time": "2025-04-07T06:00:47.002393Z",
     "start_time": "2025-04-07T06:00:46.987660Z"
    }
   },
   "cell_type": "code",
   "source": [
    "poly = PolynomialFeatures(degree=5, include_bias=False)\n",
    "\n",
    "poly.fit(train_input)\n",
    "train_poly = poly.transform(train_input)\n",
    "test_poly = poly.transform(test_input)\n",
    "print(train_poly.shape, test_poly.shape)"
   ],
   "id": "c440888deaebc2dc",
   "outputs": [
    {
     "name": "stdout",
     "output_type": "stream",
     "text": [
      "(42, 55) (14, 55)\n"
     ]
    }
   ],
   "execution_count": 36
  },
  {
   "metadata": {
    "ExecuteTime": {
     "end_time": "2025-04-07T06:00:47.053074Z",
     "start_time": "2025-04-07T06:00:47.002900Z"
    }
   },
   "cell_type": "code",
   "source": [
    "lr.fit(train_poly, train_target)\n",
    "print(lr.score(train_poly, train_target))\n",
    "print(lr.score(test_poly, test_target))"
   ],
   "id": "97bd7f321682ec09",
   "outputs": [
    {
     "name": "stdout",
     "output_type": "stream",
     "text": [
      "0.9999999999997232\n",
      "-144.40564483377855\n"
     ]
    }
   ],
   "execution_count": 37
  },
  {
   "metadata": {
    "ExecuteTime": {
     "end_time": "2025-04-07T06:00:47.057824Z",
     "start_time": "2025-04-07T06:00:47.053074Z"
    }
   },
   "cell_type": "code",
   "source": [
    "from sklearn.preprocessing import StandardScaler\n",
    "ss = StandardScaler()\n",
    "ss.fit(train_poly, train_target)\n",
    "train_scaled = ss.transform(train_poly)\n",
    "test_scaled = ss.transform(test_poly)"
   ],
   "id": "10b4a3191b65280d",
   "outputs": [],
   "execution_count": 38
  },
  {
   "metadata": {
    "ExecuteTime": {
     "end_time": "2025-04-07T06:00:47.110331Z",
     "start_time": "2025-04-07T06:00:47.057824Z"
    }
   },
   "cell_type": "code",
   "source": [
    "from sklearn.linear_model import Ridge\n",
    "ridge = Ridge()\n",
    "ridge.fit(train_scaled, train_target)\n",
    "print(ridge.score(train_scaled, train_target))\n",
    "print(ridge.score(test_scaled, test_target))"
   ],
   "id": "d34ffbc6f86d80c9",
   "outputs": [
    {
     "name": "stdout",
     "output_type": "stream",
     "text": [
      "0.9896101671037343\n",
      "0.9790693977615387\n"
     ]
    }
   ],
   "execution_count": 39
  },
  {
   "metadata": {
    "ExecuteTime": {
     "end_time": "2025-04-07T06:13:44.316587Z",
     "start_time": "2025-04-07T06:13:44.313619Z"
    }
   },
   "cell_type": "code",
   "source": [
    "import matplotlib.pyplot as plt\n",
    "\n",
    "train_scores = []\n",
    "test_scores = []"
   ],
   "id": "5808e51044e9ac01",
   "outputs": [],
   "execution_count": 40
  },
  {
   "metadata": {
    "ExecuteTime": {
     "end_time": "2025-04-07T06:15:45.426663Z",
     "start_time": "2025-04-07T06:15:45.413128Z"
    }
   },
   "cell_type": "code",
   "source": [
    "alpha_list = [0.001, 0.01, 0.1, 1, 10, 100]\n",
    "\n",
    "for alpha in alpha_list:\n",
    "    ridge = Ridge(alpha=alpha)\n",
    "    ridge.fit(train_scaled, train_target)\n",
    "    train_scores.append(ridge.score(train_scaled, train_target))\n",
    "    test_scores.append(ridge.score(test_scaled, test_target))\n"
   ],
   "id": "8cb572f45ca2f1a5",
   "outputs": [],
   "execution_count": 42
  },
  {
   "metadata": {
    "ExecuteTime": {
     "end_time": "2025-04-07T06:16:21.681256Z",
     "start_time": "2025-04-07T06:16:21.581828Z"
    }
   },
   "cell_type": "code",
   "source": [
    "plt.plot(np.log10(alpha_list), train_scores, label='Train')\n",
    "plt.plot(np.log10(alpha_list), test_scores, label='Test')\n",
    "plt.xlabel('log10(alpha)')\n",
    "plt.ylabel('R² Score')\n",
    "plt.title('Ridge Regression')\n",
    "plt.legend()\n",
    "plt.show()"
   ],
   "id": "fd80e06febc8a971",
   "outputs": [
    {
     "data": {
      "text/plain": [
       "<Figure size 640x480 with 1 Axes>"
      ],
      "image/png": "[encoded data removed]"
     },
     "metadata": {},
     "output_type": "display_data"
    }
   ],
   "execution_count": 43
  },
  {
   "metadata": {
    "ExecuteTime": {
     "end_time": "2025-04-07T06:20:10.731496Z",
     "start_time": "2025-04-07T06:20:10.725447Z"
    }
   },
   "cell_type": "code",
   "source": [
    "ridge = Ridge(alpha=0.1)\n",
    "ridge.fit(train_scaled, train_target)\n",
    "print(ridge.score(train_scaled, train_target))\n",
    "print(ridge.score(test_scaled, test_target))"
   ],
   "id": "2506855c64d6c704",
   "outputs": [
    {
     "name": "stdout",
     "output_type": "stream",
     "text": [
      "0.9903815817570367\n",
      "0.9827976465386928\n"
     ]
    }
   ],
   "execution_count": 44
  },
  {
   "metadata": {
    "ExecuteTime": {
     "end_time": "2025-04-07T06:24:05.434399Z",
     "start_time": "2025-04-07T06:24:05.423402Z"
    }
   },
   "cell_type": "code",
   "source": [
    "from sklearn.linear_model import Lasso\n",
    "lasso = Lasso()\n",
    "\n",
    "lasso.fit(train_scaled, train_target)\n",
    "print(lasso.score(train_scaled, train_target))"
   ],
   "id": "de218edaddd64c5",
   "outputs": [
    {
     "name": "stdout",
     "output_type": "stream",
     "text": [
      "0.989789897208096\n"
     ]
    }
   ],
   "execution_count": 45
  },
  {
   "metadata": {
    "ExecuteTime": {
     "end_time": "2025-04-07T06:25:18.283548Z",
     "start_time": "2025-04-07T06:25:18.279023Z"
    }
   },
   "cell_type": "code",
   "source": "print(lasso.score(test_scaled, test_target))",
   "id": "3eab79b18b587321",
   "outputs": [
    {
     "name": "stdout",
     "output_type": "stream",
     "text": [
      "0.9800593698421883\n"
     ]
    }
   ],
   "execution_count": 46
  },
  {
   "metadata": {
    "ExecuteTime": {
     "end_time": "2025-04-07T06:27:58.494645Z",
     "start_time": "2025-04-07T06:27:58.394526Z"
    }
   },
   "cell_type": "code",
   "source": [
    "train_scores = []\n",
    "test_scores = []\n",
    "\n",
    "alpha_list = [0.001, 0.01, 0.1, 1, 10, 100]\n",
    "for alpha in alpha_list:\n",
    "    lasso = Lasso(alpha=alpha, max_iter=10000)\n",
    "    lasso.fit(train_scaled, train_target)\n",
    "    train_scores.append(lasso.score(train_scaled, train_target))\n",
    "    test_scores.append(lasso.score(test_scaled, test_target))"
   ],
   "id": "16d98705724c9108",
   "outputs": [
    {
     "name": "stderr",
     "output_type": "stream",
     "text": [
      "D:\\Python\\venv\\Lib\\site-packages\\sklearn\\linear_model\\_coordinate_descent.py:695: ConvergenceWarning: Objective did not converge. You might want to increase the number of iterations, check the scale of the features or consider increasing regularisation. Duality gap: 1.878e+04, tolerance: 5.183e+02\n",
      "  model = cd_fast.enet_coordinate_descent(\n",
      "D:\\Python\\venv\\Lib\\site-packages\\sklearn\\linear_model\\_coordinate_descent.py:695: ConvergenceWarning: Objective did not converge. You might want to increase the number of iterations, check the scale of the features or consider increasing regularisation. Duality gap: 1.297e+04, tolerance: 5.183e+02\n",
      "  model = cd_fast.enet_coordinate_descent(\n"
     ]
    }
   ],
   "execution_count": 48
  },
  {
   "metadata": {
    "ExecuteTime": {
     "end_time": "2025-04-07T06:28:51.326306Z",
     "start_time": "2025-04-07T06:28:51.237926Z"
    }
   },
   "cell_type": "code",
   "source": [
    "plt.plot(np.log10(alpha_list), train_scores, label='Train')\n",
    "plt.plot(np.log10(alpha_list), test_scores, label='Test')\n",
    "plt.xlabel('log10(alpha)')\n",
    "plt.ylabel('R² Score')\n",
    "plt.title('Lasso Regression')\n",
    "plt.legend()\n",
    "plt.show()"
   ],
   "id": "1e1489a94161c34e",
   "outputs": [
    {
     "data": {
      "text/plain": [
       "<Figure size 640x480 with 1 Axes>"
      ],
      "image/png": "[encoded data removed]"
     },
     "metadata": {},
     "output_type": "display_data"
    }
   ],
   "execution_count": 49
  },
  {
   "metadata": {
    "ExecuteTime": {
     "end_time": "2025-04-07T06:51:56.943298Z",
     "start_time": "2025-04-07T06:51:56.863713Z"
    }
   },
   "cell_type": "code",
   "source": [
    "lasso = Lasso(alpha=10)\n",
    "lasso.fit(train_scaled, train_target)\n",
    "print(lasso.score(train_scaled, train_target))\n",
    "print(lasso.score(test_scaled, test_target))"
   ],
   "id": "b64082c52c8a8682",
   "outputs": [
    {
     "name": "stdout",
     "output_type": "stream",
     "text": [
      "0.9888067471131867\n",
      "0.9824470598706695\n"
     ]
    }
   ],
   "execution_count": 50
  },
  {
   "metadata": {
    "ExecuteTime": {
     "end_time": "2025-04-07T06:53:00.750508Z",
     "start_time": "2025-04-07T06:53:00.744327Z"
    }
   },
   "cell_type": "code",
   "source": "print(np.sum(lasso.coef_ == 0))",
   "id": "361ed812e66c0068",
   "outputs": [
    {
     "name": "stdout",
     "output_type": "stream",
     "text": [
      "40\n"
     ]
    }
   ],
   "execution_count": 51
  }
 ],
 "metadata": {
  "kernelspec": {
   "display_name": "Python 3",
   "language": "python",
   "name": "python3"
  },
  "language_info": {
   "codemirror_mode": {
    "name": "ipython",
    "version": 2
   },
   "file_extension": ".py",
   "mimetype": "text/x-python",
   "name": "python",
   "nbconvert_exporter": "python",
   "pygments_lexer": "ipython2",
   "version": "2.7.6"
  }
 },
 "nbformat": 4,
 "nbformat_minor": 5
}
